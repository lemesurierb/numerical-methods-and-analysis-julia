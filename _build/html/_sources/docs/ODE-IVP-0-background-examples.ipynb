{
 "cells": [
  {
   "cell_type": "markdown",
   "id": "63cd6c86-b1c0-467f-8de2-8738df9a8629",
   "metadata": {},
   "source": [
    "# Background and Some Examples"
   ]
  },
  {
   "cell_type": "markdown",
   "id": "38eb957f-3afb-49b7-a738-6c25f5c9c213",
   "metadata": {},
   "source": [
    "## The Basic ODE Initial Value Problem\n",
    "\n",
    "We consider the problem of solving (approximately) the ordinary differential equation\n",
    "\n",
    "$$\\frac{du}{dt} = f(t, u(t)), a \\leq t \\leq b$$  (odeivp)\n",
    "\n",
    "with the *initial condition*\n",
    "\n",
    "$$u(a) = u_0$$  (ivp)\n",
    "\n",
    "I will follow the common custom of referring to the independent variable as \"time\".\n",
    "\n",
    "For now, $u(t)$ is real-valued, but little will change when we later let it be vector-valued (and/or complex-valued)."
   ]
  },
  {
   "cell_type": "markdown",
   "id": "42e0d316-6031-43c1-924a-c0358872ff79",
   "metadata": {},
   "source": [
    "<a name=\"IVP_notation\"></a>\n",
    "### Notation for the solution of an initial value problem\n",
    "\n",
    "Sometimes, we need to be more careful and explicit in describing the function that solves the above initial value problem;\n",
    "then the input *parameters* $a$ and $u_0 = u(a)$ will be included of the function's formula:\n",
    "\n",
    "$$u(t) = u(t; a, u_0)$$\n",
    "\n",
    "(It is standard mathematical convention to separate *parameters* like $a$ and $u_0$ from *variables* like $t$ by putting the former after a semicolon."
   ]
  },
  {
   "cell_type": "markdown",
   "id": "b73e3554-e123-4a1a-8aaa-8caed87e553b",
   "metadata": {
    "tags": []
   },
   "source": [
    "(ode-examples)=\n",
    "## Examples\n",
    "\n",
    "Throughout this chapter, numerical methods will be demonstrated and compared based on the following fairly simple example equations."
   ]
  },
  {
   "cell_type": "markdown",
   "id": "047753e1-a11c-4cf6-ab75-d5a9b6d7d374",
   "metadata": {},
   "source": [
    "### Some single first order equations"
   ]
  },
  {
   "cell_type": "markdown",
   "id": "27a34bec-60f0-4cdd-b6d7-c27fb5d28677",
   "metadata": {
    "tags": []
   },
   "source": [
    "```{prf:example} Integration\n",
    ":label: ode-integration\n",
    "\n",
    "If the derivative depends only on the independent variable $t$, so that\n",
    "\n",
    "$$\\frac{du}{dt} = f(t), a \\leq t \\leq b$$ (equation-integration)\n",
    "```"
   ]
  },
  {
   "cell_type": "markdown",
   "id": "31ea6abe-b268-4f1c-a21a-cb6d08b44565",
   "metadata": {
    "tags": []
   },
   "source": [
    "the solution is given by integration:\n",
    "\n",
    "$$u(t) = u_0 + \\int_a^t f(s)\\, ds.$$\n",
    "\n",
    "In particular, with $u_0 = 0$ the value at $b$ is\n",
    "\n",
    "$$u(t) = \\int_a^b f(t)\\, dt,$$\n",
    "and this gives us a back-door way to use numerical methods for solving ODEs to evaluate definite integrals."
   ]
  },
  {
   "cell_type": "markdown",
   "id": "d07f13f4-492a-4ccb-94c3-e47f0459c1b7",
   "metadata": {},
   "source": [
    "```{prf:example} The simplest \"genuine\" ODE\n",
    ":label: ode-simplest-genuine\n",
    "\n",
    "The simplest case with $u$ present in $f$ is $f(t, u) = f(u) = u$.\n",
    "But it does not hurt to add a constant, so:\n",
    "\n",
    "$$ \\frac{du}{dt} = k u,\\; k \\text{ a constant.} $$ (equation-simplest-real-ode)\n",
    "```"
   ]
  },
  {
   "cell_type": "markdown",
   "id": "a3183ac5-26d9-4293-aa95-6e202b4ebfe0",
   "metadata": {},
   "source": [
    "The solution is\n",
    "\n",
    "$$ u(t) = u_0 e^{k(t-a)} $$\n",
    "\n",
    "We will see that this simple example contains the essence of many ideas that are relevant far more generally."
   ]
  },
  {
   "cell_type": "markdown",
   "id": "28c3ddd0-edfe-4b57-b4bf-674607ef78df",
   "metadata": {},
   "source": [
    "```{prf:example} A nonlinear equation, with solutions that blow-up in a finite time\n",
    ":label: ode-nonlinear\n",
    "\n",
    "In the previous examples, $f(t, u)$ is linear in $u$ (consider $t$ as fixed);\n",
    "nonlinearities can lead to more difficult behavior.\n",
    "The equation\n",
    "\n",
    "$$\\frac{du}{dt} = u^2, \\, u(a) = u_0$$ (equation-nonlinear-ode)\n",
    "```"
   ]
  },
  {
   "cell_type": "markdown",
   "id": "17da15da-b031-4727-869d-db1b31315bc2",
   "metadata": {},
   "source": [
    "This can be solved by separation of variables — or for now you can just verify the solution\n",
    "\n",
    "$$ u(t) = \\frac{1}{T - t}, \\, T = a + 1/u_0. $$\n",
    "\n",
    "Note that if $u_0 > 0$, the only exists for $t < T$.\n",
    "(The solution is also valid for $T > 0$, but that part has no connection to the initial data at $t=a$.)"
   ]
  },
  {
   "cell_type": "markdown",
   "id": "4a709cc3-1b39-4694-93e4-aa748f927d24",
   "metadata": {},
   "source": [
    "{prf:ref}`ode-nonlinear` warns us that the IVP might not be **well-posed** when we set the interval $[a, b]$ in advance:\n",
    "all we can guarantee in general is that a solution exists up to some time $b$, $b > a$."
   ]
  },
  {
   "cell_type": "markdown",
   "id": "38c2a7af-5746-4d80-a91a-a9a3d23c5dec",
   "metadata": {},
   "source": [
    "```{prf:example} A \"stiff\" equation with disparate time scales\n",
    ":label: ode-stiff\n",
    "\n",
    "One common problem in practical situations is differential equations where some phenomena happen on a very fast time scale, but only ever at very small amplitudes, so they have very little relevance to the overall solution.\n",
    "One example is decriptions of some chemical reactions, where some reaction products (like free radicals) are producd in tiny quantities and break down very rapidly, so they change on a very fast time scale but are scarcely relevant to the overall solution.\n",
    "\n",
    "This disparity of time-sales is called *stiffness*, from the analogy of a mechanical system in which some components are very stiff and so vibrate at very high frequencies, but typically only at very small amplitudes, or very quicky damped away, so that they can often be safely described by assuming that those stiff parts are completely rigid — do not move at all.\n",
    "\n",
    "One equation that illustrates this feature is\n",
    "\n",
    "$$\\frac{du}{dt} = -\\sin t -k(u - \\cos t)$$  (equation-stiff-ode)\n",
    "where $k$ is large and positive.\n",
    "```"
   ]
  },
  {
   "cell_type": "markdown",
   "id": "941bd4fb-02d7-496b-8ddc-4e9725a611a7",
   "metadata": {},
   "source": [
    "This has the family of solutions is\n",
    "\n",
    "$$u(t) = \\cos t + c e^{-k(t-a)}$$\n",
    "with $c = u_0 - \\cos(a)$ for the initial value problem $u(a) = u_0$.\n",
    "\n",
    "These all get close to $\\cos t$ quickly and then stay nearby, but with a rapid and rapidly decaying \"transient\" $c e^{-k t}$.\n",
    "\n",
    "Many of the most basic and widely use numerical methods (including Euler's Method thet we meet soon) need to use very small time steps to handle that fast transient, even when it is very small because $u_0 \\approx 1$.\n",
    "\n",
    "On the other hand there are methods that \"supress\" these transients, allowing use of larger time steps while still getting an accurate description of the main, slower, phenomena.\n",
    "The simplest of these is the *Backward Euler Method* that we will see in a later section."
   ]
  },
  {
   "cell_type": "markdown",
   "id": "d1c5e71e-bedd-456d-9c07-22422e91edad",
   "metadata": {},
   "source": [
    "### Some systems and higher order equations"
   ]
  },
  {
   "cell_type": "markdown",
   "id": "e1685449-3f30-4967-a6d6-916a9e9c3558",
   "metadata": {},
   "source": [
    "```{prf:example} Motion of a (Damped) Mass-Spring System in One Dimension\n",
    ":label: ode-damped-mass-spring\n",
    "\n",
    "A simple mathematical model of a damped mass-spring system is\n",
    "\n",
    "$$\n",
    "\\begin{split}\n",
    "M \\frac{d^2 u}{d t^2} &= -K u - D \\frac{d u}{d t}\n",
    "\\\\\n",
    "& \\text{with initial conditions}\n",
    "\\\\\n",
    "u(a) &= u_0\n",
    "\\\\\n",
    "\\left. \\frac{dy}{dt} \\right|_{t=a} &= v_0\n",
    "\\end{split}\n",
    "$$\n",
    "\n",
    "where $K$ is the spring constant and $D$ is the coefficient of friction, or drag.\n",
    "\n",
    "The first order system form can be left in terms of $y$ and $y'$ as\n",
    "\n",
    "$$\n",
    "\\frac{d}{dt} \\left[\\begin{array}{c} u \\\\ u' \\end{array}\\right] =\n",
    "\\left[\\begin{array}{cc} 0 & 1 \\\\ -K & -D \\end{array}\\right] \\left[\\begin{array}{cc} u \\\\ u' \\end{array}\\right]\n",
    "$$\n",
    "```"
   ]
  },
  {
   "cell_type": "markdown",
   "id": "4cfa0aa7-865d-41c2-9281-48cd6e2780a2",
   "metadata": {},
   "source": [
    "#### Exact solutions\n",
    "\n",
    "For testing of numerical methods in this and subsequent sections, here are the exact solutions.\n",
    "\n",
    "They depend on whether\n",
    "- $D < D_0 := 2 \\sqrt{K M}$: *underdamped*,\n",
    "- $D > D_0$ : *overdamped*, or\n",
    "- $D = D_0$ : *critically damped*.\n",
    "\n",
    "We will mostly explore the first two more \"generic\" cases."
   ]
  },
  {
   "cell_type": "markdown",
   "id": "7de94a81-9f63-4f5d-a9f4-cbb7ae9b1e40",
   "metadata": {},
   "source": [
    "For the underdamped case, the general solution is\n",
    "\n",
    "$$\n",
    "u(t) = e^{-(D/(2M)) (t-a)} [ A \\cos(\\omega(t-a)) + B \\sin (\\omega(t-a))],\n",
    "\\quad \\omega = \\frac{\\sqrt{4KM - D^2}}{2M}\n",
    "$$\n",
    "\n",
    "For the above initial conditions, $A = u_0$ and $B = (v_0 + u_0 D/(2M)/\\omega$."
   ]
  },
  {
   "cell_type": "markdown",
   "id": "d25be7c7-c71d-43d1-822e-67b0ff461a13",
   "metadata": {},
   "source": [
    "An important special case of this is the undamped system $M \\frac{d^2 u}{d t^2} = -K u$\n",
    "for which the solutions become\n",
    "\n",
    "$$\n",
    "u(t) = A \\cos(\\omega(t-a)) + B \\sin (\\omega(t-a)), \\quad \\omega =\\sqrt{K/M}\n",
    "$$\n",
    "\n",
    "and it can be verified that the \"energy\"\n",
    "\n",
    "$$\n",
    "E(t) = \\frac{M}{2}(y'(t))^2 + \\frac{K}{2}(u(t))^2\n",
    "= \\frac{1}{2}(K u_1^2 + {M}u_2^2)\n",
    "$$\n",
    "\n",
    "is conserved: $dE/dt = 0$.\n",
    "Conserved quantities can provide a useful check of the acccuracy of numerical method, so we will look at this below."
   ]
  },
  {
   "cell_type": "markdown",
   "id": "8ad8738f-f373-4b13-8b07-2101f277862b",
   "metadata": {},
   "source": [
    "For the overdamped case, the general solution is\n",
    "\n",
    "$$\n",
    "u(t) = A e^{\\lambda_+ (t-a)} + B e^{\\lambda_- (t-a)},\n",
    "\\quad\n",
    "\\lambda_\\pm = \\frac{-D \\pm \\Delta}{2M},\\; \\Delta = \\sqrt{D^2 - 4KM}\n",
    "$$\n",
    "\n",
    "For the above initial conditions,\n",
    "$A = M(v_0 - \\lambda_- u_0)/\\Delta$ and $B = u_0 - A$."
   ]
  },
  {
   "cell_type": "markdown",
   "id": "ff7efa74-52bf-4d4f-bd69-0650303e953d",
   "metadata": {},
   "source": [
    "```{prf:remark} Stiffness\n",
    ":label: stiffness\n",
    "\n",
    "Fixing $M$ and scaling $K = D \\to \\infty$, $\\Delta = D \\sqrt{1 - 4M/D} \\approx D - 2M$ so\n",
    "\n",
    "$$\n",
    "\\lambda_- \\approx -\\frac{D}{M} + 1 \\to -\\infty,\n",
    "\\quad\n",
    "\\lambda_+ \\approx -1.\n",
    "$$\n",
    "\n",
    "Thus the time scales of the two exponential decays become hugely different,\n",
    "with the fast term $B e^{\\lambda_- (t-a)}$ becoming negligible compared to the slower decaying $A e^{\\lambda_+ (t-a)}$.\n",
    "\n",
    "This is a simple example of **stiffness**, and influences the choice of a good numerical method for solving such equations.\n",
    "```"
   ]
  },
  {
   "cell_type": "markdown",
   "id": "93ee06d1-6661-479d-aac5-e8cd818ad8c8",
   "metadata": {},
   "source": [
    "The variable can be rescaled to the case $K = M = 1$, so that will be done from now on,\n",
    "but of course you can easily experiment with other parameter values by editing copies of the Jupyter notebooks."
   ]
  },
  {
   "cell_type": "markdown",
   "id": "b5b348ac-0f14-4d06-ac41-edbb279b3677",
   "metadata": {},
   "source": [
    "```{prf:example} The Freely Rotating Pendulum\n",
    ":label: ode-freely-rotating-pendulum\n",
    "\n",
    "Both the above equations are constant coefficient linear, which is convenient for the sake of having exact solution to compare with,\n",
    "but one famous nonlinear example is worth exporing too.\n",
    "\n",
    "A pendulum with mass $m$ concentrated at a distance $L$ from the axis of rotation and that can rotate freely in a vertical plane about that axis and with possible friction proportional to $D$, can be modeled in terms of its angular position $\\theta$ and angular velocity $\\omega = \\theta'$ by\n",
    "\n",
    "$$ M L \\theta'' = -M g\\sin\\theta - D L \\theta',  \\quad \\theta(0) = \\theta_0, \\theta'(0) = \\omega_0 $$\n",
    "\n",
    "or in system form\n",
    "\n",
    "$$\n",
    "\\frac{d}{dt} \\left[\\begin{array}{c} \\theta \\\\ \\omega \\end{array}\\right] =\n",
    "    \\left[\\begin{array}{c}\\omega \\\\ -\\frac{g}{L}\\sin\\theta -\\frac{D}{M} \\omega \\end{array}\\right]\n",
    "$$\n",
    "\n",
    ".\n",
    "```"
   ]
  },
  {
   "cell_type": "markdown",
   "id": "c8db8432-e0f3-4e36-af76-4f9325828b0c",
   "metadata": {},
   "source": [
    "These notes will mostly look at the frictionelss case $D=0$, which has conserved energy\n",
    "\n",
    "$$ E(\\theta, \\omega) = \\frac{ML}{2} \\omega^2 - M g\\cos\\theta $$\n",
    "\n",
    "For this, the solution fall into three qualitatively different cases depending on whether the energy is less than, equal to, or greater than\n",
    "the \"critical energy\" $Mg$,\n",
    "which is the energy of the unstable stationary solutions $\\theta(t) = \\pi (\\mod 2\\pi)$, $\\omega(t) = 0$: \"balancing at the top\":\n",
    "\n",
    "- For $E < Mg$, a solution can never reach the top, so the pendulum rocks back and forth, reach maximum height at\n",
    "$\\theta = \\pm \\arccos(-E/(Mg))$\n",
    "\n",
    "- For $E > Mg$, solutions have angular speed $|\\omega| \\geq \\sqrt{E -Mg} > 0$ so it never drops to zero, and so the direction of rotation can never reverse:\n",
    "solutions rotate in one direction for ever.\n",
    "\n",
    "- For $E = Mg$, one special type of solution is those up-side down stationary ones.\n",
    "Any other solution always has $|\\omega| = \\sqrt{E - Mg\\cos\\theta} > 0$, and so never stops or reverses direction but instead approaches the above stationary point asymptotically both as $t \\to \\infty$ and $t \\to \\infty$.\n",
    "To visualize concretely, the solution starting at the bottom with $\\theta(0) = 0$, $\\omega(0) = \\sqrt{2g/L}$ has\n",
    "$\\theta(t) \\to \\pm \\pi$ and $\\omega(t) \\to 0$ as $t \\to \\pm\\infty$."
   ]
  },
  {
   "cell_type": "markdown",
   "id": "ca6478ba-8279-4620-88c1-a30e9d8edc92",
   "metadata": {},
   "source": [
    "```{prf:remark} Separatrices\n",
    ":label: separatrices\n",
    "\n",
    "This last kind of special solution is known as a **separatrix** due to separating the other two qualitatively different sorts of solution.\n",
    "They are also known as **heteroclinic orbits**, for \"asymptotically\" starting and ending at different stationary solutions in each time direction\n",
    "— or **homoclinic** if you consider the angle as a \"mod $2\\pi$\" value describing a position,\n",
    "so that $\\theta = \\pm\\pi$ are the same location and the solutions start and end at the same stationary point.\n",
    "```"
   ]
  },
  {
   "cell_type": "markdown",
   "id": "dd0a9537-a16b-4965-9c8e-e86ba22dec54",
   "metadata": {},
   "source": [
    "```{prf:example} A \"Fast-Slow\" Equation\n",
    ":label: ode-fast-slow\n",
    "\n",
    "The equation\n",
    "\n",
    "$$ u'' + (K+1) u' + K u = 0, \\quad u(0) = u_0, u'(0) = v_0 $$\n",
    "\n",
    "which has first order system form\n",
    "\n",
    "$$ \\frac{d}{dt} \\left[\\begin{array}{c} u \\\\ u' \\end{array}\\right] = \\left[\\begin{array}{cc} 0 & 1 \\\\ -K & -(K+1) \\end{array}\\right] \\left[\\begin{array}{c} u \\\\ u' \\end{array}\\right] $$\n",
    "\n",
    ".\n",
    "```"
   ]
  },
  {
   "cell_type": "markdown",
   "id": "63526b94-31f7-41e7-8f9f-6b82f118671b",
   "metadata": {},
   "source": [
    "This has the general solution\n",
    "\n",
    "$$ u(t) = A e^{-t} + B e^{-Kt} $$\n",
    "\n",
    "so for large $K$, it has two very disparate time scales, with only the slower scale of much significance after an initial transient.\n",
    "\n",
    "This is a convenient \"toy\" example for testing two refinements to algorithms:\n",
    "- Variable time step sizes, so that they can be short during the initial transient and longer later, when only the $e^{-t}$ behavior is significant.\n",
    "- Implicit methods that can effectively suppress the fast but extremely small $e^{-kt}$ terms while hanling the larger, slower terms accurately."
   ]
  }
 ],
 "metadata": {
  "kernelspec": {
   "display_name": "Julia 1.8.1",
   "language": "julia",
   "name": "julia-1.8"
  },
  "language_info": {
   "file_extension": ".jl",
   "mimetype": "application/julia",
   "name": "julia",
   "version": "1.8.1"
  }
 },
 "nbformat": 4,
 "nbformat_minor": 5
}
