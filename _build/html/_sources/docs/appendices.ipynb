{
 "cells": [
  {
   "cell_type": "markdown",
   "id": "012859ea-41b1-4d89-a67e-e2c69ebff39a",
   "metadata": {},
   "source": [
    "# Appendices\n",
    "\n",
    "**TO DO:** add an overview of the appendices."
   ]
  }
 ],
 "metadata": {
  "kernelspec": {
   "display_name": "Julia 1.8.1",
   "language": "julia",
   "name": "julia-1.8"
  },
  "language_info": {
   "file_extension": ".jl",
   "mimetype": "application/julia",
   "name": "julia",
   "version": "1.8.1"
  }
 },
 "nbformat": 4,
 "nbformat_minor": 5
}
