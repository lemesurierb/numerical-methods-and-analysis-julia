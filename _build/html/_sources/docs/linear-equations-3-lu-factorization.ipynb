{
 "cells": [
  {
   "cell_type": "markdown",
   "metadata": {},
   "source": [
    "# Solving $Ax = b$ with LU factorization"
   ]
  },
  {
   "cell_type": "markdown",
   "metadata": {},
   "source": [
    "**References:**\n",
    "\n",
    "- Section 2.2 *The LU Factorization*  of {cite}`Sauer`.\n",
    "- Section 6.5 *Matrix Factorizations* of {cite}`Burden-Faires`.\n",
    "- Section 8.1 *Matrix Factorizations* of {cite}`Chenney-Kincaid`."
   ]
  },
  {
   "cell_type": "markdown",
   "metadata": {},
   "source": [
    "## Avoiding repeated calculation, excessive rounding and messy notation: LU factorization\n",
    "\n",
    "Putting aside pivoting for a while, there is another direction in which the algorithm for solving linear systems $Ax=b$ can be improved.\n",
    "It starts with the idea of being more efficient when solving multiple system with the same right-hand side:\n",
    "$A x^{(m)} = b^{(m)}, m=1,2, \\dots$.\n",
    "\n",
    "However it has several other benefits:\n",
    "- allowing a strategy to reduce rounding error, and\n",
    "- a simpler, more elegant mathematical statement.\n",
    "\n",
    "We will see how to merge this with partial pivoting in {doc}`linear-equations-4-plu-factorization`"
   ]
  },
  {
   "cell_type": "markdown",
   "metadata": {},
   "source": [
    "Some useful jargon:\n",
    "\n",
    "```{prf:definition} Triangular matrix\n",
    ":label: triangular-matrix\n",
    "\n",
    "A matrix is **triangular** if all its non-zero elements are either on the main diagonal or to one side of it.\n",
    "There are two possibilities:\n",
    "- Matrix $U$ is **upper triangular** if $u_{ij} = 0$ for all $i > j$.\n",
    "- Matrix $L$ is **lower triangular** if $l_{ij} = 0$ for all $j > i$.\n",
    "\n",
    "One important example of an upper triangular matrix is $U$ formed by row reduction;\n",
    "note well that it is much quicker and easier to solve $Ux = c$ than the original system $Ax=b$ exactly because of its triangular form.\n",
    "\n",
    "We will soon see that the multipliers $l_{ij}$, $i > j$ for row reduction that were introduced in {doc}`linear-equations-1-row-reduction` help to form a very useful lower triangular matrix $L$.\n",
    "```"
   ]
  },
  {
   "cell_type": "markdown",
   "metadata": {},
   "source": [
    "The key to the LU factorization idea is finding a **lower triangular** matrix $L$ and an **upper triangular** matrix $U$ such that $L U = A$, and then using the fact that it is far quicker to solve a linear system when the corresponding matrix is triangular."
   ]
  },
  {
   "cell_type": "markdown",
   "metadata": {},
   "source": [
    "Indeed we will see that, if naive Gaussian elimination for $Ax=b$ succeeds, giving row-reduced form $Ux = c$:\n",
    "1. The matrix $A$ can be factorized as $A = LU$ with $U$ an $n \\times n$ upper triangular matrix and $L$ an $n \\times n$ lower triangular matrix.\n",
    "\n",
    "2. There is a unique such factorization with the further condition that $L$ is **unit lower triangular**, which means the extra requirement that the value on its main diagonal are unity: $l_{k,k} = 1$.\n",
    "This is called the **Doolittle Factorization** of $A$.\n",
    "\n",
    "3. In the Doolittle factorization, the matrix $U$ is the one given by naive Gaussian elimination, and the elements of $L$ below its main diagonal are the multipliers arising in naive Gaussian elimination. (The other elements of $L$, on and above the main diagonal, are the ones and zeros dictated by it being unit lower triangular: the same as for those elements in the $n \\times n$ identity matrix.)\n",
    "\n",
    "4. The transformed right-hand side $c$ arising from naive Gaussian elimination is the solution of the system $Lc = b$, and this is solvable by an procedure caled **forward substitution**, very similar to the backward subsitution used to solve $Ux = c$."
   ]
  },
  {
   "cell_type": "markdown",
   "metadata": {},
   "source": [
    "Putting all this together: if naive Gaussian elimination works for $A$, we can introduce the name $c$ for $Ux$, and note that $Ax = (LU)x = L(Ux) = Lc = b$. Then solving of the system\n",
    "$Ax = b$ can be done in three steps:\n",
    "1. Using $A$, find the Doolittle factors, $L$ and $U$.\n",
    "\n",
    "4. Using $L$ and $b$, solve $Lc = b$ to get $c$. (Forward substitution)\n",
    "\n",
    "5. Using $U$ and $c$, solve $Ux = c$ to get $x$.  (Backward substitution)"
   ]
  },
  {
   "cell_type": "markdown",
   "metadata": {},
   "source": [
    "## The direct method for the Doolittle LU factorization\n",
    "\n",
    "If you believe the above claims, we already have one algorithm for finding an LU factorization; basically, do naive Gaussian elimination, but ignore the right-hand side $b$ until later.\n",
    "However, there is another \"direct\" method, which does not rely on anything we have seen before about Gaussian elimination, and has other advantages as we will see.\n",
    "\n",
    "(If I were to teach linear algebra, I would be tempted to start here and skip Gaussian Elimination!)\n",
    "\n",
    "This method starts by considering the apparently daunting task of solving the $n^2$ simultaneous and nonlinear equations for the initially unknown elements of $L$ and $U$:\n",
    "\n",
    "$$ \\sum_{k=1}^n l_{i,k} u_{k,j} = a_{i,j}\\; 1 \\leq i \\leq n,\\;1 \\leq j \\leq n. $$"
   ]
  },
  {
   "cell_type": "markdown",
   "metadata": {},
   "source": [
    "The first step is to insert the known information; the already-known values of elements of $L$ and $U$.\n",
    "For one thing, the sums above stop when either $k=i$ or $k=j$, whichever comes first,\n",
    "due to all the zeros in $L$ nd $U$:\n",
    "\n",
    "$$ \\sum_{k=1}^{\\min(i,j)} l_{i,k} u_{k,j} = a_{i,j}\\; 1 \\leq i \\leq n,\\;1 \\leq j \\leq n. $$"
   ]
  },
  {
   "cell_type": "markdown",
   "metadata": {},
   "source": [
    "Next, when $i \\leq j$ — so that the sum ends at $k=i$ and involves $l_{i,i}$ — we can use $l_{i,i} = 1$.\n",
    "\n",
    "So break up into two cases:"
   ]
  },
  {
   "cell_type": "markdown",
   "metadata": {},
   "source": [
    "On and above the main diagonal ($i \\leq j$, so $\\min(i,j) = i$):\n",
    "\n",
    "$$\\sum_{k=1}^{i-1}l_{i,k} u_{k,j}+u_{i,j}=a_{i,j} \\quad 1\\leq i \\leq n,\\; i \\leq j \\leq n.$$"
   ]
  },
  {
   "cell_type": "markdown",
   "metadata": {},
   "source": [
    "Below the main diagonal ($i > j$, so $\\min(i,j) = j$):\n",
    "\n",
    "$$\\sum_{k=1}^{j-1} l_{i,k} u_{k,j} + l_{i,j} u_{j,j}= a_{i,j} \\quad 2 \\leq i \\leq n,\\;1 \\leq j \\leq i.$$"
   ]
  },
  {
   "cell_type": "markdown",
   "metadata": {},
   "source": [
    "In each equation, the last term in the sum has been separated, so that we can use them to \"solve\" for an unknown:\n",
    "\n",
    "$$\n",
    "\\begin{split}\n",
    "u_{i,j} &= a_{i,j} - \\sum_{k=1}^{i-1} l_{i,k} u_{k,j} \\quad 1 \\leq i \\leq n,\\;i \\leq j \\leq n.\n",
    "\\\\\n",
    "l_{i,j} &= \\frac{a_{i,j} - \\sum_{k=1}^{j-1} l_{i,k} u_{k,j}}{u_{j,j}} \\quad 2 \\leq i \\leq n,\\;1 \\leq j \\leq i.\n",
    "\\end{split}\n",
    "$$"
   ]
  },
  {
   "cell_type": "markdown",
   "metadata": {},
   "source": [
    "Here comes the characteristic step that gets us from valid equations to a useful algorithm: we can arrange these equations in an order such that all the values at right are determined by an earlier equation!\n",
    "\n",
    "First look at what they say for the first row and first column.\n",
    "\n",
    "With $i=1$ in the first equation, there is no sum, and so:\n",
    "\n",
    "$$u_{1,j}=a_{1,j}, \\quad 1 \\leq j \\leq n,$$\n",
    "which is the familiar fact that the first row is unchanged in naive Gaussian elimination.\n",
    "\n",
    "Next, with $j=1$ in the second equation, there is again no sum:\n",
    "\n",
    "$$l_{i,1} = \\frac{a_{i,1}}{u_{1,1}}, = \\frac{u_{i,1}}{u_{1,1}}, \\quad 2 \\leq i \\leq n,$$\n",
    "which is indeed the multipliers in the first step of naive Gaussian elimination."
   ]
  },
  {
   "cell_type": "markdown",
   "metadata": {},
   "source": [
    "Remember that one way to think of Gaussian elimination is *recursively*: after step $k$, one just applies the same process recursively to the smaller $n-k \\times n-k$ matrix in the bottom-right-hand corner. We can do something similar here; at stage $k$:\n",
    "1. First use the first of the above equations to solve first for row $k$ of $U$, meaning just $u_{k,j}, j \\geq k$,\n",
    "2. Then use the second equation to solve for column $k$ of $L$: $l_{i,k}, i > k$."
   ]
  },
  {
   "cell_type": "markdown",
   "metadata": {},
   "source": [
    "```{prf:algorithm} Doolittle factorization\n",
    ":label: algorithm-Doolittle-factorization\n",
    "\n",
    "Stage $k=1$ is handled by the simpler special equations above, and for the rest:\n",
    "\n",
    "for k from 2 to n\n",
    "<br>\n",
    "$\\quad$ for j from k to n $\\qquad$ *Get the non-zero elements in row $k$ of $U$*\n",
    "<br>\n",
    "$\\quad\\quad$ $u_{k,j}=a_{k,j} - \\sum_{s=1}^{k-1}l_{k,s}u_{s,j}$\n",
    "<br>\n",
    "$\\quad$ end\n",
    "<br>\n",
    "$\\quad$ for i from k+1 to n $\\qquad$ *Get the non-zero elements in column $k$ of $L$ (except the 1's on its diagonal)*\n",
    "<br>\n",
    "$\\quad\\quad$ $l_{i,k}=\\displaystyle\\frac{a_{i,k}-\\sum_{s=1}^{k-1}l_{i,s}u_{s,k}}{u_{k,k}}$\n",
    "<br>\n",
    "$\\quad$ end\n",
    "<br>\n",
    "end\n",
    "```"
   ]
  },
  {
   "cell_type": "markdown",
   "metadata": {},
   "source": [
    "Note well that in the formulas to evaluate at the right,\n",
    "1. The terms $l_{k,s}$ are for $s < k$, so from a column $s$ that has already been computed for a previous $k$ value.\n",
    "2. The terms $u_{s,j}$ are for $s < k$, so from a row $s$ that has already been computed for a previous $k$ value.\n",
    "3. The denominator $u_{k,k}$ in the second inner loop is computed just in time, in the first inner loop for the same $k$ value.\n",
    "\n",
    "So the only thing that can go wrong is the same as with Gaussian elimination: a zero pivot element $u_{k,k}$."
   ]
  },
  {
   "cell_type": "markdown",
   "metadata": {},
   "source": [
    "```{prf:remark} On this algorithm\n",
    ":label: remark-dolittle\n",
    "\n",
    "1. For $k=n$, the second inner loop is redundant, so could be eliminated.\n",
    "Indeed it might need to be eliminated in actual code, where \"empty loops\" might not be allowed.\n",
    "On the other hand, allowing empty loops makes the above correct also for $k=1$; then the `for k` loop encompases the entire factorization algorithm.\n",
    "\n",
    "2. This direct factorization algorithm avoids any intermediate modification of arrays, and thus eliminates all those superscripts like $a_{i,j}^{(k)}$.\n",
    "This is not only nicer mathematically, but can help to avoid mistakes like code that inadvertently modifies the array containing the matrix $A$ and then uses it to compute the residual, $b - Ax$.\n",
    "More generally, such purely mathematical statements of algorithms can help to avoid coding errors;\n",
    "this is part of the philosophy of the *functional programming* approach.\n",
    "\n",
    "3. Careful examination shows that the product $l_{k,s} u_{s,j}$ that is part of what is subtracted at location $(k,j)$ is the same as what is subtracted there at stage $k$ of Gaussian elimination, just with different names.\n",
    "More generally, *every piece of arithmetic is the same as before,* except arranged in a different order, so that the $k-1$ changes made to an element in row $k$ are done together, via those sums.\n",
    "```"
   ]
  },
  {
   "cell_type": "code",
   "execution_count": 1,
   "metadata": {},
   "outputs": [],
   "source": [
    "include(\"NumericalMethods.jl\")\n",
    "using .NumericalMethods: printmatrix"
   ]
  },
  {
   "cell_type": "code",
   "execution_count": 2,
   "metadata": {},
   "outputs": [],
   "source": [
    "function lu_factorize(A; demomode=false)\n",
    "    # Compute the Doolittle LU factorization of A.\n",
    "    # Sums like $\\sum_{s=1}^{k-1} l_{k,s} u_{s,j}$ are done as matrix products;\n",
    "    # in the above case, row matrix L[k, 1:k-1] by column matrix U[1:k-1,j] gives the sum for a give j,\n",
    "    # and row matrix L[k, 1:k-1] by matrix U[1:k-1,k:n] gives the relevant row vector.\n",
    "    \n",
    "    n = size(A)[1]  # First component of the array's size; size(A) returns \"(rows, columns)\"\n",
    "    # Initialize U as a zero matrix;\n",
    "    # correct below the main diagonal, with the other entries to be computed and filled below.\n",
    "    U = zeros(n,n)\n",
    "    \n",
    "    # Initialize L as a zero matrix;\n",
    "    # correct above the main diagonal, with the other entries to be computed and filled in below.\n",
    "    L = zeros(n,n)\n",
    "    \n",
    "    # The first row and columm are special:\n",
    "    U[1,:] = A[1,:]\n",
    "    L[1,1] = 1.0\n",
    "    L[2:end,1] = A[2:end,1]/U[1,1]\n",
    "    if demomode\n",
    "        println(\"After step k=1\")\n",
    "        println(\"U=\"); printmatrix(U)\n",
    "        println(\"L=\"); printmatrix(L)\n",
    "    end;\n",
    "    for k in 2:n-1\n",
    "        # Julia note: it is necessary to use indices \"[k]\" and so on to get one-row matrices instead of vectors.\n",
    "        U[[k],k:end] = A[[k],k:end] - L[[k],1:k] * U[1:k,k:end]\n",
    "        L[k,k] = 1.0\n",
    "        L[k+1:end,k] = (A[k+1:end,k] - L[k+1:end,1:k] * U[1:k,k]) / U[k,k]\n",
    "        if demomode\n",
    "            println(\"After step k=$k\")\n",
    "            println(\"U=\"); printmatrix(U)\n",
    "            println(\"L=\"); printmatrix(L)\n",
    "        end;\n",
    "    end;\n",
    "    # The last row is also special: not much to do for L.\n",
    "    L[end,end] = 1.0\n",
    "    U[end,end] = A[end,end] - sum(L[[n],1:end-1] * U[1:end-1,end])\n",
    "    if demomode\n",
    "        println(\"After step k=$n\")\n",
    "        println(\"U=\"); printmatrix(U)\n",
    "    end;\n",
    "    return L, U\n",
    "end;"
   ]
  },
  {
   "cell_type": "markdown",
   "metadata": {},
   "source": [
    "### A test case on LU factorization"
   ]
  },
  {
   "cell_type": "markdown",
   "metadata": {},
   "source": [
    "It will be useful to compute matrix norms as a measure or error;\n",
    "in particular the \"maximum\" or \"infinity\" norm of `v` is given by `norm(v, Inf)`"
   ]
  },
  {
   "cell_type": "code",
   "execution_count": 3,
   "metadata": {},
   "outputs": [],
   "source": [
    "using LinearAlgebra: norm"
   ]
  },
  {
   "cell_type": "code",
   "execution_count": 4,
   "metadata": {},
   "outputs": [
    {
     "name": "stdout",
     "output_type": "stream",
     "text": [
      "[ 4.0 2.0 7.0 \n",
      "  3.0 5.0 -6.0 \n",
      "  1.0 -3.0 2.0 ]\n"
     ]
    }
   ],
   "source": [
    "A = [4.0 2.0 7.0; 3.0 5.0 -6.0; 1.0 -3.0 2.0]\n",
    "printmatrix(A)"
   ]
  },
  {
   "cell_type": "code",
   "execution_count": 5,
   "metadata": {},
   "outputs": [
    {
     "name": "stdout",
     "output_type": "stream",
     "text": [
      "After step k=1\n",
      "U=\n",
      "[ 4.0 2.0 7.0 \n",
      "  0.0 0.0 0.0 \n",
      "  0.0 0.0 0.0 ]\n",
      "L=\n",
      "[ 1.0 0.0 0.0 \n",
      "  0.75 0.0 0.0 \n",
      "  0.25 0.0 0.0 ]\n",
      "After step k=2\n",
      "U=\n",
      "[ 4.0 2.0 7.0 \n",
      "  0.0 3.5 -11.25 \n",
      "  0.0 0.0 0.0 ]\n",
      "L=\n",
      "[ 1.0 0.0 0.0 \n",
      "  0.75 1.0 0.0 \n",
      "  0.25 -1.0 0.0 ]\n",
      "After step k=3\n",
      "U=\n",
      "[ 4.0 2.0 7.0 \n",
      "  0.0 3.5 -11.25 \n",
      "  0.0 0.0 -11.0 ]\n"
     ]
    }
   ],
   "source": [
    "(L, U) = lu_factorize(A, demomode=true);"
   ]
  },
  {
   "cell_type": "code",
   "execution_count": 6,
   "metadata": {},
   "outputs": [
    {
     "name": "stdout",
     "output_type": "stream",
     "text": [
      "A is\n",
      "[ 4.0 2.0 7.0 \n",
      "  3.0 5.0 -6.0 \n",
      "  1.0 -3.0 2.0 ]\n",
      "L is\n",
      "[ 1.0 0.0 0.0 \n",
      "  0.75 1.0 0.0 \n",
      "  0.25 -1.0 1.0 ]\n",
      "U is\n",
      "[ 4.0 2.0 7.0 \n",
      "  0.0 3.5 -11.25 \n",
      "  0.0 0.0 -11.0 ]\n",
      "L times U is\n",
      "[ 4.0 2.0 7.0 \n",
      "  3.0 5.0 -6.0 \n",
      "  1.0 -3.0 2.0 ]\n",
      "The 'residual' or 'backward error' A - LU is\n",
      "[ 0.0 0.0 0.0 \n",
      "  0.0 0.0 0.0 \n",
      "  0.0 0.0 0.0 ]\n"
     ]
    }
   ],
   "source": [
    "println(\"A is\"); printmatrix(A)\n",
    "println(\"L is\"); printmatrix(L)\n",
    "println(\"U is\"); printmatrix(U)\n",
    "println(\"L times U is\"); printmatrix(L*U)\n",
    "println(\"The 'residual' or 'backward error' A - LU is\"); printmatrix(A - L*U)"
   ]
  },
  {
   "cell_type": "markdown",
   "metadata": {},
   "source": [
    "<a name=\"forward-substitution\"></a>\n",
    "### Forward substitution: solving $Lc = b$ for $c$\n",
    "\n",
    "This is the last piece missing. The strategy is very similar to backward substitution, but slightly simplified by the ones on the main didogonal of $L$.\n",
    "The equations $L c = b$ can be written much as above, separating off the last term in the sum:\n",
    "\n",
    "$$ \\sum_{j=1}^{n} l_{i,j} c_j = b_i,\\; 1 \\leq i \\leq n $$\n",
    "\n",
    "$$ \\sum_{j=1}^{i} l_{i,j} c_j = b_i,\\; 1 \\leq i \\leq n $$\n",
    "\n",
    "$$ \\sum_{j=1}^{i-1} l_{i,j} c_j + c_i = b_i,\\; 1 \\leq i \\leq n $$\n",
    "\n",
    "Then solve for $c_i$:\n",
    "\n",
    "$$ c_i = b_i - \\sum_{j=1}^{i-1} l_{i,j} c_j $$\n",
    "\n",
    "These are already is usable order: the right-hand side in the equation for $c_i$ involves only the $c_j$ values with $j < i$, determined by earlier equations if we run through index $i$ in increasing order."
   ]
  },
  {
   "cell_type": "markdown",
   "metadata": {},
   "source": [
    "First, $i=1$\n",
    "\n",
    "$$ c_1 = b_1 - \\sum_{j=1}^{0} l_{1,j} c_j, = b_1 $$"
   ]
  },
  {
   "cell_type": "markdown",
   "metadata": {},
   "source": [
    "Next, $i=2$\n",
    "\n",
    "$$ c_2 = b_2 - \\sum_{j=1}^{1} l_{2,j} c_j, = b_2 - l_{2,1}c_1 $$"
   ]
  },
  {
   "cell_type": "markdown",
   "metadata": {},
   "source": [
    "Next, $i=3$\n",
    "\n",
    "$$ c_3 = b_3 - \\sum_{j=1}^{2} l_{3,j} c_j, = b_3 - l_{3,1} c_1 - l_{3,2} c_2 $$"
   ]
  },
  {
   "cell_type": "markdown",
   "metadata": {
    "jp-MarkdownHeadingCollapsed": true,
    "tags": []
   },
   "source": [
    "See [Exercise 1](#exercise-1)."
   ]
  },
  {
   "cell_type": "markdown",
   "metadata": {},
   "source": [
    "As usual, there is also an implementation available from module `NumericalMethods`,\n",
    "at [forwardsubstitution](NumericalMethods.html#forwardsubstitution), so this is used here.\n",
    "(It is not in the form asked for in the above exercise!)"
   ]
  },
  {
   "cell_type": "code",
   "execution_count": 7,
   "metadata": {},
   "outputs": [],
   "source": [
    "using .NumericalMethods: forwardsubstitution"
   ]
  },
  {
   "cell_type": "markdown",
   "metadata": {},
   "source": [
    "### A test case on forward substitution"
   ]
  },
  {
   "cell_type": "code",
   "execution_count": 8,
   "metadata": {},
   "outputs": [],
   "source": [
    "b = [2.0, 3.0, 4.0];"
   ]
  },
  {
   "cell_type": "code",
   "execution_count": 9,
   "metadata": {},
   "outputs": [
    {
     "name": "stdout",
     "output_type": "stream",
     "text": [
      "[2.0, 1.5, 5.0]"
     ]
    }
   ],
   "source": [
    "c = forwardsubstitution(L, b)\n",
    "print(c)"
   ]
  },
  {
   "cell_type": "code",
   "execution_count": 10,
   "metadata": {},
   "outputs": [
    {
     "name": "stdout",
     "output_type": "stream",
     "text": [
      "c = [2.0, 1.5, 5.0]\n",
      "The residual b - Lc is [0.0, 0.0, 0.0]\n",
      "\t with maximum norm 0.0\n"
     ]
    }
   ],
   "source": [
    "println(\"c = $c\")\n",
    "println(\"The residual b - Lc is $(b - L*c)\")\n",
    "println(\"\\t with maximum norm $(norm(b - L*c,  Inf))\")"
   ]
  },
  {
   "cell_type": "markdown",
   "metadata": {},
   "source": [
    "### Completing the test case, with backward substitution\n",
    "\n",
    "As this step is unchanged, we can just import the version seen in\n",
    "{doc}`linear-equations-1-row-reduction`"
   ]
  },
  {
   "cell_type": "code",
   "execution_count": 11,
   "metadata": {},
   "outputs": [],
   "source": [
    "using .NumericalMethods: backwardsubstitution"
   ]
  },
  {
   "cell_type": "code",
   "execution_count": 12,
   "metadata": {},
   "outputs": [],
   "source": [
    "x = backwardsubstitution(U, c);"
   ]
  },
  {
   "cell_type": "code",
   "execution_count": 13,
   "metadata": {},
   "outputs": [
    {
     "name": "stdout",
     "output_type": "stream",
     "text": [
      "The residual c - Ux for the backward substitution step is [0.0, -2.220446049250313e-16, 0.0]\n",
      "\t with maximum norm 2.220446049250313e-16\n",
      "The residual b - Ax for the whole solving process is [0.0, 0.0, 8.881784197001252e-16]\n",
      "\t with maximum norm 8.881784197001252e-16\n"
     ]
    }
   ],
   "source": [
    "residual_cUx = c - U*x\n",
    "println(\"The residual c - Ux for the backward substitution step is $residual_cUx\")\n",
    "println(\"\\t with maximum norm $(norm(residual_cUx, Inf))\")\n",
    "residual_bAx = b - A*x\n",
    "println(\"The residual b - Ax for the whole solving process is $residual_bAx\")\n",
    "println(\"\\t with maximum norm $(norm(residual_bAx, Inf))\")"
   ]
  },
  {
   "cell_type": "markdown",
   "metadata": {
    "jp-MarkdownHeadingCollapsed": true,
    "tags": []
   },
   "source": [
    "See [Exercise 2](#exercise-2)."
   ]
  },
  {
   "cell_type": "markdown",
   "metadata": {},
   "source": [
    "As an example of creating and using a module, I am creating one for this course, `NumericalMethods.jl`; see {doc}`NumericalMethods`.\n",
    "For now these two modules will overlap, but your version will contain code that you create in exerices that is not in `NumericalMethodsNumericalMethods`."
   ]
  },
  {
   "cell_type": "markdown",
   "metadata": {},
   "source": [
    "## When does LU factorization work?\n",
    "\n",
    "It was seen in the section {doc}`linear-equations-2-pivoting` that naive Gaussian elimination works (in the sense of avoiding division by zero) so one good result is that"
   ]
  },
  {
   "cell_type": "markdown",
   "metadata": {},
   "source": [
    "```{prf:theorem} \n",
    ":label: theorem-LU-SDD\n",
    "\n",
    "Any SDD matrix has a Doolittle factorization $A=LU$, with the diagonal elements of $U$ all non-zero, so backward substitution also works.\n",
    "\n",
    "For any column-wise SDD matrix, this LU factorization exists and is also \"optimal\",\n",
    "in the sense that it follows what you would do with maximal element partial pivoting.\n",
    "```"
   ]
  },
  {
   "cell_type": "markdown",
   "metadata": {},
   "source": [
    "This nice second property can be got for SDD matrices via a twist, or actually a transpose.\n",
    "\n",
    "For an SDD matrix, it transpose $B = A^T$ is column-wise SDD and so has the nice Doolitle factorization described above: $B = L_B U_B$, with $L_B$ being column-wise diagonally dominant and having ones on the main diagonal.\n",
    "\n",
    "Transposing back, $A = B^T = (L_B U_B)^T = U_B^T L_B^T$, and defining $L = U_B^T$ and $U = L_B^T$,\n",
    "- $L$ is lower triangular\n",
    "- $U$ is upper triangular, row-wise diagonally dominant and with ones on it main diagonal: it is \"unit upper triangular\".\n",
    "- Thus $LU$ is another LU factorization of $A$, with $U$ rather than $L$ being the factor with ones on its main diagonal."
   ]
  },
  {
   "cell_type": "markdown",
   "metadata": {},
   "source": [
    "(crout-decomposition)=\n",
    "## Crout decomposition\n",
    "\n",
    "This sort of $LU$ factorization is called the **Crout decomposition**;\n",
    "as with the Doolittle version, if such a factorization exists, it is unique."
   ]
  },
  {
   "cell_type": "markdown",
   "metadata": {},
   "source": [
    "```{prf:theorem} \n",
    ":label: theorem-Crout-SDD\n",
    "\n",
    "Every SDD matrix has a Crout decomposition, and the factor $U$ is SDD. \n",
    "```"
   ]
  },
  {
   "cell_type": "markdown",
   "metadata": {},
   "source": [
    "```{prf:remark} \n",
    ":label: remark-positive-definite-also-works\n",
    "\n",
    "As was mentioned at the end of the section {doc}`linear-equations-1-row-reduction` naive Gausion elminaor alwo worek for *positive definite* matrices,amnd thus so does th Doolittle LU factirozation.\n",
    "However, there is another LU factorization that works even better in that case, the *Cholesky factorization*;\n",
    "this topic might be returned to later.\n",
    "```"
   ]
  },
  {
   "cell_type": "markdown",
   "metadata": {},
   "source": [
    "---\n",
    "## Exercises"
   ]
  },
  {
   "cell_type": "markdown",
   "metadata": {},
   "source": [
    "<a name=\"exercise-1\"></a>\n",
    "### Exercise 1\n",
    "\n",
    "A) Express the [forward substitution](#forward-substitution) strategy as pseudo-code;\n",
    "spell out all the sums in explicit rather than using '$\\Sigma$' notation for sums any matrix multiplication short-cut.\n",
    "\n",
    "B) Then implement it \"directly\" in a Julia function, with format:\n",
    "\n",
    "    function forwardSubstitution(L, b)\n",
    "        . . .\n",
    "        return c\n",
    "\n",
    "Again do this with explicit evaluation of each sum rather than using the function `sum` or any matrix multiplication short-cut.\n",
    "\n",
    "C) Test it, using this often-useful \"reverse-engineering\" tactic:\n",
    "1. Create suitable test arrays `L` and `c`. (Use $n$ at least three, and preferably larger.)\n",
    "2. Compute their product, with `b = L * c`\n",
    "3. Check if `c_solution = forwardSubstitution(L, b)` gives the correct value (within rounding error.)"
   ]
  },
  {
   "cell_type": "markdown",
   "metadata": {},
   "source": [
    "<a name=\"exercise-2\"></a>\n",
    "### Exercise 2\n",
    "\n",
    "(An ongoing activity.)\n",
    "\n",
    "Start building a Julia module — I suggest the name `MyNumericalMethods` — in a file name by adding suffix \".jl\" to the module name (e.g. `MyNumericalMethods.jl`).\n",
    "Put all the functions that you create as you work through this book;\n",
    "for now, just your version of `forwardSubstitution(L, b)`,\n",
    "along with `backwardSubstitution` from a previous section and `luFactorize` from above.\n",
    "\n",
    "The syntax of the module file is like this:\n",
    "\n",
    "    module NumericalMethods\n",
    "    function rowReduce(A, b)\n",
    "        ...\n",
    "    end;\n",
    "    function forwardSubstitution(L, b)\n",
    "        ...\n",
    "    end;\n",
    "    function backwardSubstitution(U, c)\n",
    "        ...\n",
    "    end;\n",
    "    end"
   ]
  }
 ],
 "metadata": {
  "kernelspec": {
   "display_name": "Julia 1.8.1",
   "language": "julia",
   "name": "julia-1.8"
  },
  "language_info": {
   "file_extension": ".jl",
   "mimetype": "application/julia",
   "name": "julia",
   "version": "1.8.1"
  }
 },
 "nbformat": 4,
 "nbformat_minor": 4
}
