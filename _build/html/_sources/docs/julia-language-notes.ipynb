{
 "cells": [
  {
   "cell_type": "markdown",
   "id": "2d0f01b9-41fd-4655-8491-e6cf81fc4a8a",
   "metadata": {},
   "source": [
    "# Notes on the Julia Language\n",
    "\n",
    "**Revised September 23, 2022**"
   ]
  },
  {
   "cell_type": "markdown",
   "id": "012dccb6-3dc6-47e0-a395-792913e7d1b3",
   "metadata": {},
   "source": [
    "These notes are not intended to teach the Julia language from scratch, or comprehensively;\n",
    "instead they are addressed to readers who already know somewhat similar tools like Matlab or \"Python Scientific\" (Python + Numpy + Matplotlib),\n",
    "and they focus on the parts of Julia actually used in this book.\n",
    "\n",
    "A very short version of the story is that what works in Matlab often also work in Julia;\n",
    "one design principle is offering familiarity for Matlab users by having the Matlab syntax work (at least as one option)\n",
    "except where that would get in the way of moderization.\n",
    "Though some syntax comes from Python and some from C.\n",
    "And one bit is from Perl.\n",
    "\n",
    "An intermediate version is this summary of\n",
    "[Julia's noteworthy differences from other languages](https://docs.julialang.org/en/v1/manual/noteworthy-differences/),\n",
    "with comparisons to Matlab and Python (and also to R and C/C++).\n",
    "\n",
    "For the full story, see resources like [the official Julia documentation](https://docs.julialang.org/en/v1/).\n",
    "(Don't read it all at once: the PDF version is over 1500 pages.)\n",
    "\n",
    "\n"
   ]
  },
  {
   "cell_type": "markdown",
   "id": "0c2474a3-f0b3-4750-9274-91f4d7c59390",
   "metadata": {},
   "source": [
    "<a name=\"charactersstrings\"></a>\n",
    "## Characters and strings"
   ]
  },
  {
   "cell_type": "markdown",
   "id": "01da9763-2872-4ef3-a08e-b442557188ea",
   "metadata": {},
   "source": [
    "The character set is Unicode via UTF-8, so Greek letters and much more are usable.\n",
    "\n",
    "I generally advise against going beyond plain old ASCII characters, but see the functions\n",
    "[plu](NumericalMethods#plu)\n",
    "and\n",
    "[forwardsubstitution](NumericalMethods#forwardsubstitution)\n",
    "in the collection {doc}`NumericalMethods`\n",
    "where Unicode is used to illustrate the possibility of following mathematical notation more closely.\n",
    "\n",
    "The usual style is that the names of variable and functions use only (Roman alphabet) letter, digits, and possibly underscores to separate words in names that are descriptive phrases."
   ]
  },
  {
   "cell_type": "code",
   "execution_count": 137,
   "id": "577f9fe9-2eef-4cba-accf-53ae4625944c",
   "metadata": {},
   "outputs": [
    {
     "name": "stdout",
     "output_type": "stream",
     "text": [
      "π/2 = 1.5707963267948966\n"
     ]
    }
   ],
   "source": [
    "println(\"π/2 = \", π/2)"
   ]
  },
  {
   "cell_type": "markdown",
   "id": "fbdae3ea-5761-42fb-8a22-d4c9cde72495",
   "metadata": {},
   "source": [
    "(That function `println` will be explained below in [Displaying values](#displayingvalues).)"
   ]
  },
  {
   "cell_type": "markdown",
   "id": "3c400e55-58d2-460d-803f-1bd48bd7e2b3",
   "metadata": {},
   "source": [
    "So not only is $\\pi$ is the character set; it is the name of predefined constant.\n",
    "(which can also be referred to as `pi`)\n",
    "\n",
    "Typing such characters is done using LaTeX notation and tabbing:\n",
    "for $\\pi$, type the three character sequence `\\pi` and then press TAB.\n"
   ]
  },
  {
   "cell_type": "markdown",
   "id": "a9d3e2ca-1501-4fc7-ad0e-bc50265fd8db",
   "metadata": {},
   "source": [
    "The above characters are in single right quotes (to be pedantic, apostrophes),\n",
    "whereas strings of characters must be surrounded, more properly, by double quote characters:\n",
    "\n",
    "    \"This is a string\"\n",
    "    'This is a syntax error'\n",
    "\n",
    "This one comes from C, I think."
   ]
  },
  {
   "cell_type": "markdown",
   "id": "8f4c6f31-f84e-4f8f-b057-e7752c95d1fc",
   "metadata": {},
   "source": [
    "*Aside:* here is a quirky use of Unicode built in to Julia:"
   ]
  },
  {
   "cell_type": "code",
   "execution_count": 138,
   "id": "60982206-a9f6-4e05-90c1-abee209d5945",
   "metadata": {},
   "outputs": [
    {
     "data": {
      "text/plain": [
       "2.0"
      ]
     },
     "execution_count": 138,
     "metadata": {},
     "output_type": "execute_result"
    }
   ],
   "source": [
    "√4"
   ]
  },
  {
   "cell_type": "markdown",
   "id": "675b65d6-70d4-4d51-9047-da30c22cda97",
   "metadata": {},
   "source": [
    "<a name=\"concatenationduplication\"></a>\n",
    "### String concatenation and duplication\n",
    "\n",
    "To concatenate two strings, \"multiply\" them with `*`. (Versus \"adding\" them as in Python.)\n",
    "\n",
    "Also, consistent with that, making multiple copies of a string is done by \"exponentiation\", with `^`:"
   ]
  },
  {
   "cell_type": "code",
   "execution_count": 139,
   "id": "a5c34482-e690-4076-aa51-18c0a924e303",
   "metadata": {},
   "outputs": [
    {
     "name": "stdout",
     "output_type": "stream",
     "text": [
      "Hello world.\n",
      "Hello Hello Hello \n"
     ]
    }
   ],
   "source": [
    "greeting = \"Hello\"\n",
    "audience = \"world\"\n",
    "sentence = greeting * ' ' * audience * '.'\n",
    "println(sentence)\n",
    "println((greeting*' ')^3)"
   ]
  },
  {
   "cell_type": "markdown",
   "id": "aab74c65-6e9a-4a21-838d-c7f446613309",
   "metadata": {},
   "source": [
    "Note that single characters can also be concatenated into strings, and exponentiated:"
   ]
  },
  {
   "cell_type": "code",
   "execution_count": 140,
   "id": "e15abfcf-4aea-4cd3-86f1-47b63408cf5b",
   "metadata": {},
   "outputs": [
    {
     "data": {
      "text/plain": [
       "\"gamma\""
      ]
     },
     "execution_count": 140,
     "metadata": {},
     "output_type": "execute_result"
    }
   ],
   "source": [
    "gamma = 'g' * 'a' * 'm'^2 * 'a'"
   ]
  },
  {
   "cell_type": "markdown",
   "id": "3c0a79ee-7b1e-4b13-9ff7-d3e7ff555034",
   "metadata": {},
   "source": [
    "<a name=\"displayingvalues\"></a>\n",
    "## Displaying values: `println`, `print` and just saying the name"
   ]
  },
  {
   "cell_type": "markdown",
   "id": "7a054e84-2efb-49eb-be19-98a55265ac2a",
   "metadata": {},
   "source": [
    "We have seen above two basic ways of getting output displayed on the screen:\n",
    "- the function `println`\n",
    "- putting an expression on the last line of a cell (or typing it into the interactive Julia command line),\n",
    "which causes that expression to be evaluated and the result displayed.\n",
    "This is as in both Matlab and Python, and with the same method for supressing output: ending that line with a semi-colon.\n",
    "\n",
    "The basic usage of function `println` is as for the synonymous function in Matlab and `print` in Python:\n",
    "input is a sequence of strings whose values are ouptut on a line, after which output moves to a newline.\n",
    "\n",
    "There is also a variant `print` which does not go to a new line at the end; useful for assembling a line of output piece-by-piece:"
   ]
  },
  {
   "cell_type": "code",
   "execution_count": 141,
   "id": "8578c611-7e38-4ed4-860e-075a417c7ea5",
   "metadata": {},
   "outputs": [
    {
     "name": "stdout",
     "output_type": "stream",
     "text": [
      "The end.\n",
      "\n",
      "That's all folks!\n"
     ]
    }
   ],
   "source": [
    "println(\"The\",\" end.\")\n",
    "println()\n",
    "print(\"That's\")\n",
    "print(\" all\")\n",
    "print(\" folks\")\n",
    "println(\"!\")"
   ]
  },
  {
   "cell_type": "markdown",
   "id": "1124b4cb-b20f-48ec-a220-14af81d5d4ac",
   "metadata": {},
   "source": [
    "Note that in each case, the spaces must be explicitly specified.\n",
    "Also, the sequence of strings can be empty: get just a blank line with `println()`."
   ]
  },
  {
   "cell_type": "markdown",
   "id": "a8faa12d-a1fd-408a-8e33-0a713608df4f",
   "metadata": {},
   "source": [
    "<a name=\"displayingvaluesofexpressions\"></a>\n",
    "## Displaying the values of variables and expressions"
   ]
  },
  {
   "cell_type": "markdown",
   "id": "3c0f0e34-d4ae-4e53-bab3-6ca660837bc4",
   "metadata": {},
   "source": [
    "As already seen above, there are several ways of display the value of a variable, or more generally of an expression.\n",
    "\n",
    "One is to put such expressions in the sequence of arguments to `println` (so I lied slightly about the arguments being strings):"
   ]
  },
  {
   "cell_type": "code",
   "execution_count": 142,
   "id": "0c35bd73-6ba1-43e2-a970-22caea1d240a",
   "metadata": {},
   "outputs": [
    {
     "name": "stdout",
     "output_type": "stream",
     "text": [
      "a = 2 and its cube is 8\n"
     ]
    }
   ],
   "source": [
    "a = 2\n",
    "println(\"a = \", a, \" and its cube is \", a^3)"
   ]
  },
  {
   "cell_type": "markdown",
   "id": "543409c2-a1ed-493a-829c-af9f0c4faeb2",
   "metadata": {},
   "source": [
    "Another is to use '$' interpolation, adopted from the Perl language:"
   ]
  },
  {
   "cell_type": "code",
   "execution_count": 143,
   "id": "3af243bc-8a0f-43e9-ac9f-a664505c5b75",
   "metadata": {},
   "outputs": [
    {
     "name": "stdout",
     "output_type": "stream",
     "text": [
      "a = 2 and its cube is 8\n"
     ]
    }
   ],
   "source": [
    "println(\"a = $a and its cube is $(a^3)\")"
   ]
  },
  {
   "cell_type": "markdown",
   "id": "b8dfd54e-48e1-4fa0-a95a-b6314930a022",
   "metadata": {},
   "source": [
    "When the expression whose value to interpolate is just a variable name, it is enough to prefix that name by '$'.\n",
    "However more involved expressions must be parenthesised, as with `$(a^3)`.\n",
    "\n",
    "Fun fact: the string in the last example is an expression whose value is the string displayed,\n",
    "so its value can also be displayed by simply having it as the last (and semicolon-free) line of a cell:"
   ]
  },
  {
   "cell_type": "code",
   "execution_count": 144,
   "id": "e3ced19f-ee9e-4eb6-8ee8-53476eafec3d",
   "metadata": {},
   "outputs": [
    {
     "data": {
      "text/plain": [
       "\"a = 2 and its cube is 8\""
      ]
     },
     "execution_count": 144,
     "metadata": {},
     "output_type": "execute_result"
    }
   ],
   "source": [
    "\"a = $a and its cube is $(a^3)\""
   ]
  },
  {
   "cell_type": "markdown",
   "id": "97f766be-4253-42db-989c-9c6d23965486",
   "metadata": {},
   "source": [
    "This is useful to know since it reveals a nice \"orthogonality of features\":\n",
    "interpolation is not a special feature of function `println` but something that can be used in other situations;\n",
    "probably the most common use in this book will be putting annotations on graphs."
   ]
  },
  {
   "cell_type": "markdown",
   "id": "91e09c65-d698-493b-be8a-ff17527b2536",
   "metadata": {},
   "source": [
    "Sometimes it is illuminating to use the \"last line automatic display\" feature rather than `print` because it reveals some information about the type of a quantity rather than just its value.\n",
    "This book uses that often when discussing Julia language features rather than when actually doing numerical computing;\n",
    "see for example the notes on [arrays](#arrays) below."
   ]
  },
  {
   "cell_type": "markdown",
   "id": "d8eae473-3a09-45fd-8804-0c08316bd4a8",
   "metadata": {},
   "source": [
    "On the other hand, many expressions give output values that you might not expect, like the definitions of [functions](#functions1) and  function `plot` in the notes on [modules](#modules) below;\n",
    "thus you might want to end many cells with a semi-colon to supress unneeded output.\n",
    "An end-of-line semi-colon never hurts, even where redundant, so you may type like a C programmer if you wish.\n"
   ]
  },
  {
   "cell_type": "markdown",
   "id": "c331946e-a38c-4e1f-a490-9556158e3287",
   "metadata": {},
   "source": [
    "Semicolons can also be used to combine statements on a single line.\n",
    "This is often considered as poor style, but I sometimes find that it improves readability with several short and closely related statements:"
   ]
  },
  {
   "cell_type": "code",
   "execution_count": 145,
   "id": "3dc6dc36-7cc8-44b7-a50c-8d664247cf25",
   "metadata": {},
   "outputs": [
    {
     "name": "stdout",
     "output_type": "stream",
     "text": [
      "a=1, b=3"
     ]
    }
   ],
   "source": [
    "a = 1; b = 3\n",
    "print(\"a=\",a,\", b=\",b)"
   ]
  },
  {
   "cell_type": "markdown",
   "id": "1d36bbe6-35bc-4a30-8536-1d1db2480fc9",
   "metadata": {},
   "source": [
    "<a name=\"boolean\"></a>\n",
    "## Boolean values (true-false)"
   ]
  },
  {
   "cell_type": "markdown",
   "id": "df8f14f0-ebfb-4419-8764-54faa6d3b770",
   "metadata": {},
   "source": [
    "These are `true` and `false` and nothing else:\n",
    "- not capitalized as they are in Python\n",
    "- not \"1\" and \"0\" or \"nonzero\" vs \"zero\" or any other laziness.\n",
    "\n",
    "The logical operators are much as in C: \"&&\", \"||\", \"&\", \"|\", and \"!\" for negation.\n",
    "\n",
    "Be careful with that last one; logical negation is not \"~\" as in Matlab.\n",
    "\n",
    "The doubled forms \"&&\" and \"||\" use lazy or \"short-circuiting\" evaluation:\n",
    "if the value the left-hand term determines the truth value of the whole, then the second term is not evaluated.\n",
    "For example, the following avoids division by zero:\n",
    "\n",
    "    if q != 0 && -1 < p/q < 1\n",
    "        println(\"$p/$q is a proper fraction\")\n",
    "    else\n",
    "        println(\"$p/$q is not a proper fraction\")\n",
    "    end"
   ]
  },
  {
   "cell_type": "markdown",
   "id": "6af0c22a-40e0-4562-9202-b1f7a7062c65",
   "metadata": {},
   "source": [
    "<a name=\"comparisons\"></a>\n",
    "## Comparisons\n",
    "\n",
    "The usual comparisons of numbers and tests for equality exist,\n",
    "\n",
    "    < <= == >= !=\n",
    "with a couple of extra twists."
   ]
  },
  {
   "cell_type": "markdown",
   "id": "4c0c295d-efb6-4503-91ae-1b847aeb728f",
   "metadata": {},
   "source": [
    "the first is the comparisons can be chained, as seen above:\n",
    "\n",
    "    -1 < p/q < 1\n",
    "is equivalant to\n",
    "\n",
    "    -1 < p/q && p/q < 1\n",
    "but both more readable and more efficient, because the middle term is only evaluated once.\n",
    "Like `&&`, this is short-circuiting.\n",
    "\n",
    "(This one comes from Python, the only other language I know of with this feature.)\n",
    "\n",
    "This can even be done in cases where usual mathematical style forbids, with reversing of the direction of the inequalities:"
   ]
  },
  {
   "cell_type": "code",
   "execution_count": 1,
   "id": "41659188-b8b6-4d26-a1e4-5162fa3fc1e9",
   "metadata": {},
   "outputs": [
    {
     "data": {
      "text/plain": [
       "true"
      ]
     },
     "execution_count": 1,
     "metadata": {},
     "output_type": "execute_result"
    }
   ],
   "source": [
    "2 < 4 > 3"
   ]
  },
  {
   "cell_type": "markdown",
   "id": "4bbeee8b-4461-4ae7-a02a-973efe022c41",
   "metadata": {},
   "source": [
    "The second extra is the function `isequal(a, b)`.\n",
    "This is mostly the same as `==` but with some special handling for the special values `-0.0` and `NaN` of IEEE floating point numbers:"
   ]
  },
  {
   "cell_type": "code",
   "execution_count": 146,
   "id": "fdd34738-942c-41fb-989b-05ad2fb619c7",
   "metadata": {},
   "outputs": [
    {
     "data": {
      "text/plain": [
       "false"
      ]
     },
     "execution_count": 146,
     "metadata": {},
     "output_type": "execute_result"
    }
   ],
   "source": [
    "NaN == NaN"
   ]
  },
  {
   "cell_type": "code",
   "execution_count": 147,
   "id": "f5086d3e-6abb-4e5e-8ec4-ff94e94eac00",
   "metadata": {},
   "outputs": [
    {
     "data": {
      "text/plain": [
       "true"
      ]
     },
     "execution_count": 147,
     "metadata": {},
     "output_type": "execute_result"
    }
   ],
   "source": [
    "isequal(NaN, NaN)"
   ]
  },
  {
   "cell_type": "code",
   "execution_count": 148,
   "id": "09876cd6-53f0-421f-abc8-49793f3f6523",
   "metadata": {},
   "outputs": [
    {
     "data": {
      "text/plain": [
       "true"
      ]
     },
     "execution_count": 148,
     "metadata": {},
     "output_type": "execute_result"
    }
   ],
   "source": [
    "-0.0 == 0.0"
   ]
  },
  {
   "cell_type": "code",
   "execution_count": 149,
   "id": "8a5a43cf-cc88-4a67-9760-fddd972be43f",
   "metadata": {},
   "outputs": [
    {
     "data": {
      "text/plain": [
       "false"
      ]
     },
     "execution_count": 149,
     "metadata": {},
     "output_type": "execute_result"
    }
   ],
   "source": [
    "isequal(-0.0, 0.0)"
   ]
  },
  {
   "cell_type": "markdown",
   "id": "c9f7f107-f031-47ea-b296-b0ea23cbf32a",
   "metadata": {},
   "source": [
    "<a name=\"numbers\"></a>\n",
    "## Numbers"
   ]
  },
  {
   "cell_type": "markdown",
   "id": "49576fca-2cc3-4ecb-a9eb-cb14a9a63ea2",
   "metadata": {},
   "source": [
    "As just mentioned, the default floating point numbers and arithmetic are IEEE Float64, and the default integers are Int64;\n",
    "others are available (like Int32 and unsigned integers) but they will not be mentioned again in this book.\n",
    "\n",
    "Thus the main novelty here is a notation:\n",
    "the underscore can be used within numbers to improve readabilty, as commas are (and periods in some countries.)\n",
    "They can be put wherever you like:"
   ]
  },
  {
   "cell_type": "code",
   "execution_count": 150,
   "id": "730a7c50-64d2-4c96-aad4-8d399a4899a1",
   "metadata": {},
   "outputs": [
    {
     "name": "stdout",
     "output_type": "stream",
     "text": [
      "two_thousand_million is 2000000000\n",
      "In the Indian number naming system, one crore is 10000000\n",
      "pi is approximately 3.14159265\n"
     ]
    }
   ],
   "source": [
    "two_thousand_million = 2_000_000000  # British English\n",
    "println(\"two_thousand_million is \",two_thousand_million)\n",
    "crore = 1_00_00_000  # This is where Indian style puts the commas\n",
    "println(\"In the Indian number naming system, one crore is $crore\")\n",
    "almostpi = 3.1415_9265\n",
    "println(\"pi is approximately $almostpi\")"
   ]
  },
  {
   "cell_type": "markdown",
   "id": "da2d7605-f78b-45ec-97e7-84007a64dd0a",
   "metadata": {},
   "source": [
    "A point on recommended style: although floating point numbers can be typed with the decimal point at the beginning or the end,\n",
    "as with `2.` and `.5`,\n",
    "it is recommended style to always have digits around the decimal point, as with `2.0` and `0.5`.\n",
    "\n",
    "One reason is that the period '.' is used with many other meanings, so this style helps to avoid ambiguities;\n",
    "see below about [vectorization](#arithemeticonarrays)."
   ]
  },
  {
   "cell_type": "markdown",
   "id": "1c0ef33b-cea6-426d-a45a-931138978ffa",
   "metadata": {},
   "source": [
    "<a name=\"complexnumbers\"></a>\n",
    "### Complex numbers\n",
    "\n",
    "Julia uses `im` for the square root of -1 rather than `i` or `j`, and `im` cannot be used as the name of a variable.\n",
    "\n",
    "In general, the complex number $a + b i$ is expressed as `a + bim` where 'b' is a literal number,\n",
    "not the name of a variable.\n",
    "Then `im` is immediately juxtaposed with that number, no intervening space allowed)."
   ]
  },
  {
   "cell_type": "code",
   "execution_count": 151,
   "id": "6e5a91f6-2561-4c3f-ae2a-4450ac1fcb6a",
   "metadata": {},
   "outputs": [
    {
     "name": "stdout",
     "output_type": "stream",
     "text": [
      "z = 3 + 4im\n",
      "Its absolute value is 5.0\n"
     ]
    }
   ],
   "source": [
    "z = 3 + 4im\n",
    "println(\"z = \", z)\n",
    "println(\"Its absolute value is \", abs(z))"
   ]
  },
  {
   "cell_type": "markdown",
   "id": "e9beb0e0-be42-438a-ad0e-c8b02a09087a",
   "metadata": {},
   "source": [
    "As you might expect, imaginary numbers can be written without the real part $a$, as `bim` and when $b=1$, it can be ommited\n",
    "\n",
    "However, the imaginary part `b` is always needed, even when $b = 0$, to announce that the nuber is to br treated a complex."
   ]
  },
  {
   "cell_type": "code",
   "execution_count": 152,
   "id": "e32a7e01-38ba-420f-a830-679746dc889c",
   "metadata": {},
   "outputs": [
    {
     "name": "stdout",
     "output_type": "stream",
     "text": [
      "0 + 2im\n"
     ]
    }
   ],
   "source": [
    "println(2im)"
   ]
  },
  {
   "cell_type": "code",
   "execution_count": 153,
   "id": "dfe621bb-b62f-4613-89f9-4c7cba3619f0",
   "metadata": {},
   "outputs": [
    {
     "name": "stdout",
     "output_type": "stream",
     "text": [
      "im\n"
     ]
    }
   ],
   "source": [
    "println(im)"
   ]
  },
  {
   "cell_type": "code",
   "execution_count": 154,
   "id": "cf0c7adb-05b0-4f4d-88b9-b2c848e3945b",
   "metadata": {},
   "outputs": [
    {
     "name": "stdout",
     "output_type": "stream",
     "text": [
      "-1 + 0im\n"
     ]
    }
   ],
   "source": [
    "println(im^2)"
   ]
  },
  {
   "cell_type": "code",
   "execution_count": 155,
   "id": "89ade22c-7be3-417c-ab72-5d8d4fb1de0c",
   "metadata": {},
   "outputs": [
    {
     "name": "stdout",
     "output_type": "stream",
     "text": [
      "0 - 1im\n"
     ]
    }
   ],
   "source": [
    "println(-1im)"
   ]
  },
  {
   "cell_type": "code",
   "execution_count": 156,
   "id": "69bc8855-0616-49a6-9fe5-460826412052",
   "metadata": {},
   "outputs": [
    {
     "name": "stdout",
     "output_type": "stream",
     "text": [
      "0 - 1im\n"
     ]
    }
   ],
   "source": [
    "println(-im)"
   ]
  },
  {
   "cell_type": "markdown",
   "id": "91405090-f361-4c95-8ee7-5eb60915ff33",
   "metadata": {},
   "source": [
    "However, the imaginary part `b` is always needed, even when $b = 0$, to announce that the number is to be treated a complex."
   ]
  },
  {
   "cell_type": "code",
   "execution_count": 157,
   "id": "8210a17f-9fff-4019-ae72-ec79408a2f21",
   "metadata": {},
   "outputs": [
    {
     "data": {
      "text/plain": [
       "0.0 + 1.0im"
      ]
     },
     "execution_count": 157,
     "metadata": {},
     "output_type": "execute_result"
    }
   ],
   "source": [
    "sqrt(-1 + 0im)"
   ]
  },
  {
   "cell_type": "code",
   "execution_count": 158,
   "id": "24044af1-f4b9-4374-9cbc-23b081dfaada",
   "metadata": {},
   "outputs": [
    {
     "ename": "LoadError",
     "evalue": "DomainError with -1.0:\nsqrt will only return a complex result if called with a complex argument. Try sqrt(Complex(x)).",
     "output_type": "error",
     "traceback": [
      "DomainError with -1.0:\nsqrt will only return a complex result if called with a complex argument. Try sqrt(Complex(x)).",
      "",
      "Stacktrace:",
      " [1] throw_complex_domainerror(f::Symbol, x::Float64)",
      "   @ Base.Math ./math.jl:33",
      " [2] sqrt",
      "   @ ./math.jl:591 [inlined]",
      " [3] sqrt(x::Int64)",
      "   @ Base.Math ./math.jl:1372",
      " [4] top-level scope",
      "   @ In[158]:1",
      " [5] eval",
      "   @ ./boot.jl:368 [inlined]",
      " [6] include_string(mapexpr::typeof(REPL.softscope), mod::Module, code::String, filename::String)",
      "   @ Base ./loading.jl:1428"
     ]
    }
   ],
   "source": [
    "sqrt(-1)"
   ]
  },
  {
   "cell_type": "markdown",
   "id": "12400d8a-48f2-426d-b380-fce463b25ba5",
   "metadata": {},
   "source": [
    "The name `im` is reserved for this role; it cannot be used as a variable name:"
   ]
  },
  {
   "cell_type": "code",
   "execution_count": 159,
   "id": "5e7327ae-e6cd-495b-906e-1602dc02cef8",
   "metadata": {},
   "outputs": [
    {
     "ename": "LoadError",
     "evalue": "cannot assign a value to variable Base.im from module Main",
     "output_type": "error",
     "traceback": [
      "cannot assign a value to variable Base.im from module Main",
      "",
      "Stacktrace:",
      " [1] top-level scope",
      "   @ In[159]:1",
      " [2] eval",
      "   @ ./boot.jl:368 [inlined]",
      " [3] include_string(mapexpr::typeof(REPL.softscope), mod::Module, code::String, filename::String)",
      "   @ Base ./loading.jl:1428"
     ]
    }
   ],
   "source": [
    "im = 100"
   ]
  },
  {
   "cell_type": "markdown",
   "id": "a7bae82f-ee7a-4931-aae2-b681a4b729f2",
   "metadata": {},
   "source": [
    "<a name=\"arithemeticoperators\"></a>\n",
    "## Arithemetic operators"
   ]
  },
  {
   "cell_type": "markdown",
   "id": "e26117ca-c1d8-4b1d-878b-601216e8d1d6",
   "metadata": {},
   "source": [
    "With arithmetic on numbers, the main items to note are\n",
    "1. exponentiation\n",
    "2. division with integers, and\n",
    "3. multiplication by juxtoposition\n",
    "\n",
    "- Exponentiation $a^b$ is given by `a^b` (as in Matlab and different from Python's `a**b`).\n",
    "\n",
    "- `p/q` with `p` and `q` both integers promotes to floating point arithmetic.\n",
    "\n",
    "- To do integer division with integer result, use `p ÷ q` (or `div(p,q)` to avoid that Unicode: all operators also have function forms).\n",
    "\n",
    "- The remainder is given by `p%q`, or `rem(p,q)`. Thus `(p ÷ q)* q + p%q = p`\n",
    "\n",
    "- There is also \"backward division\": `q\\p` is the same as `p/q`; see below.\n",
    "\n",
    "- The product of a literal number by a variable or function value can be indicated by juxtoposition, no '*' needed:"
   ]
  },
  {
   "cell_type": "code",
   "execution_count": 160,
   "id": "04a16b88-4fb8-4d87-b4c9-394a01a20041",
   "metadata": {},
   "outputs": [
    {
     "name": "stdout",
     "output_type": "stream",
     "text": [
      "6.283185307179586\n",
      "3.9999999999999996\n"
     ]
    }
   ],
   "source": [
    "println(2π)\n",
    "println(4tan(pi/4))"
   ]
  },
  {
   "cell_type": "markdown",
   "id": "e437cd10-1c9c-4c05-a88e-c9ab370e8540",
   "metadata": {},
   "source": [
    "(julia-language-arrays)=\n",
    "## Arrays"
   ]
  },
  {
   "cell_type": "markdown",
   "id": "792264bf-96b3-4cb6-b1cc-6c06e7c62ea4",
   "metadata": {},
   "source": [
    "Julia has numerical arrays bult in, and the basic construction notation is much as in Matlab, with semicolons separating rows.\n",
    "However, not everything is a matrix of real numbers:\n",
    "- Integer values are supported.\n",
    "- There is a distinction between matrices and vectors, with the latter being equivalent to single column matrices.\n",
    "- Single row matrices are still considered as matrices.\n",
    "\n",
    "This all follows common mathematical conventions, and so does multiplication."
   ]
  },
  {
   "cell_type": "markdown",
   "id": "b36b3ac5-41f8-40cb-bd89-aa77cc00a835",
   "metadata": {},
   "source": [
    "Vectors (1-index arrays) are created with bracketed, comma separated lists;\n",
    "note the column vector presentation."
   ]
  },
  {
   "cell_type": "code",
   "execution_count": 161,
   "id": "9d2efee4-f5bb-4fcb-8b57-2a15ad2c7773",
   "metadata": {},
   "outputs": [
    {
     "data": {
      "text/plain": [
       "3-element Vector{Int64}:\n",
       " 1\n",
       " 2\n",
       " 3"
      ]
     },
     "execution_count": 161,
     "metadata": {},
     "output_type": "execute_result"
    }
   ],
   "source": [
    "v = [1, 2, 3]"
   ]
  },
  {
   "cell_type": "markdown",
   "id": "b9f0d29a-6435-4e37-bdeb-15f5314de441",
   "metadata": {},
   "source": [
    "Matrices are created with rows separated by semicolons and elements with a row separated only by spaces:"
   ]
  },
  {
   "cell_type": "code",
   "execution_count": 162,
   "id": "58b0288d-73ee-4b22-96d2-e54a61c0b29f",
   "metadata": {},
   "outputs": [
    {
     "data": {
      "text/plain": [
       "2×3 Matrix{Float64}:\n",
       " 1.0  2.0  3.0\n",
       " 4.0  5.0  6.0"
      ]
     },
     "execution_count": 162,
     "metadata": {},
     "output_type": "execute_result"
    }
   ],
   "source": [
    "A = [ 1.0 2.0 3.0 ; 4.0 5.0 6.0 ]"
   ]
  },
  {
   "cell_type": "markdown",
   "id": "67d9ff2e-e70a-4c8e-849d-8f317000387c",
   "metadata": {},
   "source": [
    "Note the difference from vector `v` above:"
   ]
  },
  {
   "cell_type": "code",
   "execution_count": 163,
   "id": "a7dd105d-4fb5-4198-9d52-038815db2cad",
   "metadata": {},
   "outputs": [
    {
     "data": {
      "text/plain": [
       "1×3 Matrix{Int64}:\n",
       " 1  2  3"
      ]
     },
     "execution_count": 163,
     "metadata": {},
     "output_type": "execute_result"
    }
   ],
   "source": [
    "u = [ 1 2 3 ]"
   ]
  },
  {
   "cell_type": "markdown",
   "id": "184f3b09-5ecf-4ca6-9ef7-2b9ab6ff71c9",
   "metadata": {},
   "source": [
    "On the other hand, a vector can be created as a one-column matrix:"
   ]
  },
  {
   "cell_type": "code",
   "execution_count": 164,
   "id": "bd7fff4d-d394-43cf-acb8-00587a0935c2",
   "metadata": {},
   "outputs": [
    {
     "data": {
      "text/plain": [
       "3-element Vector{Int64}:\n",
       " 1\n",
       " 2\n",
       " 3"
      ]
     },
     "execution_count": 164,
     "metadata": {},
     "output_type": "execute_result"
    }
   ],
   "source": [
    "v_as_matrix = [ 1 ; 2 ; 3 ]"
   ]
  },
  {
   "cell_type": "code",
   "execution_count": 165,
   "id": "06a87fe1-2e4a-48be-b5d0-e92f55ddcb94",
   "metadata": {},
   "outputs": [
    {
     "data": {
      "text/plain": [
       "true"
      ]
     },
     "execution_count": 165,
     "metadata": {},
     "output_type": "execute_result"
    }
   ],
   "source": [
    "v == v_as_matrix"
   ]
  },
  {
   "cell_type": "code",
   "execution_count": 166,
   "id": "c3dc4b50-f5cd-4ea9-a790-acc91ab66906",
   "metadata": {},
   "outputs": [
    {
     "data": {
      "text/plain": [
       "false"
      ]
     },
     "execution_count": 166,
     "metadata": {},
     "output_type": "execute_result"
    }
   ],
   "source": [
    "v == u"
   ]
  },
  {
   "cell_type": "code",
   "execution_count": 167,
   "id": "c7ce7f9a-8fa5-4666-8911-af5b1a027077",
   "metadata": {},
   "outputs": [
    {
     "data": {
      "text/plain": [
       "1-element Vector{Int64}:\n",
       " 14"
      ]
     },
     "execution_count": 167,
     "metadata": {},
     "output_type": "execute_result"
    }
   ],
   "source": [
    "u * v  # like u-transpose times v; the inner product"
   ]
  },
  {
   "cell_type": "code",
   "execution_count": 168,
   "id": "4676670e-6160-4b4e-bb29-76493ecf5e44",
   "metadata": {},
   "outputs": [
    {
     "data": {
      "text/plain": [
       "3×3 Matrix{Int64}:\n",
       " 1  2  3\n",
       " 2  4  6\n",
       " 3  6  9"
      ]
     },
     "execution_count": 168,
     "metadata": {},
     "output_type": "execute_result"
    }
   ],
   "source": [
    "outer = v * u  # The outer product"
   ]
  },
  {
   "cell_type": "code",
   "execution_count": 169,
   "id": "b4249694-885a-4c6c-b7a0-6d4ffeed93e9",
   "metadata": {},
   "outputs": [
    {
     "ename": "LoadError",
     "evalue": "MethodError: no method matching *(::Vector{Int64}, ::Vector{Int64})\n\u001b[0mClosest candidates are:\n\u001b[0m  *(::Any, ::Any, \u001b[91m::Any\u001b[39m, \u001b[91m::Any...\u001b[39m) at operators.jl:591\n\u001b[0m  *(\u001b[91m::StridedMatrix{T}\u001b[39m, ::StridedVector{S}) where {T<:Union{Float32, Float64, ComplexF32, ComplexF64}, S<:Real} at /Applications/Julia-1.8.app/Contents/Resources/julia/share/julia/stdlib/v1.8/LinearAlgebra/src/matmul.jl:49\n\u001b[0m  *(::StridedVecOrMat, \u001b[91m::LinearAlgebra.Adjoint{<:Any, <:LinearAlgebra.LQPackedQ}\u001b[39m) at /Applications/Julia-1.8.app/Contents/Resources/julia/share/julia/stdlib/v1.8/LinearAlgebra/src/lq.jl:269\n\u001b[0m  ...",
     "output_type": "error",
     "traceback": [
      "MethodError: no method matching *(::Vector{Int64}, ::Vector{Int64})\n\u001b[0mClosest candidates are:\n\u001b[0m  *(::Any, ::Any, \u001b[91m::Any\u001b[39m, \u001b[91m::Any...\u001b[39m) at operators.jl:591\n\u001b[0m  *(\u001b[91m::StridedMatrix{T}\u001b[39m, ::StridedVector{S}) where {T<:Union{Float32, Float64, ComplexF32, ComplexF64}, S<:Real} at /Applications/Julia-1.8.app/Contents/Resources/julia/share/julia/stdlib/v1.8/LinearAlgebra/src/matmul.jl:49\n\u001b[0m  *(::StridedVecOrMat, \u001b[91m::LinearAlgebra.Adjoint{<:Any, <:LinearAlgebra.LQPackedQ}\u001b[39m) at /Applications/Julia-1.8.app/Contents/Resources/julia/share/julia/stdlib/v1.8/LinearAlgebra/src/lq.jl:269\n\u001b[0m  ...",
      "",
      "Stacktrace:",
      " [1] top-level scope",
      "   @ In[169]:1",
      " [2] eval",
      "   @ ./boot.jl:368 [inlined]",
      " [3] include_string(mapexpr::typeof(REPL.softscope), mod::Module, code::String, filename::String)",
      "   @ Base ./loading.jl:1428"
     ]
    }
   ],
   "source": [
    "v * v  # vector times vector, a mismatch"
   ]
  },
  {
   "cell_type": "markdown",
   "id": "bf576919-d9ef-458d-ab53-9ea5a795e3dd",
   "metadata": {},
   "source": [
    "A row matrix can be converted to a vector with function `collect`, which we will see again below."
   ]
  },
  {
   "cell_type": "code",
   "execution_count": 170,
   "id": "b9f8230a-ed1b-4f33-a161-ccb0c045a77a",
   "metadata": {},
   "outputs": [
    {
     "data": {
      "text/plain": [
       "3-element Vector{Int64}:\n",
       " 1\n",
       " 2\n",
       " 3"
      ]
     },
     "execution_count": 170,
     "metadata": {},
     "output_type": "execute_result"
    }
   ],
   "source": [
    "collect(v)"
   ]
  },
  {
   "cell_type": "markdown",
   "id": "239724fd-a9af-4714-9e8b-9e9b5b469197",
   "metadata": {},
   "source": [
    "<a name=\"arrayindexingslicing\"></a>\n",
    "### Array indexing and slicing\n",
    "\n",
    "Indices run from 1 (like Matlab, unlike Python), **but** indices are indicated with brackets\n",
    "(like Python, unlike Matlab — which uses parentheses for too many things!)"
   ]
  },
  {
   "cell_type": "code",
   "execution_count": 171,
   "id": "707b4ef2-0eae-42ad-8ab5-4ce75379ddf9",
   "metadata": {},
   "outputs": [
    {
     "data": {
      "text/plain": [
       "1"
      ]
     },
     "execution_count": 171,
     "metadata": {},
     "output_type": "execute_result"
    }
   ],
   "source": [
    "v[1]"
   ]
  },
  {
   "cell_type": "code",
   "execution_count": 172,
   "id": "58a18f37-193d-47aa-a761-e33b70bc0f4d",
   "metadata": {},
   "outputs": [
    {
     "data": {
      "text/plain": [
       "6.0"
      ]
     },
     "execution_count": 172,
     "metadata": {},
     "output_type": "execute_result"
    }
   ],
   "source": [
    "A[2,3]"
   ]
  },
  {
   "cell_type": "markdown",
   "id": "48078450-07c1-445f-9f7d-00f3accff62a",
   "metadata": {},
   "source": [
    "**Be careful with single indexing a higher dimensional array.**\n",
    "\n",
    "This treats the elements of the array as if laid out in a singe row (\"flattened\"), rather than selecting a row as in Python."
   ]
  },
  {
   "cell_type": "code",
   "execution_count": 173,
   "id": "d1778165-44e2-44e5-b62f-e7222e965bf9",
   "metadata": {},
   "outputs": [
    {
     "data": {
      "text/plain": [
       "(1.0, 4.0, 2.0, 5.0, 3.0, 6.0)"
      ]
     },
     "execution_count": 173,
     "metadata": {},
     "output_type": "execute_result"
    }
   ],
   "source": [
    "A[1], A[2], A[3], A[4], A[5], A[6]"
   ]
  },
  {
   "cell_type": "markdown",
   "id": "b6b5fddc-2896-46b7-93f6-96152988dba0",
   "metadata": {},
   "source": [
    "Also note the order: the columns are joined end-to-end, not the rows:\n",
    "Julia follows Matlab (and Fortran) in storing arrays in **column-major order**, \n",
    "as opposed to the **row-major order** of Python (and C ,and Java, and in general in languages that count fom zero.)"
   ]
  },
  {
   "cell_type": "markdown",
   "id": "8ab01ab7-247b-4a72-ac33-836497199c5e",
   "metadata": {},
   "source": [
    "One can also index expressions directly"
   ]
  },
  {
   "cell_type": "code",
   "execution_count": 174,
   "id": "b1aea3bf-285a-4556-9a0a-168dfe703925",
   "metadata": {},
   "outputs": [
    {
     "data": {
      "text/plain": [
       "4"
      ]
     },
     "execution_count": 174,
     "metadata": {},
     "output_type": "execute_result"
    }
   ],
   "source": [
    "(v*u)[2,2]"
   ]
  },
  {
   "cell_type": "markdown",
   "id": "537a68f4-45eb-42e2-9fcf-c6f5e4e0de09",
   "metadata": {},
   "source": [
    "Indexing part of an array can be done with **slicing** which works mostly as in Matlab.\n",
    "\n",
    "The basic form is `first:last`, selecting indices from `first` to `last` *inclusive* (like Matlab, unlike Python)"
   ]
  },
  {
   "cell_type": "code",
   "execution_count": 175,
   "id": "182a1c85-b471-45ec-98e5-8600f9bf21e1",
   "metadata": {},
   "outputs": [
    {
     "data": {
      "text/plain": [
       "2-element Vector{Int64}:\n",
       " 2\n",
       " 3"
      ]
     },
     "execution_count": 175,
     "metadata": {},
     "output_type": "execute_result"
    }
   ],
   "source": [
    "v[2:3]"
   ]
  },
  {
   "cell_type": "code",
   "execution_count": 176,
   "id": "07cc5d1b-bcf7-4c1c-931f-35591e871734",
   "metadata": {},
   "outputs": [
    {
     "data": {
      "text/plain": [
       "2×2 Matrix{Float64}:\n",
       " 2.0  3.0\n",
       " 5.0  6.0"
      ]
     },
     "execution_count": 176,
     "metadata": {},
     "output_type": "execute_result"
    }
   ],
   "source": [
    "A[1:2,2:3]"
   ]
  },
  {
   "cell_type": "markdown",
   "id": "66df6afe-0c87-491b-9542-6467b3f00d11",
   "metadata": {},
   "source": [
    "The final index value can be indicated by `end`, and index arithmetic can be done on this:"
   ]
  },
  {
   "cell_type": "code",
   "execution_count": 177,
   "id": "5841d0fe-4243-4d1b-a1c2-9eca860eafa9",
   "metadata": {},
   "outputs": [
    {
     "name": "stdout",
     "output_type": "stream",
     "text": [
      "The last entry in v is 3, the penultimate is 2\n",
      "The last two columns of A are\n"
     ]
    },
    {
     "data": {
      "text/plain": [
       "2×2 Matrix{Float64}:\n",
       " 2.0  3.0\n",
       " 5.0  6.0"
      ]
     },
     "execution_count": 177,
     "metadata": {},
     "output_type": "execute_result"
    }
   ],
   "source": [
    "println(\"The last entry in v is \", v[end], \", the penultimate is \", v[end-1])\n",
    "println(\"The last two columns of A are\")\n",
    "A[1:end, end-1:end]"
   ]
  },
  {
   "cell_type": "markdown",
   "id": "5d53376e-0d1c-4271-9920-53783c4694f1",
   "metadata": {},
   "source": [
    "When the slice on an index is all values, one can use `:` instead of `1:end`.\n",
    "So the previous example could also be done as"
   ]
  },
  {
   "cell_type": "code",
   "execution_count": 178,
   "id": "3edc2e27-91fd-41eb-a9ad-2d87b67ccb1f",
   "metadata": {},
   "outputs": [
    {
     "data": {
      "text/plain": [
       "2×2 Matrix{Float64}:\n",
       " 2.0  3.0\n",
       " 5.0  6.0"
      ]
     },
     "execution_count": 178,
     "metadata": {},
     "output_type": "execute_result"
    }
   ],
   "source": [
    "A[:, end-1:end]"
   ]
  },
  {
   "cell_type": "markdown",
   "id": "0d370caf-8522-45f7-a382-0b89a76a2bca",
   "metadata": {},
   "source": [
    "One can also specify an arbitrary collection of indices by giving a bracketed list (a one index array) of indices.\n",
    "\n",
    "For example, The \"corners\" of the outer product `u * v`, flipped vertically, are"
   ]
  },
  {
   "cell_type": "code",
   "execution_count": 179,
   "id": "a645f738-9217-46f9-a31a-bef7ea8bc658",
   "metadata": {},
   "outputs": [
    {
     "data": {
      "text/plain": [
       "2×2 Matrix{Int64}:\n",
       " 3  9\n",
       " 1  3"
      ]
     },
     "execution_count": 179,
     "metadata": {},
     "output_type": "execute_result"
    }
   ],
   "source": [
    "outer[[3,1], [1,3]]"
   ]
  },
  {
   "cell_type": "markdown",
   "id": "44d56dba-2890-49c9-85d5-996d4e12b30a",
   "metadata": {},
   "source": [
    "and we can permute rows like this"
   ]
  },
  {
   "cell_type": "code",
   "execution_count": 180,
   "id": "4eb85424-b634-4ed6-9bce-e336a0d4c4f3",
   "metadata": {},
   "outputs": [
    {
     "data": {
      "text/plain": [
       "3×3 Matrix{Int64}:\n",
       " 3  6  9\n",
       " 1  2  3\n",
       " 2  4  6"
      ]
     },
     "execution_count": 180,
     "metadata": {},
     "output_type": "execute_result"
    }
   ],
   "source": [
    "outer[[3,1,2],:]"
   ]
  },
  {
   "cell_type": "markdown",
   "id": "352385d7-a6fa-411d-be98-72b50d360102",
   "metadata": {},
   "source": [
    "A tricky point: slicing to a single row matrix vs slicing to a vector.\n",
    "\n",
    "For some matrix-vector caclulations is is necessary to ensure that an object is a \"1 by n\" row matrix rather than an n-vector (which is an \"n by 1\" column matrix) but unfortunately, **slicing out a single row of matrix returns a vector:**"
   ]
  },
  {
   "cell_type": "code",
   "execution_count": 181,
   "id": "47cc7211-ae55-4d00-9b8b-4e232341b630",
   "metadata": {},
   "outputs": [
    {
     "data": {
      "text/plain": [
       "3-element Vector{Float64}:\n",
       " 1.0\n",
       " 2.0\n",
       " 3.0"
      ]
     },
     "execution_count": 181,
     "metadata": {},
     "output_type": "execute_result"
    }
   ],
   "source": [
    "A[1,:]  # gives a vector, a.k.a. a 1 column matrix"
   ]
  },
  {
   "cell_type": "markdown",
   "id": "3b60200e-1c65-418b-b11a-f892fb62f813",
   "metadata": {},
   "source": [
    "To keep the slice as a row, indicating the row as `[i]` rather than just `i`:"
   ]
  },
  {
   "cell_type": "code",
   "execution_count": 182,
   "id": "c8da5200-4694-4028-9cd4-b21402372d59",
   "metadata": {},
   "outputs": [
    {
     "data": {
      "text/plain": [
       "1×3 Matrix{Float64}:\n",
       " 1.0  2.0  3.0"
      ]
     },
     "execution_count": 182,
     "metadata": {},
     "output_type": "execute_result"
    }
   ],
   "source": [
    "A[[1],:]  # gives a 1 row matrix"
   ]
  },
  {
   "cell_type": "markdown",
   "id": "960400a3-64a3-4823-b7a8-4d2f709c72e7",
   "metadata": {},
   "source": [
    "So this works as an outer product"
   ]
  },
  {
   "cell_type": "code",
   "execution_count": 183,
   "id": "ccc795aa-163f-443d-b60c-8a83e00fad2a",
   "metadata": {},
   "outputs": [
    {
     "data": {
      "text/plain": [
       "3×3 Matrix{Float64}:\n",
       " 3.0   6.0   9.0\n",
       " 4.0   8.0  12.0\n",
       " 5.0  10.0  15.0"
      ]
     },
     "execution_count": 183,
     "metadata": {},
     "output_type": "execute_result"
    }
   ],
   "source": [
    "[3, 4, 5] * A[[1],:]"
   ]
  },
  {
   "cell_type": "markdown",
   "id": "2c986821-cafb-450c-a275-50102a0717f7",
   "metadata": {},
   "source": [
    "but this fails as a \"vector times vector\"\""
   ]
  },
  {
   "cell_type": "code",
   "execution_count": 184,
   "id": "6accf731-099c-4f03-9cc5-72a1cabf392c",
   "metadata": {},
   "outputs": [
    {
     "ename": "LoadError",
     "evalue": "MethodError: no method matching *(::Vector{Int64}, ::Vector{Float64})\n\u001b[0mClosest candidates are:\n\u001b[0m  *(::Any, ::Any, \u001b[91m::Any\u001b[39m, \u001b[91m::Any...\u001b[39m) at operators.jl:591\n\u001b[0m  *(\u001b[91m::StridedMatrix{T}\u001b[39m, ::StridedVector{S}) where {T<:Union{Float32, Float64, ComplexF32, ComplexF64}, S<:Real} at /Applications/Julia-1.8.app/Contents/Resources/julia/share/julia/stdlib/v1.8/LinearAlgebra/src/matmul.jl:49\n\u001b[0m  *(::StridedVecOrMat, \u001b[91m::LinearAlgebra.Adjoint{<:Any, <:LinearAlgebra.LQPackedQ}\u001b[39m) at /Applications/Julia-1.8.app/Contents/Resources/julia/share/julia/stdlib/v1.8/LinearAlgebra/src/lq.jl:269\n\u001b[0m  ...",
     "output_type": "error",
     "traceback": [
      "MethodError: no method matching *(::Vector{Int64}, ::Vector{Float64})\n\u001b[0mClosest candidates are:\n\u001b[0m  *(::Any, ::Any, \u001b[91m::Any\u001b[39m, \u001b[91m::Any...\u001b[39m) at operators.jl:591\n\u001b[0m  *(\u001b[91m::StridedMatrix{T}\u001b[39m, ::StridedVector{S}) where {T<:Union{Float32, Float64, ComplexF32, ComplexF64}, S<:Real} at /Applications/Julia-1.8.app/Contents/Resources/julia/share/julia/stdlib/v1.8/LinearAlgebra/src/matmul.jl:49\n\u001b[0m  *(::StridedVecOrMat, \u001b[91m::LinearAlgebra.Adjoint{<:Any, <:LinearAlgebra.LQPackedQ}\u001b[39m) at /Applications/Julia-1.8.app/Contents/Resources/julia/share/julia/stdlib/v1.8/LinearAlgebra/src/lq.jl:269\n\u001b[0m  ...",
      "",
      "Stacktrace:",
      " [1] top-level scope",
      "   @ In[184]:1",
      " [2] eval",
      "   @ ./boot.jl:368 [inlined]",
      " [3] include_string(mapexpr::typeof(REPL.softscope), mod::Module, code::String, filename::String)",
      "   @ Base ./loading.jl:1428"
     ]
    }
   ],
   "source": [
    "[3, 4, 5] * A[1,:]"
   ]
  },
  {
   "cell_type": "markdown",
   "id": "338d15ca-e64b-4e02-a5e2-406d47e550ed",
   "metadata": {},
   "source": [
    "Slicing can also select equally spaced values with syntax `first:step:last`\n",
    "\n",
    "**Warning to Python users:** the order is different (Python uses `first:last:step`)"
   ]
  },
  {
   "cell_type": "code",
   "execution_count": 185,
   "id": "e2ae01d2-806e-46d5-98bc-65209a4811d9",
   "metadata": {},
   "outputs": [
    {
     "data": {
      "text/plain": [
       "2×2 Matrix{Float64}:\n",
       " 1.0  3.0\n",
       " 4.0  6.0"
      ]
     },
     "execution_count": 185,
     "metadata": {},
     "output_type": "execute_result"
    }
   ],
   "source": [
    "A[:,1:2:3]"
   ]
  },
  {
   "cell_type": "markdown",
   "id": "fc3ff127-ca6a-4886-ab67-cebac6dd077a",
   "metadata": {},
   "source": [
    "In particular, this allows counting backwards, with step of -1:"
   ]
  },
  {
   "cell_type": "code",
   "execution_count": 186,
   "id": "38cb7bf9-ba26-4a5f-859c-2f7e731ad380",
   "metadata": {},
   "outputs": [
    {
     "data": {
      "text/plain": [
       "2×3 Matrix{Float64}:\n",
       " 3.0  2.0  1.0\n",
       " 6.0  5.0  4.0"
      ]
     },
     "execution_count": 186,
     "metadata": {},
     "output_type": "execute_result"
    }
   ],
   "source": [
    "A[:,end:-1:1]"
   ]
  },
  {
   "cell_type": "markdown",
   "id": "dfa0ab0e-8c49-4388-8286-a94b7759b508",
   "metadata": {},
   "source": [
    "One big difference from Matlab or Python is some \"orthogonality\":\n",
    "rather than just being a notation used in this context of array indexing,\n",
    "this colon notation is a function (named `:`) whose value is a data type called a **range** that can be used in a variety of contexts, and assigned to variables.\n",
    "\n",
    "One other usage will be seen soon in the notes on [iteration](#iteration).\n",
    "Meanwhile:"
   ]
  },
  {
   "cell_type": "code",
   "execution_count": 187,
   "id": "c2561c1e-a7ad-4408-becd-dc05a836d258",
   "metadata": {},
   "outputs": [
    {
     "data": {
      "text/plain": [
       "1:2:3"
      ]
     },
     "execution_count": 187,
     "metadata": {},
     "output_type": "execute_result"
    }
   ],
   "source": [
    "oddcolumnsorrows = 1:2:3"
   ]
  },
  {
   "cell_type": "code",
   "execution_count": 188,
   "id": "7abbf940-11fb-49b7-898a-1643844763be",
   "metadata": {},
   "outputs": [
    {
     "name": "stdout",
     "output_type": "stream",
     "text": [
      "The odd numbered rows of A are"
     ]
    },
    {
     "data": {
      "text/plain": [
       "2×2 Matrix{Float64}:\n",
       " 1.0  3.0\n",
       " 4.0  6.0"
      ]
     },
     "execution_count": 188,
     "metadata": {},
     "output_type": "execute_result"
    }
   ],
   "source": [
    "print(\"The odd numbered rows of A are\")\n",
    "A[:,oddcolumnsorrows]"
   ]
  },
  {
   "cell_type": "code",
   "execution_count": 189,
   "id": "20e403dd-3dd7-4dac-b49c-1c61974d3a91",
   "metadata": {},
   "outputs": [
    {
     "name": "stdout",
     "output_type": "stream",
     "text": [
      "The odd numbered rows of the outer product 'v u' are"
     ]
    },
    {
     "data": {
      "text/plain": [
       "2×3 Matrix{Int64}:\n",
       " 1  2  3\n",
       " 3  6  9"
      ]
     },
     "execution_count": 189,
     "metadata": {},
     "output_type": "execute_result"
    }
   ],
   "source": [
    "print(\"The odd numbered rows of the outer product 'v u' are\")\n",
    "(v*u)[oddcolumnsorrows,:]"
   ]
  },
  {
   "cell_type": "markdown",
   "id": "577c4db6-f5b9-4f41-82d4-4680193e7bb2",
   "metadata": {
    "tags": []
   },
   "source": [
    "<a name=\"range\"></a>\n",
    "### Function `range`\n",
    "\n",
    "Closely related to this slice syntax is the function `range`, which produces a range value as above, and has several flavors:\n",
    "\n",
    "- `range(start, stop)` returns `start:stop`.\n",
    "\n",
    "- `range(start, stop, length)` returns a range running from `start` to `stop` with `length` values — like `linspace` in both Matlab and Python.\n",
    "\n",
    "- `range(start, stop, step=stepsize)` returns `start:stepsize:stop`. But note that this flexibility requires specifying what the third parameter means by using its name: it is a **keyword parameter**.\n",
    "\n",
    "- More generally, there are four parameters `start`, `stop`, `length` and `step` and you can specify any three (which determines the fourth). However, all other combinations require specifying some or all of them by name, as keyword parameters.\n",
    "\n",
    "Keyword parameters will be discussed in the section [Functions, Part 2](#functions2) once that is written.\n",
    "\n",
    "Meanwhile, some examples."
   ]
  },
  {
   "cell_type": "code",
   "execution_count": 190,
   "id": "896f2e7c-2415-4f92-8ba9-fe2c8b8f7dcb",
   "metadata": {},
   "outputs": [
    {
     "data": {
      "text/plain": [
       "1:11"
      ]
     },
     "execution_count": 190,
     "metadata": {},
     "output_type": "execute_result"
    }
   ],
   "source": [
    "range(1,11)"
   ]
  },
  {
   "cell_type": "code",
   "execution_count": 191,
   "id": "9daa263c-ad28-46ee-8f24-87be0d257ccf",
   "metadata": {},
   "outputs": [
    {
     "data": {
      "text/plain": [
       "1.0:0.1:2.0"
      ]
     },
     "execution_count": 191,
     "metadata": {},
     "output_type": "execute_result"
    }
   ],
   "source": [
    "range(1,2,11)"
   ]
  },
  {
   "cell_type": "code",
   "execution_count": 192,
   "id": "b5353393-74d4-4246-b232-08323bc698cb",
   "metadata": {},
   "outputs": [
    {
     "data": {
      "text/plain": [
       "1.0:0.1:2.0"
      ]
     },
     "execution_count": 192,
     "metadata": {},
     "output_type": "execute_result"
    }
   ],
   "source": [
    "range(1, 2, step=0.1)"
   ]
  },
  {
   "cell_type": "code",
   "execution_count": 193,
   "id": "45e90e90-ad72-4fe6-b8ba-c3d6c9b968f7",
   "metadata": {},
   "outputs": [
    {
     "data": {
      "text/plain": [
       "1.0:0.1:2.0"
      ]
     },
     "execution_count": 193,
     "metadata": {},
     "output_type": "execute_result"
    }
   ],
   "source": [
    "range(step=0.1, stop=2, length=11)  # A weird but legal way to do it"
   ]
  },
  {
   "cell_type": "markdown",
   "id": "406bdb86-aaca-4fad-92d3-24d2efc51a58",
   "metadata": {},
   "source": [
    "<a name=\"tuples\"></a>\n",
    "## Tuples\n",
    "\n",
    "Julia also has tuples, much as in Python.\n",
    "\n",
    "These resemble one index arrays, excpr that\n",
    "- The elements can be anythingm and do not need to be of the same type.\n",
    "- They are **immutable**: leemts can be accessed by indexing, *but cannnot be changed*.\n",
    "\n",
    "Tuples are created as a comma-separated lists, optionally parenthesized:"
   ]
  },
  {
   "cell_type": "code",
   "execution_count": 194,
   "id": "be2931b5-bf7e-4134-b0e2-b90f67fd077d",
   "metadata": {},
   "outputs": [
    {
     "data": {
      "text/plain": [
       "('1', \"two\", 3)"
      ]
     },
     "execution_count": 194,
     "metadata": {},
     "output_type": "execute_result"
    }
   ],
   "source": [
    "tuple123 = ('1', \"two\", 3)"
   ]
  },
  {
   "cell_type": "code",
   "execution_count": 195,
   "id": "d16fd357-5048-4b5b-b56f-f9ada541215e",
   "metadata": {},
   "outputs": [
    {
     "ename": "LoadError",
     "evalue": "syntax: extra token \"equivalently\" after end of expression",
     "output_type": "error",
     "traceback": [
      "syntax: extra token \"equivalently\" after end of expression",
      "",
      "Stacktrace:",
      " [1] top-level scope",
      "   @ In[195]:1",
      " [2] eval",
      "   @ ./boot.jl:368 [inlined]",
      " [3] include_string(mapexpr::typeof(REPL.softscope), mod::Module, code::String, filename::String)",
      "   @ Base ./loading.jl:1428"
     ]
    }
   ],
   "source": [
    "or equivalently"
   ]
  },
  {
   "cell_type": "code",
   "execution_count": 196,
   "id": "f272539a-95a5-4d98-ad27-e969ab081bdd",
   "metadata": {},
   "outputs": [
    {
     "data": {
      "text/plain": [
       "('1', \"two\", 3)"
      ]
     },
     "execution_count": 196,
     "metadata": {},
     "output_type": "execute_result"
    }
   ],
   "source": [
    "tuple123 = '1', \"two\", 3"
   ]
  },
  {
   "cell_type": "code",
   "execution_count": 197,
   "id": "fa83e06a-b252-4b2b-acab-d724ab3d9030",
   "metadata": {},
   "outputs": [
    {
     "data": {
      "text/plain": [
       "\"two\""
      ]
     },
     "execution_count": 197,
     "metadata": {},
     "output_type": "execute_result"
    }
   ],
   "source": [
    "tuple123[2]"
   ]
  },
  {
   "cell_type": "markdown",
   "id": "52791ef0-0016-43f1-9afa-15602f74c156",
   "metadata": {},
   "source": [
    "but this is not allowed:"
   ]
  },
  {
   "cell_type": "code",
   "execution_count": 198,
   "id": "be53cb39-e9bf-4b80-acfc-14436d846dce",
   "metadata": {},
   "outputs": [
    {
     "ename": "LoadError",
     "evalue": "MethodError: no method matching setindex!(::Tuple{Char, String, Int64}, ::Int64, ::Int64)",
     "output_type": "error",
     "traceback": [
      "MethodError: no method matching setindex!(::Tuple{Char, String, Int64}, ::Int64, ::Int64)",
      "",
      "Stacktrace:",
      " [1] top-level scope",
      "   @ In[198]:1",
      " [2] eval",
      "   @ ./boot.jl:368 [inlined]",
      " [3] include_string(mapexpr::typeof(REPL.softscope), mod::Module, code::String, filename::String)",
      "   @ Base ./loading.jl:1428"
     ]
    }
   ],
   "source": [
    "tuple123[3] = 4"
   ]
  },
  {
   "cell_type": "markdown",
   "id": "1852f0e1-bf1a-48e6-a2ae-a96ae9fa018d",
   "metadata": {},
   "source": [
    "One very common use of tuples is in functions that return more than one quantity, such as\n",
    "[`rowreduction`](NumericalMethods.html#rowreduction) in {doc}`NumericalMethods` which returns its results with\n",
    "\n",
    "    return (U, c)\n",
    "Strictly a single quantity is returned, but it is a tuple."
   ]
  },
  {
   "cell_type": "markdown",
   "id": "291931c4-9dfb-475e-8ff9-de1fcd2b2413",
   "metadata": {},
   "source": [
    "(vectorization-and-broadcasting)=\n",
    "## Arithmetic operations on arrays: vectorization and broadcasting"
   ]
  },
  {
   "cell_type": "markdown",
   "id": "1cf30896-0af9-4f35-9959-c6566464ed8f",
   "metadata": {},
   "source": [
    "- With arrays, addition and subtraction and multiplicato or division by numbers work as one would expect with vector matrices and such.\n",
    "\n",
    "- Multiplication of arrays as with `A*b` does matrix-matrix or matrix-vector product (again as with Matlab).\n",
    "\n",
    "- `A/b` and `A\\b` are also matrix and vector friendly; in particular `x = A\\b` means $x = A^{-1}b$ and so solves $A x = b$.\n",
    "\n",
    "- Also copied from Matlab is the \"dot\" or \"pointwise\" versions of operators, but this goes beyond what Matlab does. In the following I use lower case lettters for numbers, upper case for arrays, and illustrate only for 1D arrays though it works in higher dimensions too.\n",
    "\n",
    "- The first case is <a name=\"vectorization\">**vectorization**</a>, creating implicit loops over one or more indices:\n",
    "    - `C = A .* B` computes the product point-wise product, so `C[i] = A[i]*B[i]`.\n",
    "    - `C = a.^B` gives `C[i] = a^B[i]`\n",
    "    - `C = A.^b` gives `C[i] = A[i]^b`\n",
    "    - `C = A.^B` gives `C[i] = A[i]^B[i]`\n",
    "\n",
    "- The second concept is <a name=\"broadcasting\">**broadcasting**</a> where a number is promoted to an appropriate array with that number in each element.\n",
    "\n",
    "- For example `a + B` is an error, but `a .+ B` gives array `C` with `C[i] = a + B[i]`."
   ]
  },
  {
   "cell_type": "markdown",
   "id": "ef2db87f-1a7d-42b8-ad59-e509964a5d98",
   "metadata": {},
   "source": [
    "<a name=\"condititionals\"></a>\n",
    "## Condititional statements"
   ]
  },
  {
   "cell_type": "markdown",
   "id": "5a65d64d-62a4-430a-a755-cdbcf70f8571",
   "metadata": {},
   "source": [
    "One example probably says it all:"
   ]
  },
  {
   "cell_type": "code",
   "execution_count": 199,
   "id": "b33a5311-702a-4110-a4c2-b2f0481c7074",
   "metadata": {},
   "outputs": [
    {
     "data": {
      "text/plain": [
       "11.0"
      ]
     },
     "execution_count": 199,
     "metadata": {},
     "output_type": "execute_result"
    }
   ],
   "source": [
    "x = 11.0"
   ]
  },
  {
   "cell_type": "code",
   "execution_count": 200,
   "id": "93d6e2f9-bd2f-4806-b280-fc59ba2d62a8",
   "metadata": {},
   "outputs": [
    {
     "name": "stdout",
     "output_type": "stream",
     "text": [
      "x is positive\n"
     ]
    }
   ],
   "source": [
    "if x > 0\n",
    "    println(\"x is positive\")\n",
    "elseif x < 0\n",
    "    println(\"x is negative\")\n",
    "else\n",
    "    println(\"x is zero\")\n",
    "end"
   ]
  },
  {
   "cell_type": "markdown",
   "id": "14ac0636-3fd8-4d46-80fe-c8f2c1e80bd5",
   "metadata": {},
   "source": [
    "In other words, \"as in Matlab\", again.\n",
    "\n",
    "Note also the use of the Matlab style of using `end` to end blocks of code,\n",
    "which will of course also be seen with loops, function definition and so on.\n",
    "Indentation is optional but \"four spaces per level (no tabs)\" is the usual style.\n",
    "\n",
    "Also note the `println`; more on output to the screen (and to files) later."
   ]
  },
  {
   "cell_type": "markdown",
   "id": "90f7c3c4-339b-4a33-9eb7-9047eb26bbb3",
   "metadata": {},
   "source": [
    "<a name=\"iteration\"></a>\n",
    "## Iteration with `for`, `while`, `break` and `continue`"
   ]
  },
  {
   "cell_type": "markdown",
   "id": "71aedc84-20c6-467a-bfb4-7c47d1ca6d5b",
   "metadata": {},
   "source": [
    "The title tells much of the story: this is all very much as in Matlab — and as in Python except with `end` statements.\n",
    "\n",
    "The only novelty is the details of the `for` statement, which are roughly the union of the Matlab and Python options.\n",
    "\n",
    "Julia denotes ranges of values with Matlab-style notation:\n",
    "- `a:b` is the values from `a` to `b` by steps of one,\n",
    "- `a:step:b` is the values from `a` to `b` by steps of `step`.\n",
    "\n",
    "This gives the first, Matlab-style `for` loop syntax:"
   ]
  },
  {
   "cell_type": "code",
   "execution_count": 201,
   "id": "190f4780-47ee-44ff-994b-d2076e989d5d",
   "metadata": {},
   "outputs": [
    {
     "name": "stdout",
     "output_type": "stream",
     "text": [
      "12345"
     ]
    }
   ],
   "source": [
    "for i = 1:5\n",
    "    print(i) # no end of lines or spaces\n",
    "end"
   ]
  },
  {
   "cell_type": "code",
   "execution_count": 202,
   "id": "cc25e1a6-eca4-4c2f-963d-3546e39d0ad2",
   "metadata": {},
   "outputs": [
    {
     "name": "stdout",
     "output_type": "stream",
     "text": [
      "1 3 5 "
     ]
    }
   ],
   "source": [
    "for i = 1:2:5\n",
    "    print(i,\" \")\n",
    "end"
   ]
  },
  {
   "cell_type": "code",
   "execution_count": 203,
   "id": "4413700d-53c8-4296-bee2-27eba93a93e7",
   "metadata": {},
   "outputs": [
    {
     "name": "stdout",
     "output_type": "stream",
     "text": [
      "5 4 3 2 1 "
     ]
    }
   ],
   "source": [
    "for i = 5:-1:1\n",
    "    print(i,\" \")\n",
    "end"
   ]
  },
  {
   "cell_type": "markdown",
   "id": "57ba0909-d471-42d3-b14e-747efda23b57",
   "metadata": {},
   "source": [
    "However, there is a far more flexible syntax for looping over all kinds of lists and even more general collections.\n",
    "The general form is\n",
    "\n",
    "    for item in list\n",
    "        ...\n",
    "    end\n",
    "    \n",
    " but until we see all the sorts of things that the \"list\" can be, just a few examples:"
   ]
  },
  {
   "cell_type": "code",
   "execution_count": 204,
   "id": "cd717ed7-6b42-42f3-a90c-6b68cefb509d",
   "metadata": {},
   "outputs": [
    {
     "name": "stdout",
     "output_type": "stream",
     "text": [
      "1^2 is 1\n",
      "2^2 is 4\n",
      "3^2 is 9\n",
      "4^2 is 16\n"
     ]
    }
   ],
   "source": [
    "for i in 1:4\n",
    "    println(\"$i^2 is $(i^2)\")\n",
    "end"
   ]
  },
  {
   "cell_type": "code",
   "execution_count": 205,
   "id": "ff7f7238-28fa-49e0-bc43-2b751f92fab9",
   "metadata": {},
   "outputs": [
    {
     "name": "stdout",
     "output_type": "stream",
     "text": [
      "x is 1.0\n",
      "x is 1.3333333333333333\n",
      "x is 3.3166247903554\n"
     ]
    }
   ],
   "source": [
    "for x in [1, 4/3, sqrt(11)]\n",
    "    println(\"x is $x\")\n",
    "end"
   ]
  },
  {
   "cell_type": "markdown",
   "id": "f7139400-bd31-4d4d-ac91-3b68f4d24d16",
   "metadata": {},
   "source": [
    "A final example using some exotic stuff that will be explained later:"
   ]
  },
  {
   "cell_type": "code",
   "execution_count": 206,
   "id": "9b27c6cd-0e9c-4ee9-9c08-ae6c01fc5d71",
   "metadata": {},
   "outputs": [
    {
     "name": "stdout",
     "output_type": "stream",
     "text": [
      "sin(0.5235987755982988) = 0.49999999999999994\n",
      "cos(0.5235987755982988) = 0.8660254037844387\n",
      "tan(0.5235987755982988) = 0.5773502691896257\n"
     ]
    }
   ],
   "source": [
    "theta = pi/6\n",
    "for f in [sin, cos, tan]\n",
    "    fname = String(Symbol(f))\n",
    "    println(\"$fname($theta) = $(f(theta))\")\n",
    "end"
   ]
  },
  {
   "cell_type": "markdown",
   "id": "2194f276-bd48-406b-a300-4343b3a7e9f9",
   "metadata": {
    "tags": []
   },
   "source": [
    "<a name=\"modules\"></a>\n",
    "## Using modules and packages, and some graph plotting"
   ]
  },
  {
   "cell_type": "markdown",
   "id": "b130aa2d-83ce-4209-9bef-3fca2022419f",
   "metadata": {
    "tags": []
   },
   "source": [
    "Much like Python, collections of functions (and other stuff like constants) can be created and their contents used.\n",
    "\n",
    "There are several ways to do this; here I describe some but not all, and only for a package that already exists (creating your own comes later):\n",
    "`PyPlot`, which is for plotting, and is very similar to both Matlab's plotting commands and the Python package `matplotlib.pyplot`.\n",
    "(There is a bit more more about [PyPlot](#plottingwithpyplot) below.)"
   ]
  },
  {
   "cell_type": "markdown",
   "id": "1edf99fa-aafb-4cba-af6b-fe397870c765",
   "metadata": {},
   "source": [
    "**Method 1** `import` a module: make the module (or package) available, and access its contents by \"full name\";\n",
    "much like the same statement in Python:"
   ]
  },
  {
   "cell_type": "code",
   "execution_count": 207,
   "id": "a4f021ed-b6c4-4448-9e01-9dc7cbadf9cc",
   "metadata": {},
   "outputs": [
    {
     "data": {
      "image/png": "[encoded data removed]",
      "text/plain": [
       "Figure(PyObject <Figure size 640x480 with 1 Axes>)"
      ]
     },
     "metadata": {},
     "output_type": "display_data"
    }
   ],
   "source": [
    "import PyPlot\n",
    "x = range(0.0, 2pi, 100)\n",
    "y = sin.(x)\n",
    "PyPlot.plot(x, y);"
   ]
  },
  {
   "cell_type": "markdown",
   "id": "c8fc1391-dab2-4504-95c1-53dfe45f3d71",
   "metadata": {},
   "source": [
    "**Notes:**\n",
    "- Function `range` is similar to `linspace` in both Matlab and Python; the usage here is `range(first, last, number_of_points)`, giving that many equally spaced values.\n",
    "- This is our first example of vectorizing a function; it must be `sin.` not just `sin`"
   ]
  },
  {
   "cell_type": "markdown",
   "id": "a9754080-c529-4218-b4e7-208abce23322",
   "metadata": {},
   "source": [
    "**Method 2** `import` specific items from a module, making them available by \"first name\" only;\n",
    "much like `from PyPlot import plot, title` In Python:"
   ]
  },
  {
   "cell_type": "code",
   "execution_count": 208,
   "id": "f2040f85-5624-4a68-9740-a18267d057a5",
   "metadata": {},
   "outputs": [
    {
     "data": {
      "image/png": "[encoded data removed]",
      "text/plain": [
       "Figure(PyObject <Figure size 640x480 with 1 Axes>)"
      ]
     },
     "metadata": {},
     "output_type": "display_data"
    }
   ],
   "source": [
    "import PyPlot: plot, title\n",
    "x = range(0, 2pi, 100)\n",
    "y = sin.(x)\n",
    "plot(x, y)\n",
    "title(\"y = sin(x)\");"
   ]
  },
  {
   "cell_type": "markdown",
   "id": "326373b0-510b-445d-bd83-14e464a7bebf",
   "metadata": {},
   "source": [
    "**Method 3.** `using` a module, which makes all items available on a first-name basis full; much like a wild import\n",
    "`from PyPlot import *` in Python.\n",
    "\n",
    "But whereas Python style recommends against wild imports, this is common usage in Julia.\n",
    "In this book I will avoid this with user defined modules, to avoid uncertaintly about where an item comes from.\n",
    "\n",
    "(Confession: the above is not quite true: a module can choose to \"export\" only some of its items, but not others;\n",
    "then `using` provides only those exported items on a first-name basis; other items must still be accessed by their full name.)"
   ]
  },
  {
   "cell_type": "code",
   "execution_count": 209,
   "id": "de1e5264-62ae-4360-b1f3-5316fc3cb42b",
   "metadata": {},
   "outputs": [
    {
     "data": {
      "image/png": "[encoded data removed]",
      "text/plain": [
       "Figure(PyObject <Figure size 640x480 with 1 Axes>)"
      ]
     },
     "metadata": {},
     "output_type": "display_data"
    }
   ],
   "source": [
    "using PyPlot\n",
    "x = range(0, 2pi, 100)\n",
    "y = sin.(x)\n",
    "plot(x, y)\n",
    "title(\"y = sin(x)\")\n",
    "xlabel(\"x\")\n",
    "ylabel(\"y\");"
   ]
  },
  {
   "cell_type": "markdown",
   "id": "829d1eab-8e11-4bab-bda5-3c12ba4a19e9",
   "metadata": {},
   "source": [
    "**Note:** those one character labels still need to be in double quotes;\n",
    "the argument is a string, not a character."
   ]
  },
  {
   "cell_type": "markdown",
   "id": "17bdd3c7-5891-4cdb-b745-54526c2edbd2",
   "metadata": {},
   "source": [
    "<a name=\"functions1\"></a>\n",
    "## Functions, part I"
   ]
  },
  {
   "cell_type": "markdown",
   "id": "f33ec9db-a5c1-43e1-a5fc-9aa620afcedb",
   "metadata": {},
   "source": [
    "Julia's function system is quite innovative, powerful, flexible — and therefore rather complicated to describe.\n",
    "So I start with just the simplest cases."
   ]
  },
  {
   "cell_type": "markdown",
   "id": "147c7746-1d24-4e3f-8b6f-44cf1ba1f7f4",
   "metadata": {},
   "source": [
    "### One liners\n",
    "\n",
    "A very simple syntax for function that just evaluates a single formula is:"
   ]
  },
  {
   "cell_type": "code",
   "execution_count": 210,
   "id": "ee591e1f-3efa-4067-8c90-10bfce464587",
   "metadata": {},
   "outputs": [],
   "source": [
    "f(x) = 2x^2 - 6x + 4;"
   ]
  },
  {
   "cell_type": "markdown",
   "id": "1028ba01-9d29-4455-b22f-a02dd9c679fc",
   "metadata": {},
   "source": [
    "(Multiplication by juxtoposition is nice here!)"
   ]
  },
  {
   "cell_type": "markdown",
   "id": "205d745f-01ad-4412-9764-f4463f910b96",
   "metadata": {},
   "source": [
    "Note: semi-colon suppression is used here because the expression defining a function returns a value:\n",
    "some information about the function."
   ]
  },
  {
   "cell_type": "markdown",
   "id": "24750f63-1562-42f4-a4b4-a08f5d7897f0",
   "metadata": {},
   "source": [
    "This can be used for graphing, but must be vectorized:"
   ]
  },
  {
   "cell_type": "code",
   "execution_count": 211,
   "id": "c4da711d-2083-46aa-88b8-689df82af5ec",
   "metadata": {},
   "outputs": [
    {
     "data": {
      "image/png": "[encoded data removed]",
      "text/plain": [
       "Figure(PyObject <Figure size 640x480 with 1 Axes>)"
      ]
     },
     "metadata": {},
     "output_type": "display_data"
    }
   ],
   "source": [
    "x = range(0, 3, 100)\n",
    "plot(x, f.(x))\n",
    "grid(true)"
   ]
  },
  {
   "cell_type": "markdown",
   "id": "38f72375-eecb-4512-9027-36372e27bf3a",
   "metadata": {},
   "source": [
    "### Functions defined by a block of code"
   ]
  },
  {
   "cell_type": "markdown",
   "id": "195e71c6-22c5-4a52-9482-c600a77b1793",
   "metadata": {},
   "source": [
    "The more general syntax is `function  ... end`, which for the above example is"
   ]
  },
  {
   "cell_type": "code",
   "execution_count": 212,
   "id": "846e2732-557a-45aa-9c35-003b2d8daaef",
   "metadata": {},
   "outputs": [],
   "source": [
    "function f(x)\n",
    "    2x^2 - 6x + 4\n",
    "end;"
   ]
  },
  {
   "cell_type": "code",
   "execution_count": 213,
   "id": "3c31bc7b-427c-4497-acee-a91d473fa04c",
   "metadata": {},
   "outputs": [
    {
     "name": "stdout",
     "output_type": "stream",
     "text": [
      "The vertex is at 1.5, giving minimum value -0.5\n"
     ]
    }
   ],
   "source": [
    "a = 2\n",
    "b = -6\n",
    "vertex = -b/(2a)\n",
    "println(\"The vertex is at $vertex, giving minimum value $(f(vertex))\")"
   ]
  },
  {
   "cell_type": "markdown",
   "id": "05503d19-c77f-4d1f-adf3-90767e792cc9",
   "metadata": {},
   "source": [
    "### The keyword `return`"
   ]
  },
  {
   "cell_type": "markdown",
   "id": "1502c08b-d0c2-4bd6-9535-9a6fbdec1987",
   "metadata": {},
   "source": [
    "This is fine if the output value is always computed on the last line of code,\n",
    "but for more flexibility (and to my mind, better readability) there is the keyword `return`:"
   ]
  },
  {
   "cell_type": "code",
   "execution_count": 214,
   "id": "4924eb88-7668-4642-aa70-c07cf9967066",
   "metadata": {},
   "outputs": [],
   "source": [
    "function f(x)\n",
    "    return 2x^2 - 6x + 4\n",
    "end;"
   ]
  },
  {
   "cell_type": "markdown",
   "id": "f60faec5-79bb-4859-b29d-9939cb7c1ae5",
   "metadata": {},
   "source": [
    "This time the style is more \"Pythonic\", since the output variables are specifed in the `return` line rather than on the `function` line as Matlab does.\n",
    "This allows different calls of the function to return different type of value:"
   ]
  },
  {
   "cell_type": "code",
   "execution_count": 215,
   "id": "650afc1e-7b0a-4b36-b1bb-3184a63347e1",
   "metadata": {},
   "outputs": [],
   "source": [
    "function squareroots(x)\n",
    "    if x > 0\n",
    "        return sqrt(x), -sqrt(x)\n",
    "    elseif x == 0\n",
    "        return 0\n",
    "    else\n",
    "        println(\"I can only handle real roots; sorry.\")\n",
    "    end\n",
    "end;"
   ]
  },
  {
   "cell_type": "code",
   "execution_count": 216,
   "id": "d54aa00b-88bc-49d3-a5ba-e487f6e7dc36",
   "metadata": {},
   "outputs": [
    {
     "data": {
      "text/plain": [
       "(1.7320508075688772, -1.7320508075688772)"
      ]
     },
     "execution_count": 216,
     "metadata": {},
     "output_type": "execute_result"
    }
   ],
   "source": [
    "squareroots(3.0)"
   ]
  },
  {
   "cell_type": "code",
   "execution_count": 217,
   "id": "4f4ba0e5-8002-4644-b783-9a4866354555",
   "metadata": {},
   "outputs": [
    {
     "data": {
      "text/plain": [
       "0"
      ]
     },
     "execution_count": 217,
     "metadata": {},
     "output_type": "execute_result"
    }
   ],
   "source": [
    "squareroots(0.0)"
   ]
  },
  {
   "cell_type": "code",
   "execution_count": 218,
   "id": "85310dce-b732-408c-9f51-2b8ac2ce2fcc",
   "metadata": {},
   "outputs": [
    {
     "name": "stdout",
     "output_type": "stream",
     "text": [
      "I can only handle real roots; sorry.\n"
     ]
    }
   ],
   "source": [
    "squareroots(-1.0)"
   ]
  },
  {
   "cell_type": "markdown",
   "id": "3e0ad706-2cda-44ce-8db1-133ec7435b37",
   "metadata": {},
   "source": [
    "<a name=\"vectorizationoffunctions\"></a>\n",
    "(vectorization-of-functions)=\n",
    "## Vectorization of Functions"
   ]
  },
  {
   "cell_type": "markdown",
   "id": "8a2122a2-05a9-4631-9ebc-0991998cb871",
   "metadata": {},
   "source": [
    "One innovation in Julia is that the dot notation introduced above for\n",
    "[arithmetic on arrays](#arithemeticonarrays) can also be used to vectorize a function; both ones provided by Julia and ones defined in your code.\n",
    "\n",
    "A function `f(x)` whose code expects a number `x` or one `g(x, y)` that expects several numbers can be used on compatable arrays with\n",
    "\n",
    "    Y = f.(X)\n",
    "    Z = g.(X,Y)\n",
    "    \n",
    " The former is thus roughly a short-hand for\n",
    " \n",
    "     for i in length(X)\n",
    "         Y[i] = f(X[i])\n",
    "     end\n",
    "     \n",
    "This is used quite a lot in the next section."
   ]
  },
  {
   "cell_type": "markdown",
   "id": "900271fa-0135-4fcb-bcb6-ca1092553a4b",
   "metadata": {},
   "source": [
    "<a name=\"plottingwithpyplot\"></a>\n",
    "## Plotting graphs: a bit more about PyPlot\n",
    "\n",
    "There are many graphics packages for Julia; this book uses `PyPlot`.\n",
    "The name is because this is a front end to the Python package `matplotlib.pyplot` and in turn that name reflects the fact that Matplotlib mimics Matlab's plotting tools, so this choice makes it easiest for readers familiar with one of those languages.\n",
    "\n",
    "To install PyPlot, see the notes on [getting PyPlot](installing-julia-and-packages#pyplot) in {doc}`installing-julia-and-packages`"
   ]
  },
  {
   "cell_type": "markdown",
   "id": "873e5295-bb4c-4b41-b202-ae3ef33099fd",
   "metadata": {},
   "source": [
    "<a name=\"lstrings\"></a>\n",
    "### L-Strings for inserting LaTeX mathematical markup\n",
    "\n",
    "Mathematical formulas can be used in the annotations on graphs by the use of **L-strings**:\n",
    "string prefixed with 'L' and containing LaTeX mathematical markup between '$' signs."
   ]
  },
  {
   "cell_type": "markdown",
   "id": "0a433eb0-56e0-4f47-9664-629d82b47748",
   "metadata": {},
   "source": [
    "For now I just illustrate all this with a few examples."
   ]
  },
  {
   "cell_type": "code",
   "execution_count": 219,
   "id": "ec8bd49d-2da4-4bda-959a-119cc5c1e089",
   "metadata": {},
   "outputs": [],
   "source": [
    "using PyPlot"
   ]
  },
  {
   "cell_type": "code",
   "execution_count": 220,
   "id": "8bef7a14-3ae2-4371-853f-3f828e928863",
   "metadata": {},
   "outputs": [
    {
     "data": {
      "image/png": "[encoded data removed]",
      "text/plain": [
       "Figure(PyObject <Figure size 640x480 with 1 Axes>)"
      ]
     },
     "metadata": {},
     "output_type": "display_data"
    },
    {
     "data": {
      "image/png": "[encoded data removed]",
      "text/plain": [
       "Figure(PyObject <Figure size 1200x600 with 1 Axes>)"
      ]
     },
     "metadata": {},
     "output_type": "display_data"
    }
   ],
   "source": [
    "x = range(0, 4pi, 100)\n",
    "y = exp.(-x/8) .* cos.(x)\n",
    "\n",
    "figure()\n",
    "title(L\"The decaying oscilation $y = e^{-x/8} \\cos x$\")\n",
    "plot(x, y)\n",
    "xlabel(\"x\")\n",
    "ylabel(\"y\")\n",
    "\n",
    "figure(figsize=[12,6])\n",
    "z = exp.(-x/4) .* sin.(2x)\n",
    "title(\"Adding a faster decay, labels, and wide graph paper\")\n",
    "plot(x, y, label=L\"$e^{-x/8} \\cos x$\")\n",
    "plot(x, z, label=L\"$e^{-x/4} \\sin 2x$\")\n",
    "xlabel(\"x\")\n",
    "ylabel(\"y and z\")\n",
    "legend()\n",
    "grid(true)"
   ]
  },
  {
   "cell_type": "markdown",
   "id": "14842aea-8e90-4dd9-bfcb-ec4c6d2f4f6b",
   "metadata": {},
   "source": [
    "---\n",
    "\n",
    "*To Be Continued ...*"
   ]
  }
 ],
 "metadata": {
  "kernelspec": {
   "display_name": "Julia 1.8.1",
   "language": "julia",
   "name": "julia-1.8"
  },
  "language_info": {
   "file_extension": ".jl",
   "mimetype": "application/julia",
   "name": "julia",
   "version": "1.8.1"
  }
 },
 "nbformat": 4,
 "nbformat_minor": 5
}
