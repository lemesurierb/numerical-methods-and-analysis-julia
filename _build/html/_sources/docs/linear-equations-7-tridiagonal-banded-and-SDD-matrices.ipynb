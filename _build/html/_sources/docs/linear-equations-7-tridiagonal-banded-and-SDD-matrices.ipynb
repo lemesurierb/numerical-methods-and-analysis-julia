{
 "cells": [
  {
   "cell_type": "markdown",
   "metadata": {},
   "source": [
    "# Faster Methods for Solving $Ax = b$ for Tridiagonal and Banded matrices, and Strict Diagonal Dominance"
   ]
  },
  {
   "cell_type": "markdown",
   "metadata": {},
   "source": [
    "**Reference:**\n",
    "\n",
    "Section 6.6 *Special Types of Matrices* in  {cite}`Burden-Faires`,\n",
    "the sub-sections on *Band Matrices* and *Tridiagonal Matrices*."
   ]
  },
  {
   "cell_type": "markdown",
   "metadata": {},
   "source": [
    "## Tridiagonal systems\n",
    "\n",
    "Differential equations often lead to the need to solve systems of equations $T x = b$ where the matrix $T$ is **tri-diagonal**:\n",
    "the only non-zero elements are on the main diagonal and the diagonals adjacent to it on either side, so that $T_{i,j} = 0$ if $|i - j| > 1$.\n",
    "That is, the system looks like:\n",
    "\n",
    "```{prf:definition} Tridiagonal matrix\n",
    ":label: definition-tridiagonal\n",
    "\n",
    "A matrix $T$ is **tridiagonal** if the only non-zero elements are on the main diagonal and the diagonals adjacent to it on either side, so that $T_{i,j} = 0$ if $|i - j| > 1$.\n",
    "That is, the system looks like:\n",
    "\n",
    "$$\n",
    "T x =\n",
    "\\left[\\begin{array}{cccccc}\n",
    "d_1 & u_1 \\\\ l_1 & d_2 & u_2 & \\\\ & l_2 & d_3 & u_3\\\\&& \\ddots & \\ddots & \\ddots\\\\&&& l_{n-2} & d_{n-1} & u_{n-1}\\\\&&&& l_{n-1} & d_{n}\\end{array}\\right]\n",
    "\\left[\\begin{array}{c}x_1\\\\x_2\\\\\\vdots\\\\x_n \\end{array}\\right]\n",
    "= \\left[\\begin{array}{c}b_1\\\\b_2\\\\\\vdots\\\\b_n\\end{array}\\right]\n",
    "$$\n",
    "with all \"missing\" entries being zeros.\n",
    "The notation used here suggests one efficient way to store such a matrix: as three 1D arrays $d$, $l$ and $u$.\n",
    "```\n",
    "(Such equations also arise in other important situations, such as {ref}`spline-interpolation`.)"
   ]
  },
  {
   "cell_type": "markdown",
   "metadata": {},
   "source": [
    "It can be verified that LU factorization preserves all the non-zero values, so that the Doolittle algorithm — if it succeeds without any division by zero — gives $T = L U$ with the form"
   ]
  },
  {
   "cell_type": "markdown",
   "metadata": {},
   "source": [
    "$$\n",
    "L = \\left[\\begin{array}{cccccc}\n",
    "1 \\\\\n",
    "L_1 & 1 \\\\\n",
    "& L_2 & 1 \\\\\n",
    "&& \\ddots & \\ddots \\\\\n",
    "&&& L_{n-2} & 1 \\\\\n",
    "&&&& L_{n-1} & 1\n",
    "\\end{array}\\right],\n",
    "\\;\n",
    "U = \\left[\\begin{array}{cccccc}\n",
    "D_1 & u_1 \\\\\n",
    "& D_2 & u_2 \\\\\n",
    "&& D_3 & u_3 \\\\\n",
    "&&& \\ddots & \\ddots \\\\\n",
    "&&&& D_{n-1} & u_{n-1} \\\\\n",
    "&&&&& D_n\n",
    "\\end{array}\\right]\n",
    "$$"
   ]
  },
  {
   "cell_type": "markdown",
   "metadata": {},
   "source": [
    "Note that the first non-zero element in each column is unchanged, as with a full matrix, but now it means that the upper diagonal elements $u_i$ are unchanged.\n",
    "\n",
    "Again, one way to describe and store this information is with just the two new 1D arrays $L$ and $D$, along with the unchanged array $u$."
   ]
  },
  {
   "cell_type": "markdown",
   "metadata": {},
   "source": [
    "## Algorithms"
   ]
  },
  {
   "cell_type": "markdown",
   "metadata": {
    "jp-MarkdownHeadingCollapsed": true,
    "tags": []
   },
   "source": [
    "```{prf:algorithm}  LU factorization\n",
    ":label: lu-factorization\n",
    "\n",
    "$D_1 = d_1$\n",
    "<br>\n",
    "`for i from 2 to n`\n",
    "<br>\n",
    "$\\quad L_{i-1} = l_{i-1}/D_{i-1}$\n",
    "<br>\n",
    "$\\quad D_{i} = d_{i} - L_{i-1} u_{i-1}$\n",
    "<br>\n",
    "`end`\n",
    "```"
   ]
  },
  {
   "cell_type": "markdown",
   "metadata": {},
   "source": [
    "```{prf:algorithm}  Forward substitution\n",
    ":label: forward-substitution\n",
    "\n",
    "$c_1 = b_1$\n",
    "<br>\n",
    "`for i from 2 to n`\n",
    "<br>\n",
    "$\\quad c_{i} = b_{i} - L_{i-1} c_{i-1}$\n",
    "<br>\n",
    "`end`\n",
    "```"
   ]
  },
  {
   "cell_type": "markdown",
   "metadata": {
    "jp-MarkdownHeadingCollapsed": true,
    "tags": []
   },
   "source": [
    "```{prf:algorithm}  Backward substitution\n",
    ":label: backward-substitution-redux\n",
    "\n",
    "$x_n = c_n/D_n$\n",
    "<br>\n",
    "`for i from n-1 down to 1`\n",
    "<br>\n",
    "$\\quad x_{i} = (c_{i} - u_{i} x_{i+1})/D_i$\n",
    "<br>\n",
    "`end`\n",
    "```"
   ]
  },
  {
   "cell_type": "markdown",
   "metadata": {},
   "source": [
    "## Generalizing to banded matrices\n",
    "\n",
    "As we have seen, approximating derivatives to higher order of accuracy and approximating derivatives of order greater than two requires more than three nodes, but the locations needed are all close to the ones where the derivative is being approximated.\n",
    "For example, the simplest symmetric approximation of the fourth derivative $D^4 f(x)$ used values from $f(x-2h)$ to $f(x+2h)$.\n",
    "Then row $i$ of the corresponding matrix has all its non-zero elements at locations $(i,i-2)$ to $(i, i+2)$: the non-zero elements lie in the narrow \"band\" where $|i - j| \\leq 2$, and thus on five \"central\" diagonals.\n",
    "\n",
    "This is a **penta-digonal matrix**, and an example of the larger class of **banded matrices**: ones in which all the non-zero elements have indices $ -p \\leq j - i \\leq q$ for $p$ and $q$ smaller than $n$ — usually far smaller; $p = q = 2$ for a penta-digonal matrix."
   ]
  },
  {
   "cell_type": "markdown",
   "metadata": {},
   "source": [
    "Let us recap the general Doolittle algorithm for computing an LU factorization:"
   ]
  },
  {
   "cell_type": "markdown",
   "metadata": {},
   "source": [
    "```{prf:algorithm} Doolittle algorithm for computing an LU factorization\n",
    ":label: dolittle-general\n",
    "\n",
    "*The top row is unchanged:*\n",
    "<br>\n",
    "`for j from 1 to n`\n",
    "<br>\n",
    "$\\quad$ $u_{1,j} = a_{1,j}$\n",
    "<br>\n",
    "`end`\n",
    "<br>\n",
    "*The left column requires no sums:*\n",
    "<br>\n",
    "`for i from 2 to n`\n",
    "<br>\n",
    "$\\quad$ $l_{i,1} = a_{i,1}/u_{1,1}$\n",
    "<br>\n",
    "`end`\n",
    "<br>\n",
    "<br>\n",
    "*The main loop:*\n",
    "`for k from 2 to n`\n",
    "<br>\n",
    "$\\quad$ `for j from k to n`\n",
    "<br>\n",
    "$\\quad\\quad$ $u_{k,j} = a_{k,j} - \\sum_{s=1}^{k-1} l_{k,s}u_{s,j}$\n",
    "<br>\n",
    "$\\quad$ `end`\n",
    "<br>\n",
    "$\\quad$ `for i from k+1 to n`\n",
    "<br>\n",
    "$\\quad\\quad$ $l_{i,k} = \\left( a_{i,k} - \\sum_{s=1}^{k-1} l_{i,s}u_{s,k} \\right)/u_{k,k}$\n",
    "<br>\n",
    "$\\quad$ `end`\n",
    "<br>\n",
    "`end`\n",
    "```"
   ]
  },
  {
   "cell_type": "markdown",
   "metadata": {},
   "source": [
    "### Eliminating redundant calculation in the above\n",
    "\n",
    "With a banded matrix, many of the entries at right are zero, particularly in the two sums, which is where most of the operations are.\n",
    "Thus we can rewrite, exploiting the fact that all elements with indices $j-i < -p$ or $j-i > q$ are zero.\n",
    "To start with, the top diagonal is not modified, as already noted for the tridiagonal case: $u_{k,k+q} = a_{k,k+q}$ for $1 \\leq k \\leq n-q$."
   ]
  },
  {
   "cell_type": "markdown",
   "metadata": {},
   "source": [
    "```{prf:algorithm} LU factorization of a banded matrix\n",
    ":label: lu-banded\n",
    "\n",
    "*The top row is unchanged:*\n",
    "<br>\n",
    "`for j from 1 to 1+q`\n",
    "<br>\n",
    "$\\quad$ $u_{1,j} = a_{1,j}$\n",
    "<br>\n",
    "`end`\n",
    "<br>\n",
    "*The top non-zero diagonal is unchanged:*\n",
    "<br>\n",
    "`for k from 1 to n - q`\n",
    "<br>\n",
    "$\\quad$ $u_{k,k+q} = a_{k,k+q}$\n",
    "<br>\n",
    "`end`\n",
    "<br>\n",
    "*The left column requires no sums:*\n",
    "<br>\n",
    "`for i from 2 to 1+p`\n",
    "<br>\n",
    "$\\quad$ $l_{i,1} = a_{i,1}/u_{1,1}$\n",
    "<br>\n",
    "`end`\n",
    "<br>\n",
    "*The main loop:*\n",
    "<br>\n",
    "`for k from 2 to n`\n",
    "<br>\n",
    "$\\quad$ `for j from k to min(n, k+q-1)`\n",
    "<br>\n",
    "$\\quad\\quad$ $u_{k,j} = a_{k,j} - \\displaystyle\\sum_{s=max(1, k-p, j-q)}^{k-1} l_{k,s}u_{s,j}$\n",
    "<br>\n",
    "$\\quad$ `end`\n",
    "<br>\n",
    "$\\quad$ `for i from k+1 to min(n,k+p-1)`\n",
    "<br>\n",
    "$\\quad\\quad$ $l_{i,k} = \\left( a_{i,k} - \\displaystyle\\sum_{s=max(1,i-p,k-q)}^{k-1} l_{i,s}u_{s,k} \\right)/u_{k,k}$\n",
    "<br>\n",
    "$\\quad$ `end`\n",
    "<br>\n",
    "`end`\n",
    "```"
   ]
  },
  {
   "cell_type": "markdown",
   "metadata": {},
   "source": [
    "It is common for a banded matrix to have equal band-width on either side, $p=q$, as with tridiagonal and pentadiagonal matrices.\n",
    "Then the algorithm is somewhat simpler:"
   ]
  },
  {
   "cell_type": "markdown",
   "metadata": {},
   "source": [
    "```{prf:algorithm} LU factorization of a banded matrix, $p=q$\n",
    ":label: lu-banded-symmetric\n",
    "\n",
    "*The top row is unchanged:*\n",
    "<br>\n",
    "`for j from 1 to 1+p`\n",
    "<br>\n",
    "$\\quad$ $u_{1,j} = a_{1,j}$\n",
    "<br>\n",
    "`end`\n",
    "<br>*The top non-zero diagonal is unchanged:*<br>\n",
    "`for k from 1 to n - p`\n",
    "<br>\n",
    "$\\quad$ $u_{k,k+p} = a_{k,k+p}$\n",
    "<br>\n",
    "`end`\n",
    "<br>\n",
    "*The left column requires no sums:*\n",
    "<br>\n",
    "`for i from 2 to 1+p`\n",
    "<br>\n",
    "$\\quad$ $l_{i,1} = a_{i,1}/u_{1,1}$\n",
    "<br>\n",
    "`end`\n",
    "<br>\n",
    "<br>\n",
    "*The main loop:*\n",
    "<br>\n",
    "`for k from 2 to n`\n",
    "<br>\n",
    "$\\quad$ `for j from k to min(n, k+p-1)`\n",
    "<br>\n",
    "$\\quad\\quad$ $u_{k,j} = a_{k,j} - \\displaystyle\\sum_{s=max(1, j-p)}^{k-1} l_{k,s}u_{s,j}$\n",
    "<br>\n",
    "$\\quad$ `end`\n",
    "<br>\n",
    "$\\quad$ `for i from k+1 to min(n,k+p)`\n",
    "<br>\n",
    "$\\quad\\quad$ $l_{i,k} = \\left( a_{i,k} - \\displaystyle\\sum_{s=max(1,i-p)}^{k-1} l_{i,s}u_{s,k} \\right)/u_{k,k}$\n",
    "<br>\n",
    "$\\quad$ `end`\n",
    "<br>\n",
    "`end`\n",
    "```"
   ]
  },
  {
   "cell_type": "markdown",
   "metadata": {},
   "source": [
    "## Strict diagonal dominance helps again\n",
    "\n",
    "These algorithms for banded matrices do no pivoting, and that is highly desirable, because pivoting creates non-zero elements outside the \"band\" and so can force one back to the general algorithm.\n",
    "Fortunately, we have seen one case where this is fine: the matrix being either row-wise or column-wise strictly diagonally dominant."
   ]
  }
 ],
 "metadata": {
  "kernelspec": {
   "display_name": "Julia 1.8.1",
   "language": "julia",
   "name": "julia-1.8"
  },
  "language_info": {
   "file_extension": ".jl",
   "mimetype": "application/julia",
   "name": "julia",
   "version": "1.8.1"
  }
 },
 "nbformat": 4,
 "nbformat_minor": 4
}
