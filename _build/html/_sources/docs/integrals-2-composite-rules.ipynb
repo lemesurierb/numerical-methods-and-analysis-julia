{
 "cells": [
  {
   "cell_type": "markdown",
   "metadata": {},
   "source": [
    "# Definite Integrals, Part 2: The Composite Trapezoid and Midpoint Rules"
   ]
  },
  {
   "cell_type": "markdown",
   "metadata": {},
   "source": [
    "**References:**\n",
    "\n",
    "- Section 5.2.3 and 5.2.4 of Chapter 5 *Numerical Differentiation and Integration* in {cite}`Sauer`.\n",
    "- Section 4.4 *Composite Numerical Integration* of {cite}`Burden-Faires`."
   ]
  },
  {
   "cell_type": "markdown",
   "metadata": {},
   "source": [
    "## Introduction\n",
    "\n",
    "The \"elementary\" integral approximations of the definite integral\n",
    "\n",
    "$$ I = \\int_a^b f(x) \\, dx $$\n",
    "\n",
    "seen in the previous section\n",
    "the Trapzoid Rule\n",
    "\n",
    "$$T_1 = \\int_a^b L(x) \\, dx = \\frac{f(a) + f(b)}{2} (b-a) $$\n",
    "\n",
    "and the Midpoint Rule\n",
    "\n",
    "$$M_1 =  f \\left(\\frac{a+b}{2}\\right)(b-a)$$\n",
    "\n",
    "are of course of very low accuracy in themselves.\n",
    "They are however central building blocks for various more accurate methods and also for some good methods for numerical solution of differential equations.\n",
    "\n",
    "The basic strategy for improving accuracy is to derive the domain of integration $[a, b]$ into numerous smaller intervals, and use these rules on each such sub-interval: the *composite* rules.\n",
    "\n",
    "In turn, the most straightforward way to do this is to use $n$ sub-intervals of equal width $h = (b-a)/n$, so that the sub-interval endpoints are $x_0 = a + ih$, $0 \\leq i \\leq n$: that is\n",
    "\n",
    "sub-intervals $[x_{i-1}, x_i]$, $1 \\leq i \\leq n$ separated by the nodes.\n",
    "\n",
    "$$a, a+h, a+2h, \\dots, b-h, b$$"
   ]
  },
  {
   "cell_type": "markdown",
   "metadata": {},
   "source": [
    "### The Composite Midpoint Rule\n",
    "\n",
    "Using the Midpoint Rule on each interval and summing gives a formula that could be familiar:"
   ]
  },
  {
   "cell_type": "markdown",
   "metadata": {},
   "source": [
    "$$\n",
    "\\begin{split}\n",
    "M_n &:= f \\left( \\frac{x_0+x_1}{2}\\right)h + f \\left(\\frac{x_1+x_2}{2}\\right)h + \\cdots + f \\left( \\frac{x_{n-1}+x_n}{2}\\right)h\n",
    "\\\\\n",
    "&= f \\left(\\frac{a+(a+h)}{2}\\right)h +  f \\left(\\frac{(a+h) + (a+2h)}{2}\\right)h + \\cdots + f \\left(\\frac{(b-h)+b}{2}\\right)h\n",
    "\\\\\n",
    "&= \\left[ f(a+h/2) + f(a+3h/2) + \\cdots + f(b-h/2) \\right] h\n",
    "\\end{split}\n",
    "$$"
   ]
  },
  {
   "cell_type": "markdown",
   "metadata": {},
   "source": [
    "This is a *Riemann Sum* as used in the definition of the defnite integral; possibly the best and natural one in most situations, by using the midpoints of each interval.\n",
    "The theory of definite integrals also guarantees that $M_n \\to I$ as $n \\to \\infty$ so long as the function $f$ is continuous — the next question for us will be \"how fast?*"
   ]
  },
  {
   "cell_type": "markdown",
   "metadata": {},
   "source": [
    "### The Composite Trapezoid Rule\n",
    "\n",
    "Using the Tapezoid Rule on each interval instead gives"
   ]
  },
  {
   "cell_type": "markdown",
   "metadata": {},
   "source": [
    "$$\n",
    "\\begin{split}\n",
    "T_n &:= \\frac{f(x_0) + f(x_1)}{2} h + \\frac{f(x_1) + f(x_2)}{2} h + \\cdots + \\frac{f(x_{n-1}) + f(x_n)}{2} h\n",
    "\\\\\n",
    "&:= \\frac{f(a + f(a+h)}{2} h + \\frac{f(a+h + f(a+2h)}{2} h + \\cdots + \\frac{f(b-h) + f(b)}{2} h\n",
    "\\\\\n",
    "&= \\left[ \\frac{f(a)}{2} + f(a+h) + f(a+2h) + \\cdots + f(b-h) +  \\frac{f(b)}{2} \\right] h\n",
    "\\end{split}\n",
    "$$"
   ]
  },
  {
   "cell_type": "markdown",
   "metadata": {},
   "source": [
    "This is also a Riemann sum, with intervals if length $h/2$ at each end, using value at teh ends of thos intervals, and the rest of width $h$, with the Midpoint Rule used.\n",
    "So again, we know that $T_n \\to I$ as $n \\to \\infty$ and next want to know \"how fast?*"
   ]
  },
  {
   "cell_type": "markdown",
   "metadata": {},
   "source": [
    "### Accuracy and Error Formulas\n",
    "\n",
    "In brief, the errors for ech of rhese rules is the sum of the errors for each of the pieces;\n",
    "I will just state them for now.\n",
    "\n",
    "Firstly,"
   ]
  },
  {
   "cell_type": "markdown",
   "metadata": {},
   "source": [
    "$$ I - M_n= \\sum_{i=1}^n \\frac{h^3}{24}f''(\\xi_i), \\quad \\text{ for some } \\xi_i \\in [x_{i-1}, x_i] $$"
   ]
  },
  {
   "cell_type": "markdown",
   "metadata": {},
   "source": [
    "This can be rewitten as\n",
    "\n",
    "$$ I - M_n= \\frac{h^3}{24} \\sum_{i=1}^n f''(\\xi_i) $$\n",
    "\n",
    "and as we will see, this sum can have each $f''(\\xi_i)$ replace by an \"average value\" $f''(\\xi_i)$, $\\xi \\in[a, b]$:\n",
    "\n",
    "$$\n",
    "I - M_n= \\frac{h^3}{24} \\sum_{i=1}^n f''(\\xi) = \\frac{h^3}{24} n f''(\\xi) = \\frac{h^2}{24} (b-a) f''(\\xi)\n",
    "$$\n",
    "\n",
    "and the most important conclusion for now is that\n",
    "\n",
    "$$\n",
    "I - M_n = O(h^2)\n",
    "$$"
   ]
  },
  {
   "cell_type": "markdown",
   "metadata": {},
   "source": [
    "Similarly,\n",
    "\n",
    "$$\n",
    "I - T_n = - \\frac{h^2}{12} (b-a) f''(\\xi) = O(h^2)\n",
    "$$\n",
    "\n",
    "again with $\\xi \\in[a, b]$, but note well: these two $\\xi$ values are probably not the same!"
   ]
  },
  {
   "cell_type": "markdown",
   "metadata": {},
   "source": [
    "## Cancelling Some Error Terms: The Composite Simpson's Rule\n",
    "\n",
    "Ignoring the $\\xi$ values being different, this suggests again that we can cancel some of the errors wi ha weighted average:\n",
    "\n",
    "$$ S_{2n} := \\frac{2M_n + T_n}{3} $$\n",
    "\n",
    "Indeed we will see that the main, $O(h^2)$, errors cancel out, and also due to symmetry, the error is even in $h$, so that\n",
    "\n",
    "$$I - S_{2n}= O(h^4)$$\n",
    "\n",
    "The name is because this is the *Composite Simpson's Rule*, and the interleaving of the different $x$ values used by $M_n$ and $T_n$ means that is uses $2n+1$ nodes, and so $2n$ sub-intervals."
   ]
  },
  {
   "cell_type": "markdown",
   "metadata": {},
   "source": [
    "### The Missing Step: A Generalized Mean Value Theorem\n",
    "\n",
    "A key step in getting more useful error formulas for approximations of integrals is the following result:"
   ]
  },
  {
   "cell_type": "markdown",
   "metadata": {},
   "source": [
    "```{prf:theorem} Generalized Mean Value Theorem\n",
    ":label: generalized-mean-value-theorem\n",
    "\n",
    "For any continuous function $f$ on an interval $[a, b]$ and any collection of points $x_i \\in [a,b]$, $1 \\leq i \\leq n$,\n",
    "there is a point $\\xi \\in [a,b]$ for which\n",
    "\n",
    "$$ f(c) = \\frac{\\sum_{i=1}^n f(x_i)}{n}, \\text{ so } \\sum_{i=1}^n f(x_i) = n f(c) $$\n",
    "\n",
    "That is, the value of the function at $c$ is the average of its values at those other points.\n",
    "```\n",
    "```{prf:proof}\n",
    "The proof is rather similar to that of {prf:ref}`The Integral Mean Value Theorem <integral-mean-value-theorem>`\n",
    "in the previous section; essentially replacing the integral there by a sum:\n",
    "\n",
    "As $f$ is continuous on the closed, bounded interval $[a, b]$, the **Extreme Value Theorem** from calculus says that $f$ has a minimum $L$ and a maximum $H$ on this interval.\n",
    "Each of the values $f(x_i)$ is in interval $[L, H]$ so their average is also:\n",
    "\n",
    "$$ f(x_i) \\in [L, H] \\quad \\text{and thus} \\quad \\frac{\\sum_{i=1}^n f(x_i)}{n} \\in [L, H] $$\n",
    "\n",
    "The **Mean Value Theorem** then says that $f$ attains this mean value for some $\\xi \\in [L, H]$.\n",
    "```"
   ]
  },
  {
   "cell_type": "markdown",
   "metadata": {},
   "source": [
    "### Completing the derivation of the error formulas for these composite rules\n",
    "\n",
    "I will spell this out for the Composite Trapezoid Rule; it works very similarly for the \"midpoint\" case.\n",
    "\n",
    "First, break the exact integral up as\n",
    "\n",
    "$$ I = \\int_a^b f(x) \\, dx = \\sum_{i=1}^n I^{(i)}, \\quad \\text{where} \\quad I^{(i)} = \\int_{x_{i-1}}^{x_i} f(x) \\, dx $$\n",
    "\n",
    "Similarly,\n",
    "\n",
    "$$ T_n = \\sum_{i=1}^n T^{(i)} $$\n",
    "\n",
    "where each $T^{(i)}$ is the Trapezoid Rule approximation of $I^{(i)}$:\n",
    "\n",
    "$$T^{(i)} = \\frac{f(x_{i-1}) + f(x_i)}{2} h$$\n"
   ]
  },
  {
   "cell_type": "markdown",
   "metadata": {},
   "source": [
    "The error in $T_n$ is the sum of the errors in each piece:\n",
    "\n",
    "$$\n",
    "\\begin{split}\n",
    "I - T_n\n",
    "&= \\sum_{i=1}^n I^{(i)} - \\sum_{i=1}^n T^{(i)}\n",
    "\\\\&= \\sum_{i=1}^n ( I^{(i)} - T^{(i)} )\n",
    "\\\\&= \\sum_{i=1}^n -\\frac{h^3}{12} f''(\\xi_i), \\quad x_i \\in [x_{i-1}, x_i]\n",
    "\\\\&= -\\frac{h^3}{12} \\sum_{i=1}^n f''(\\xi_i)\n",
    "\\end{split}\n",
    "$$\n",
    "\n",
    "Now we can use the above mean value result (with $f''$ in place of $f$) to replace the last sum above by\n",
    "$n f''(\\xi)$, some $\\xi \\in [a, b]$, so that as claimed,\n",
    "\n",
    "$$I - T_n = -\\frac{h^3}{12} n f''(\\xi), = -\\frac{h^2}{12} (b-a) f''(\\xi) = O(h^2),$$\n",
    "\n",
    "using $h n = b-a$."
   ]
  },
  {
   "cell_type": "markdown",
   "metadata": {},
   "source": [
    "### Another error formula, useful for Richardson Extrapolation\n",
    "\n",
    "Starting from\n",
    "\n",
    "$$\n",
    "I - T_n = -\\frac{h^3}{12} \\sum_{i=1}^n f''(\\xi_i), = -\\frac{h^2}{12} \\sum_{i=1}^n ( f''(\\xi_i) h)\n",
    "$$\n",
    "\n",
    "note that the sum in the second version is a Riemann sum for approximating the integral\n",
    "\n",
    "$$I'' := \\int_a^b f''(x) \\, dx, = [f'(x)]_a^b = f'(b) - f'(a),$$\n",
    "\n",
    "so it seems that\n",
    "\n",
    "$$\n",
    "I - T_n \\approx -\\frac{f'(b) - f'(a)}{12} h^2, = O(h^2)\n",
    "$$\n",
    "\n",
    "A virtue of this form is that now we have a good chance of evaluating the coefficient of $h^2$,\n",
    "so this given a \"practical error formula\" when $f'(x)$ is known."
   ]
  },
  {
   "cell_type": "markdown",
   "metadata": {},
   "source": [
    "Another useful fact (not proven in these notes) is that the error for the basic Trapezoid rule can be computed with the help of Taylor's Theorem in a series:\n",
    "\n",
    "$$\n",
    "T_1 = \\int_a^b f(x) \\, dx = B_2 D^2f(\\xi_2) h^3 + B_4 D^4(\\xi_4) h^5 + \\cdots\n",
    "$$\n",
    "\n",
    "(where $B_2 = 1/12$ as seen above).\n",
    "\n",
    "Putting the higher power terms into the above argument one can get\n",
    "\n",
    "$$\n",
    "\\begin{split}\n",
    "T_n &= \\int_a^b f(x) \\, dx + B_2 [Df(b) - Df(a)] h^2 + B_4 [D^3f(b) - D^3f(a)] h^4 + \\cdots + B_{2k} [D^{2k-1}f(b) - D^{2k-1}f(a)] h^{2k} + \\cdots\n",
    "\\\\\n",
    "&= O(h^2) + O(h^4) + \\cdots +  O(h^{2k})\n",
    "\\end{split}\n",
    "$$\n",
    "\n",
    "so that\n",
    "\n",
    "$$\n",
    "T_n = \\int_a^b f(x) \\,dx + \\frac{Df(b) - Df(a)}{12} h^2 + O(h^4)\n",
    "$$"
   ]
  },
  {
   "cell_type": "markdown",
   "metadata": {},
   "source": [
    "The last form is the setup for Richardson extrapolation —\n",
    "and the previous one with a succession of \"big-O\" terms is the setup for *repeated* Richardson extrapolation,\n",
    "to get a succession of approximations with errors $O(h^2)$, then $O(h^4)$, then $O(h^6)$, and so on:\n",
    "{doc}`integrals-4-romberg-integration`"
   ]
  },
  {
   "cell_type": "markdown",
   "metadata": {},
   "source": [
    "There are similar formulas for the Composite Midpoint Rule, like\n",
    "\n",
    "$$\n",
    "I - M_n = \\frac{h^2}{24} (b-a) f''(\\xi) = \\frac{Df(b) - Df(a)}{24} h^2 + O(h^4)\n",
    "$$\n",
    "\n",
    "but we will see why the Composite Trapezoid Rule is far more useful for Richardson extrapolation."
   ]
  },
  {
   "cell_type": "markdown",
   "metadata": {},
   "source": [
    "<a name=\"Composite-Left-hand-Rule\"></a>\n",
    "## Appendix: The Composite Left-hand Endpoint Rule, and its Error\n",
    "\n",
    "The Composite Left-hand Endpoint Rule with $n$ sub-intervals of equal width $h = (b-a)/n$ is\n",
    "\n",
    "$$L_n = \\sum_{i=0}^{n-1} f(x_i) h, \\; = \\sum_{i=0}^{n-1} f(a + i h) h$$\n",
    "\n",
    "To study its errors, start as with the Compound Trapezoid Rule: break the integral up as\n",
    "\n",
    "$$ I = \\int_a^b f(x) \\, dx = \\sum_{i=1}^n I^{(i)}, \\quad \\text{where} \\quad I^{(i)} = \\int_{x_{i-1}}^{x_i} f(x) \\, dx $$\n",
    "\n",
    "and the approximation as\n",
    "\n",
    "$$ L_n = \\sum_{i=1}^n L^{(i)} $$\n",
    "\n",
    "where each $L^{(i)}$ is the Left-hand Endpoint Rule approximation of $I^{(i)}$:\n",
    "\n",
    "$$L^{(i)} = f(x_{i-1}) h$$"
   ]
  },
  {
   "cell_type": "markdown",
   "metadata": {},
   "source": [
    "Then the error in $L_n$ is again the sum of the errors in each piece:\n",
    "\n",
    "$$\n",
    "\\begin{split}\n",
    "I - L_n\n",
    "&= \\sum_{i=1}^n I^{(i)} - \\sum_{i=1}^n L^{(i)}\n",
    "\\\\&= \\sum_{i=1}^n ( I^{(i)} - L^{(i)} )\n",
    "\\\\&= \\sum_{i=1}^n \\frac{h^2}{2} f'(\\xi_i), \\quad x_i \\in [x_{i-1}, x_i]\n",
    "\\\\&= \\frac{h^2}{2} \\sum_{i=1}^n f'(\\xi_i)\n",
    "\\end{split}\n",
    "$$\n",
    "\n",
    "\n",
    "The Generalized Mean Value Theorem — now with $f'$ in place of $f$ — allows us to replace the last sum above by\n",
    "$n f'(\\xi)$, some $\\xi \\in [a, b]$, so that as claimed,\n",
    "\n",
    "$$I - L_n = \\frac{h^2}{2} n f'(\\xi), = \\frac{h}{2} (b-a) f'(\\xi) = O(h)$$"
   ]
  },
  {
   "cell_type": "markdown",
   "metadata": {},
   "source": [
    "```{prf:remark}\n",
    "\n",
    "As with the Composite Trapezoid Rule, one can also get\n",
    "\n",
    "$$ L_n = \\int_a^b f(x) \\,dx + \\frac{f(b) - f(a)}{2} h + O(h^2) $$\n",
    "```"
   ]
  }
 ],
 "metadata": {
  "kernelspec": {
   "display_name": "Python 3 (ipykernel)",
   "language": "python",
   "name": "python3"
  },
  "language_info": {
   "codemirror_mode": {
    "name": "ipython",
    "version": 3
   },
   "file_extension": ".py",
   "mimetype": "text/x-python",
   "name": "python",
   "nbconvert_exporter": "python",
   "pygments_lexer": "ipython3",
   "version": "3.9.12"
  }
 },
 "nbformat": 4,
 "nbformat_minor": 4
}
