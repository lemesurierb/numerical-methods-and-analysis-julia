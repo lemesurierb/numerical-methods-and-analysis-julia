{
 "cells": [
  {
   "cell_type": "markdown",
   "id": "161e6df1-8c7d-4057-8778-cafde26b7924",
   "metadata": {},
   "source": [
    "# Minimization"
   ]
  },
  {
   "cell_type": "markdown",
   "id": "34f2cdf4-ba88-43f4-8207-5fc9e7d49391",
   "metadata": {},
   "source": [
    "% **TO DO:** Write a brief chapter introduction"
   ]
  },
  {
   "cell_type": "markdown",
   "id": "e0f44d18-baa0-4a60-96a9-0d93222382bb",
   "metadata": {},
   "source": [
    "**References:**\n",
    "\n",
    "- {cite}`Sauer` Section 13.1 *Unconstrained Otimization without Derivatives*.\n",
    "- {cite}`Chenney-Kincaid`, Chapter 13 *Minimization of Functions*."
   ]
  }
 ],
 "metadata": {
  "kernelspec": {
   "display_name": "Julia 1.8.1",
   "language": "julia",
   "name": "julia-1.8"
  },
  "language_info": {
   "file_extension": ".jl",
   "mimetype": "application/julia",
   "name": "julia",
   "version": "1.8.1"
  }
 },
 "nbformat": 4,
 "nbformat_minor": 5
}
