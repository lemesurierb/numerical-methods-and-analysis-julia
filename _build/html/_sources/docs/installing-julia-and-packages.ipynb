{
 "cells": [
  {
   "cell_type": "markdown",
   "id": "acf6ed56-b06f-40ca-be2c-6a3459e8e6dd",
   "metadata": {},
   "source": [
    "# Installing Julia and some useful add-ons"
   ]
  },
  {
   "cell_type": "markdown",
   "id": "9f6bc2af-1f98-4ecf-8ca0-9d604cd65128",
   "metadata": {},
   "source": [
    "```{prf:remark} TO DO\n",
    ":label: to-do-Installing\n",
    "Reformat using package prf.\n",
    "```"
   ]
  },
  {
   "cell_type": "markdown",
   "id": "21526136-7b66-47d3-9d3f-0fd2233c1c15",
   "metadata": {},
   "source": [
    "To use Julia with the code and notebook in this book, there are several steps:\n",
    "1. [Install the Julia language itself](#installingjulia)\n",
    "1. Make Julia usable in notebooks\n",
    "    1. [Install Anaconda](#installinganaconda), which contains the JupyerLab notebook tool.\n",
    "    1. [Enable use of Julia from within JupyerLab](#enablingjuliainjupyterlab).\n",
    "1. [Install a few additional packages](#addingpackages)\n",
    "(Step 3 can be done before step 2.)"
   ]
  },
  {
   "cell_type": "markdown",
   "id": "8a4e2701-a797-4710-bd32-777960a17b30",
   "metadata": {},
   "source": [
    "<a name=\"installingjulia\"></a>\n",
    "## Installing Julia\n",
    "\n",
    "Get it from the [Julia download site](https://julialang.org/downloads/)."
   ]
  },
  {
   "cell_type": "markdown",
   "id": "bf342f39-3d53-409e-acb5-be0db845fd06",
   "metadata": {},
   "source": [
    "<a name=\"installinganaconda\"></a>\n",
    "## Installing Anaconda (for Jupyterlab)\n",
    "\n",
    "First, [download the installer from www.anaconda.com](https://www.anaconda.com/products/distribution/).\n",
    "This page should detect your OS and hardware type (i.e. x86 or Apple silicon) and point you to the appropriate version.\n",
    "If not, click the logo for your OS below and select from the list.\n",
    "\n",
    "Installation (at least on macOS) might best be done by deviating from the default, which is to install for the current user only, inside your file space (in cse I supose you do not have admin pvivileges to put it elsewhere.)\n",
    "If instead you want it available to all users in the standard place,\n",
    "select \"Install on a specific disk\" and then navigate to the appropriate folder."
   ]
  },
  {
   "cell_type": "markdown",
   "id": "8d4d570a-4a4d-4cc5-b50d-f1c50777c6aa",
   "metadata": {},
   "source": [
    "<a name=\"enablingjuliainjupyterlab\"></a>\n",
    "## Enabling Julia in JupyterLab\n",
    "\n",
    "This is done by [adding package \"IJulia\"](#enablingjuliainjupyterlabforreal), so read on."
   ]
  },
  {
   "cell_type": "markdown",
   "id": "instrumental-conditioning",
   "metadata": {},
   "source": [
    "<a name=\"addingpackages\"></a>\n",
    "## Adding some useful Julia packages\n",
    "\n",
    "The following `Pkg.add` commands should only need to be done \"once per computer\";\n",
    "each one requires first making `Pkg` available with"
   ]
  },
  {
   "cell_type": "code",
   "execution_count": null,
   "id": "smooth-fault",
   "metadata": {},
   "outputs": [],
   "source": [
    "using Pkg"
   ]
  },
  {
   "cell_type": "markdown",
   "id": "f858aeb3-0ef3-4b6f-9f4c-cff6d45774d3",
   "metadata": {},
   "source": [
    "All these commands can be done with the basic Julia comand line tool installed as\n",
    "[above](#installingjulia); alternativel once `IJulia` is installed, they can be run from a notebook; for example by running this one."
   ]
  },
  {
   "cell_type": "markdown",
   "id": "bff4ec3d-67a7-42ae-8807-397e065a3438",
   "metadata": {},
   "source": [
    "<a name=\"enablingjuliainjupyterlabforreal\"></a>\n",
    "### Package \"IJulia\", which enables Julia in JupyterLab\n",
    "\n",
    "This adds the option of creating and using Jupyter notebooks that use Julia to the basic option of Python;\n",
    "it also adds the option of opening a Julia console as a tab inside JupyterLab, for running Julia commands interactively."
   ]
  },
  {
   "cell_type": "code",
   "execution_count": null,
   "id": "74d89f52-dd59-43fe-8b55-b5230c7dc41a",
   "metadata": {},
   "outputs": [],
   "source": [
    "Pkg.add(\"IJulia\")"
   ]
  },
  {
   "cell_type": "markdown",
   "id": "40f6e087-4cd5-43c6-b25c-0ba624380cf5",
   "metadata": {},
   "source": [
    "<a name=\"pyplot\"></a>\n",
    "### Use an interface to the Python package Matplotlib.pyplot"
   ]
  },
  {
   "cell_type": "code",
   "execution_count": null,
   "id": "62f69d22-3339-4a38-b9f4-e185887aaac5",
   "metadata": {},
   "outputs": [],
   "source": [
    "Pkg.add(\"PyPlot\")"
   ]
  },
  {
   "cell_type": "markdown",
   "id": "b52821ae-633a-4570-a352-7fb22779e238",
   "metadata": {},
   "source": [
    "Deployed in a particular notebook or Julia session with"
   ]
  },
  {
   "cell_type": "code",
   "execution_count": null,
   "id": "bc585284-10c3-4227-83c5-7de2546b27f8",
   "metadata": {},
   "outputs": [],
   "source": [
    "using PyPlot"
   ]
  },
  {
   "cell_type": "markdown",
   "id": "ae695e13-2500-48c5-914b-9957cdfc04f7",
   "metadata": {},
   "source": [
    "### Allow LaTeX notation in creating strings, using prefix \"L\".\n",
    "\n",
    "For example L\"y = \\cos(x^2)\" gives $y = \\cos(x^2)$"
   ]
  },
  {
   "cell_type": "code",
   "execution_count": null,
   "id": "ae02488a-7403-4b17-8424-ee6949725505",
   "metadata": {},
   "outputs": [],
   "source": [
    "Pkg.add(\"LaTeXStrings\")"
   ]
  },
  {
   "cell_type": "markdown",
   "id": "a891e63c-c542-4eed-86c8-5d7a968ff62e",
   "metadata": {},
   "source": [
    "Deployed with"
   ]
  },
  {
   "cell_type": "code",
   "execution_count": null,
   "id": "67eb5b00-20bf-4d83-a407-d3178277eca9",
   "metadata": {},
   "outputs": [],
   "source": [
    "using LaTeXStrings"
   ]
  },
  {
   "cell_type": "markdown",
   "id": "d19d7063-ec8e-44ea-9d56-4957a8fef2fb",
   "metadata": {},
   "source": [
    "### Add some random number stuff"
   ]
  },
  {
   "cell_type": "code",
   "execution_count": null,
   "id": "cf2bec44-762f-430b-a0cb-8be164810ab0",
   "metadata": {},
   "outputs": [],
   "source": [
    "Pkg.add(\"Random\")"
   ]
  },
  {
   "cell_type": "markdown",
   "id": "afab2861-54c8-4709-980f-905e82706df1",
   "metadata": {},
   "source": [
    "Deploy with"
   ]
  },
  {
   "cell_type": "code",
   "execution_count": null,
   "id": "73471355-ffc7-4f13-90bf-2eae6b3bee8d",
   "metadata": {},
   "outputs": [],
   "source": [
    "using Random"
   ]
  }
 ],
 "metadata": {
  "kernelspec": {
   "display_name": "Julia 1.8.1",
   "language": "julia",
   "name": "julia-1.8"
  },
  "language_info": {
   "file_extension": ".jl",
   "mimetype": "application/julia",
   "name": "julia",
   "version": "1.8.1"
  }
 },
 "nbformat": 4,
 "nbformat_minor": 5
}
