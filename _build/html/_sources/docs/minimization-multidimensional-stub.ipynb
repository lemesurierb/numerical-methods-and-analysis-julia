{
 "cells": [
  {
   "cell_type": "markdown",
   "metadata": {},
   "source": [
    "# Finding the Minimum of a Function of Several Variables — Coming Soon"
   ]
  },
  {
   "cell_type": "markdown",
   "metadata": {},
   "source": [
    "**References:**\n",
    "\n",
    "- Chapter 13 *Optimization* of {cite}`Sauer`, in particular sub-sections 13.2.2 *Stepest Descent* and 13.1.3 *Nelder-Mead*.\n",
    "- Chapter 11 *Optimization* of {cite}`Chenney-Kincaid`."
   ]
  },
  {
   "cell_type": "markdown",
   "metadata": {},
   "source": [
    "## Introduction\n",
    "\n",
    "This future section will focus on two methods for computing the minimum (and its location) of a function $f(x, y, \\dots)$ of several variables:\n",
    "- *Steepest Descent* where the gradient is used iteratively to find the direction in which to search for a nw approxiate lovaitoi wher $f$ has a lower value.\n",
    "- The method of Nelder and Mead, which does not use derivatives."
   ]
  }
 ],
 "metadata": {
  "kernelspec": {
   "display_name": "Python 3 (ipykernel)",
   "language": "python",
   "name": "python3"
  },
  "language_info": {
   "codemirror_mode": {
    "name": "ipython",
    "version": 3
   },
   "file_extension": ".py",
   "mimetype": "text/x-python",
   "name": "python",
   "nbconvert_exporter": "python",
   "pygments_lexer": "ipython3",
   "version": "3.9.12"
  }
 },
 "nbformat": 4,
 "nbformat_minor": 4
}
