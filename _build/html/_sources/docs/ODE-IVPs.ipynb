{
 "cells": [
  {
   "cell_type": "markdown",
   "id": "161e6df1-8c7d-4057-8778-cafde26b7924",
   "metadata": {},
   "source": [
    "# Initial Value Problems for Ordinary Differential Equations"
   ]
  },
  {
   "cell_type": "markdown",
   "id": "600589f4-a371-4500-a36d-bf658fffe01f",
   "metadata": {},
   "source": [
    "% **TO DO:** Expand this chapter introduction—but no sections!"
   ]
  },
  {
   "cell_type": "markdown",
   "id": "3405dd0c-32e1-4207-ab8a-cbe3e4dedf6b",
   "metadata": {},
   "source": [
    "**References:**\n",
    "\n",
    "- {cite}`Sauer` Chapter 6 *Ordinary Differential Equations*.\n",
    "- {cite}`Burden-Faires` Chapter 5 *Initial-Value Problems for Ordinary Differential Equations*.\n",
    "- {cite}`Chenney-Kincaid` Chapter 7, *Initial-Value Problems*, Sections 2 to 5.\n",
    "- {cite}`Kincaid-Chenney` Chapter 8, *Numerical Solution of Ordinary Differential Equations*, Sections 0 to 6."
   ]
  },
  {
   "cell_type": "markdown",
   "id": "1a2fbd43-b208-4d69-9aaf-400556528a50",
   "metadata": {},
   "source": [
    "Before introducing various numerical methods for computing approximate solutions to ODEs, a quick of the basic concepts and some examples that will be used as test cases througout the chapter."
   ]
  }
 ],
 "metadata": {
  "kernelspec": {
   "display_name": "Julia 1.8.1",
   "language": "julia",
   "name": "julia-1.8"
  },
  "language_info": {
   "file_extension": ".jl",
   "mimetype": "application/julia",
   "name": "julia",
   "version": "1.8.1"
  }
 },
 "nbformat": 4,
 "nbformat_minor": 5
}
