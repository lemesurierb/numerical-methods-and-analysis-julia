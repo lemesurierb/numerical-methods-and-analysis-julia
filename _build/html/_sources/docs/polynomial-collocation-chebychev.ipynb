{
 "cells": [
  {
   "cell_type": "markdown",
   "metadata": {
    "tags": []
   },
   "source": [
    "# Choosing the collocation points: the Chebyshev method\n",
    "\n",
    "Co-authored with Stephen Roberts of the Australian National University."
   ]
  },
  {
   "cell_type": "markdown",
   "metadata": {},
   "source": [
    "**References:**\n",
    "\n",
    "- Section 3.1 *Data and Interpolating Functions* in {cite}`Sauer`.\n",
    "- Section 3.1 *Interpolation and the Lagrange Polynomial* in {cite}`Burden-Faires`.\n",
    "- Section 4.2 of {cite}`Chenney-Kincaid`.\n",
    "- Section 6.1 of {cite}`Kincaid-Chenney`."
   ]
  },
  {
   "cell_type": "markdown",
   "metadata": {},
   "source": [
    "In some situations, one can choose the points $x_i$ to use in polynomial collocations (these points are also called the **nodes**) and a natural\n",
    "objective is to minimise the worst case error over some interval $[a,b]$ on which the approximation is to be used.\n",
    "As discussed previously, the best one can do in most cases is to minimise the maximum absolute value of the polynomial $w_{n+1}(x) := \\prod_{i=0}^n (x-x_i)$ arising in the error formula."
   ]
  },
  {
   "cell_type": "markdown",
   "metadata": {},
   "source": [
    "The intuitive idea of using equally spaced points is not optimal as $w_{n+1}$\n",
    "reaches considerably larger values between the outermost pairs of nodes than\n",
    "elsewhere. Better intuition suggests that moving the nodes a bit closer in\n",
    "these regions of large error will reduce the maximum error there while not\n",
    "increasing it too much elsewhere,and reduce the maximum error. Further it\n",
    "would seem that this strategy is possible so long as the maximum amplitude\n",
    "in some of the intervals between the nodes is larger than others: the\n",
    "endpoints $a$ and $b$ need not be nodes so there are $n+2$ such intervals."
   ]
  },
  {
   "cell_type": "markdown",
   "metadata": {},
   "source": [
    "This suggests the conjecture that the smallest possible maximum amplitude of \n",
    "$w_{n+1}(x)$ on an interval $[a,b]$ will be obtained for a set of nodes such\n",
    "that $|w_{n+1}(x)|$ takes it maximum value $n+2$ times, once in each of the\n",
    "interval separated by the nodes. Indeed this is true, and the nodes\n",
    "achieving this result are the so-called **Chebyshev points**</a>, given by the simple formula\n",
    "\n",
    "$$\n",
    "\\frac{a+b}{2} + \\frac{b-a}{2}\\cos \\left( \\frac{2i+1}{2n+2}\\pi\\right), \\qquad 0 \\leq i \\leq n\n",
    "$$ (chebychev-nodes)"
   ]
  },
  {
   "cell_type": "markdown",
   "metadata": {},
   "source": [
    "To understand this result, consider the case where the interval of interest\n",
    "is $[-1,1]$, so that these special nodes are $\\cos \\left( \\frac{2i+1}{2n+2}%\n",
    "\\pi \\right) $ The general case then follows by using the change of variables \n",
    "$x=(a+b)/2+t(b-a)/2$. The reason that this works is that these are the roots\n",
    "of the function\n",
    "\\begin{equation}\n",
    "T_{n+1}(x):=\\cos ((n+1)\\cos ^{-1}x)\n",
    "\\end{equation}\n",
    "which turns out to be a polynomial of degree $n+1$ that takes its maximum\n",
    "absolute value of 1 at the $n+2$ points\n",
    "$\\cos \\left( \\frac i{n+1}\\pi \\right),0\\leq i\\leq n+1$."
   ]
  },
  {
   "cell_type": "markdown",
   "metadata": {},
   "source": [
    "There are a number of claims here: most are simple consequences of the\n",
    "definition and what is known about the roots and extreme values of cosine.\n",
    "The one surprising fact is that $T_n(x)$ is a polynomial of degree $n$,\n",
    "known as a **Chebyshev polynomial**.\n",
    "The notation comes from an old transliteration, Tchebychev, of this Russian name.\n",
    "\n",
    "This can be checked by induction. The first few cases are easy to check: $%\n",
    "T_0(x)=1$, $T_1(x)=x$ and $T_2(x)=\\cos 2\\theta =2\\cos ^2\\theta -1=2x^2-1$.\n",
    "In general, let $\\theta =\\cos ^{-1}x$ so that $\\cos \\theta =x$. Then\n",
    "trigonometric identities give\n",
    "\\begin{eqnarray*}\n",
    "T_{n+1}(x) &=&\\cos (n+1)\\theta \\\\\n",
    "&=&\\cos n\\theta \\cos \\theta -\\sin n\\theta \\sin \\theta \\\\\n",
    "&=&T_n(x)x-\\sin n\\theta \\sin \\theta\n",
    "\\end{eqnarray*}\n",
    "and similarly \n",
    "\\begin{eqnarray*}\n",
    "T_{n-1}(x) &=&\\cos (n-1)\\theta \\\\\n",
    "&=&\\cos n\\theta \\cos \\theta +\\sin n\\theta \\sin \\theta \\\\\n",
    "&=&T_n(x)x+\\sin n\\theta \\sin \\theta\n",
    "\\end{eqnarray*}"
   ]
  },
  {
   "cell_type": "markdown",
   "metadata": {},
   "source": [
    "Thus $T_{n+1}(x)+T_{n-1}(x)=2xT_n(x)$ or \n",
    "\\begin{equation}\n",
    "T_{n+1}(x)=2xT_n(x)-T_{n-1}(x) \n",
    "\\end{equation}\n",
    "\n",
    "Since $T_0$ and $T_1$ are known to be polynomials, the same follows for each\n",
    "successive $n$ from this formula. The induction also shows that \n",
    "\\begin{equation*}\n",
    "T_n(x)=2^{n-1}x^n+\\quad \\text{terms involving lower powers of }x \n",
    "\\end{equation*}\n",
    "so in particular the degree is $n$."
   ]
  },
  {
   "cell_type": "markdown",
   "metadata": {},
   "source": [
    "With this information, the error formula can be written in a special form.\n",
    "Firstly $w_{n+1}$ is then a polynomial of degree $n+1$ with the same roots\n",
    "as $T_{n+1}$, so is a multiple of the latter function.\n",
    "Secondly, the leading\n",
    "coefficient of $w_{n+1}$ is 1, compared to $2^{n+1}$ for the Chebyshev polynomial, so $w_{n+1} = T_{n+1}/2^n$. Finally, the maximum of $w_{n+1}$ is seen to be $1/2^n$ and we have the result that"
   ]
  },
  {
   "cell_type": "markdown",
   "metadata": {},
   "source": [
    "````{prf:theorem}\n",
    ":label: error-bound-chebychev-collocation\n",
    "When a polynomial approximation $p(x)$ to a function $f(x)$ on the interval\n",
    "$[-1,1]$ is constructed by collocation at the roots of $T_{n+1}$, the error\n",
    "is bounded by \n",
    "\n",
    "$$|f(x)-p(x)|\\leq \\frac 1{2^n(n+1)!}\\max_{-1\\leq t\\leq 1}|f^{(n+1)}(t)|$$\n",
    "\n",
    "When the interval is $[a,b]$ and the collocation points are the appropriately\n",
    "rescaled Chebychev points as given in {eq}`chebychev-nodes`.\n",
    "\n",
    "$$|f(x)-p(x)|\\leq \\frac{(b-a)^{n+1}}{2^{2n+1}(n+1)!}\\max_{a\\leq x\\leq b}|f^{(n+1)}(x)|$$\n",
    "````"
   ]
  },
  {
   "cell_type": "markdown",
   "metadata": {},
   "source": [
    "This method works well in many cases. Further, it is known that any\n",
    "continuous on any interval $[a,b]$ can be approximated arbitrarily well by\n",
    "polynomials, in the sense that the maximum error over the whole interval can\n",
    "be made as small as one likes [this is the *Weierstrass Approximation\n",
    "Theorem*]. However, collocation at these Chebyshev nodes will not work for\n",
    "all continuous functions: indeed no choice of points will work for all\n",
    "cases, as is made precise in theorem 6 on page 288 of\n",
    "[Kincaid&Chenney](../docs/references.html#Kincaid-Chenney).\n",
    "One way to understand the problem is that the error bound relies on derivatives of ever higher order, so does not even apply to some continuous functions.\n",
    "\n",
    "This suggests a new strategy: break the interval $[a,b]$ into smaller\n",
    "interval, approximate on each interval by a polynomial of some small degree,\n",
    "and join these polynomials together. Hopefully, the errors will only depend\n",
    "on a few derivatives, and so will be more controllable, while using enough\n",
    "nodes and small enough intervals will allow the errors to be made as small\n",
    "as desired. This fruitful idea is dealt with next. "
   ]
  }
 ],
 "metadata": {
  "kernelspec": {
   "display_name": "Julia 1.8.1",
   "language": "julia",
   "name": "julia-1.8"
  },
  "language_info": {
   "file_extension": ".jl",
   "mimetype": "application/julia",
   "name": "julia",
   "version": "1.8.1"
  }
 },
 "nbformat": 4,
 "nbformat_minor": 4
}
