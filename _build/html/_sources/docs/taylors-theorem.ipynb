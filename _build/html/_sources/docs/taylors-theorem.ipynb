{
 "cells": [
  {
   "cell_type": "markdown",
   "metadata": {},
   "source": [
    "# Taylor's Theorem and the Accuracy of Linearization\n",
    "\n",
    "**References:**\n",
    "- Theorem 0.8 in Section 0.5 *Review of Calculus* in {cite}`Sauer`.\n",
    "- Section 1.1 *Review of Calculus* in {cite}`Burden-Faires`, from Theorem 1.14 onward."
   ]
  },
  {
   "cell_type": "markdown",
   "metadata": {
    "tags": []
   },
   "source": [
    "## Taylor's theorem \n",
    "\n",
    "Taylor's theorem is most often stated in the form"
   ]
  },
  {
   "cell_type": "markdown",
   "metadata": {},
   "source": [
    "```{prf:theorem} Taylor's Theorem, with center $a$\n",
    ":label: taylors-theorem-a\n",
    "\n",
    "When all the relevant derivatives exist,\n",
    "\n",
    "$$\\begin{split}\n",
    "f(x) = f(a) &+ f'(a) (x-a) + \\frac12 f''(a) (x-a)^2 \\cdots \\frac{f^{(k)}(a)}{k!} (x-a)^k + \\cdots\n",
    "\\\\\n",
    "            &+ \\frac{f^{(n)}(a)}{n!} (x-a)^n + R_n(x)\n",
    "\\end{split}$$ (taylor-a-x)\n",
    "\n",
    "The polynomial part of this,\n",
    "\n",
    "$$T_n(x) = f(a) + f'(a) + \\cdots \\frac{f^{(k)}(a)}{k!} (x-a)^k + \\cdots + \\frac{f^{(n)}(a)}{n!} (x-a)^n$$ (T_n-a-x)\n",
    "is the **Taylor polynomial of degree $n$ with center $a$ for function $f$**, and the *remainder* is\n",
    "\n",
    "$$R_n(x) = \\frac{f^{(n+1)}(c_x)}{(n+1)!} (x-a)^{n+1}$$ (R_n-a-x)\n",
    "with the value $c_x$ lying between $a$ and $x$, and so depending on $x$.\n",
    "```"
   ]
  },
  {
   "cell_type": "markdown",
   "metadata": {},
   "source": [
    "This gives information about the absolute error in the polynomial $T_n(x)$ as an approximation of $f(x)$:\n",
    "\n",
    "$$| f(x) - T_n(x) | \\leq \\frac{M_{n+1}}{(n+1)!} |x-a|^{n+1}$$\n",
    "\n",
    "where $M_{n+1}$ is the maximum absolute value of $f^{(n+1)}$ over the relevant interval between $a$ and $x$.\n",
    "\n",
    "Of course we typically do not know much about that constant $M_{n+1}$, so often the most important thing is the power law rate $|x-a|^{n+1}$ at which the error reduces as $x$ approaches $a$."
   ]
  },
  {
   "cell_type": "markdown",
   "metadata": {},
   "source": [
    "Taylor polynomials are therefore most useful when the quantity $h := x-a$ is small, and we will most often use them in situations where the limit as $h \\to 0$ is relevant.\n",
    "It is convenient to change the notation a bit, treating $h$ as the variable:"
   ]
  },
  {
   "cell_type": "markdown",
   "metadata": {},
   "source": [
    "```{prf:theorem} Taylor's Theorem, $h$ form\n",
    ":label: taylors-theorem-h\n",
    "\n",
    "When all the relevant derivatives exist,\n",
    "\n",
    "$$T_n(h) = f(a) + f'(a) h + \\cdots \\frac{f^{(k)}(a)}{k!} h^k + \\cdots + \\frac{f^{(n)}(a)}{n!} h^n$$ (T_n-a-h)\n",
    "\n",
    "with this polynomial in $h$ approximating $f(a+h)$ in that\n",
    "\n",
    "$$f(a+h) - T_n(h) = R_n(h) = \\frac{f^{(n+1)}(c_h)}{(n+1)!} h^{n+1} \\text{ with } |c_h - a| < |h|.$$  (R_n-a-h)\n",
    "(Note: $h$ may be negative!)\n",
    "\n",
    "This gives a bound on the absolute error\n",
    "\n",
    "$$| f(a+h) - T_n(h) | \\leq \\frac{M_{n+1}}{(n+1)!} |h|^{n+1}$$ (taylor-error-bound)\n",
    "with\n",
    "\n",
    "$$M_{n+1} := \\max_{|x-a| \\leq |h|} |f^{(n+1)}(x)|$$\n",
    "```"
   ]
  },
  {
   "cell_type": "markdown",
   "metadata": {},
   "source": [
    "## Error formula for linearization\n",
    "\n",
    "A very common use of Taylor's Theorem is the rather simple case $n=1$; *linearization*, to approximate a twice diferentiable function by a linear one.\n",
    "(This will be even more so when we come to system of equations, since the only such systems that we can systematically solve exactly are linear systems.)\n",
    "\n",
    "Taylor's Theorem for the linearization $L(x) = f(a) + f'(a)(x-a)$ of $f$ at $a$ then says that\n",
    "\n",
    "$$f(x) - L(x) = \\frac{f''(c_x)}{2} h^2, \\quad |c_x - a| < |x-a|$$\n",
    "\n",
    "or in terms of $h$,\n",
    "\n",
    "$$\n",
    "f(a+h) = f(a) + f'(a) h + \\frac{f''(c_h)}{2} h^2, \\quad |c_h - a| < |h|\n",
    "$$\n",
    "\n",
    "Thus there is an error bound\n",
    "\n",
    "$$ | f(a+h) - (f(a) + f'(a) h) | \\leq \\frac{M_2}{2} h^2,\n",
    "\\text{ where } M_2 = \\max_{|x-a| < |h|} |f''(x)|$$\n",
    "\n",
    "Of course sometimes it is enough to use the maximum over the whole domain, $M_2 = \\max |f''(x)|$."
   ]
  }
 ],
 "metadata": {
  "kernelspec": {
   "display_name": "Python 3 (ipykernel)",
   "language": "python",
   "name": "python3"
  },
  "language_info": {
   "codemirror_mode": {
    "name": "ipython",
    "version": 3
   },
   "file_extension": ".py",
   "mimetype": "text/x-python",
   "name": "python",
   "nbconvert_exporter": "python",
   "pygments_lexer": "ipython3",
   "version": "3.9.12"
  }
 },
 "nbformat": 4,
 "nbformat_minor": 4
}
