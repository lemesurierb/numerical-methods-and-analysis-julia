{
 "cells": [
  {
   "cell_type": "markdown",
   "metadata": {},
   "source": [
    "# Solving $Ax = b$ With Both Pivoting and LU Factorization"
   ]
  },
  {
   "cell_type": "markdown",
   "metadata": {},
   "source": [
    "**References:**\n",
    "\n",
    "- Section 2.4 *The PA=LU Factorization* of {cite}`Sauer`.\n",
    "- Section 6.5 *Matrix Factorizations* of {cite}`Burden-Faires`.\n",
    "- Section 8.1 *Matrix Factorizations* of {cite}`Chenney-Kincaid`."
   ]
  },
  {
   "cell_type": "markdown",
   "metadata": {},
   "source": [
    "## Introduction\n",
    "\n",
    "The last step in producing an algorithm for solving the general case of $n$ simultaneous linear equations in $n$ variables that is *robust*, *efficient* and with good control of *rounding error* is to combine the ideas of\n",
    "**partial pivoting** from {doc}`linear-equations-2-pivoting`\n",
    "and\n",
    "**LU factorization** from {doc}`linear-equations-3-lu-factorization`.\n",
    "\n",
    "This is sometimes described in three parts:\n",
    "- *permute* (reorder) the rows of the matirx $A$ by multiplying it at left by a suitable *permutation matrix* $P$; one with a single \"1\" in each row and each column and zeros elsewhere;\n",
    "- Get the LU factorization of this matrix: $PA = LU$.\n",
    "- To solve $A x = b$\n",
    "    - Express as $P A x = L U x = P b$ (which just involves computing $Pb$, which reorders the elements of $b$)\n",
    "    - Solve $L c = P b$ for $c$ by forward substitution\n",
    "    - Solve $U x = c$ for $x$ by backward substitution:\n",
    "      as before, this gives $L U x = L c = P b$ and $L U x = P A x$, so $PAx = Pb$;\n",
    "      since a permutation matrix $P$ is invertible (just unravel the row swaps), this ensures that $Ax = b$.\n",
    "\n",
    "This gives a nice formulas in terms of matrices; however we can describe it a bit more compactly and efficiently by just talking about the permutation of the rows, described by a *permutation vector* — an $n$ component vector\n",
    "$\\pi = [\\pi_1, \\pi_2 , \\dots, \\pi_n]$\n",
    "whose elements are the integers from 1 to $n$ in some order.\n",
    "So that is how the algorithm will be described below.\n",
    "\n",
    "(Aside: I use the conventional name $\\pi$ for a permutation vector, partly to distinguish from the notation $p_i$ used for *pivot* rows; however, feel free to use the name $p$ instead, especially in Julia code.)\n",
    "\n",
    "A number of details of this sketch will now be filled in, including the very useful fact that the permutation vector (or matrix) can be contsructed \"on the fly\", as rows are swapped in partial pivoting."
   ]
  },
  {
   "cell_type": "markdown",
   "metadata": {},
   "source": [
    "## Row swapping is all you need\n",
    "\n",
    "Let us look at maximal element partial pivoting, but described in terms of the entries of the factors $L$ and $U$, and updating matrix $A$ with a succession of row swaps.\n",
    "\n",
    "(For now, I omit what happens to the right-hand side vector $b$; that is where the permutation vector $p$ will come in, as addressed below.)\n",
    "\n",
    "What happens if pivoting occurs at some stage $k$, with swapping of row $k$ with a row $p_k > 5$?\n",
    "\n",
    "One might fear that the process has to start again from the top using the modified version of matrix $A$,\n",
    "but in fact all previous work can be reused, just swapping those rows \"everywhere\"."
   ]
  },
  {
   "cell_type": "markdown",
   "metadata": {},
   "source": [
    "### Example: what happens at stage 5 ($k=5$)?\n",
    "\n",
    "To see this with a concrete example consider what happens if at stage $k=5$ we swap rows 5 and 10 of $A$."
   ]
  },
  {
   "cell_type": "markdown",
   "metadata": {},
   "source": [
    "A) Firstly, what happens to matrix $A$?\n",
    "\n",
    "The previous steps of the LU factorization process only involved entries of $A$ in its first four rows and first four columns, and this row swap has no effect of them.\n",
    "Likewise, in row reduction, changes at and below row $k=5$ have no effect on the first four rows of the row reduced form, $U$.\n",
    "\n",
    "Thus, the only change here is to swap the entries of $A$ between rows 5 and 10.\n",
    "What is more, the subsequent calculations only involve columns of index $j=5$ upwards,\n",
    "so in fact we only need to update those entries.\n",
    "This can be written as\n",
    "\n",
    "$$ a_{5, j} \\leftrightarrow a_{10, j}, \\quad 5 \\leq j \\leq n $$\n",
    "\n",
    "Thus if we are working in Julia with $A$ stored in an array, the update is the slice operation\n",
    "\n",
    "    ( A[5, 5:end], A[10, 5:end] ) = ( A[10, 5:end], A[5, 5:end] ) "
   ]
  },
  {
   "cell_type": "markdown",
   "metadata": {},
   "source": [
    "B) Next, look at the work done so far on $U$.\n",
    "\n",
    "That just consists of the previous rows $1 \\leq i \\leq 4$, and the swapping of rows 5 with 10 has no effect up there:\n",
    "\n",
    "*Values already computed in $U$ are unchanged.*"
   ]
  },
  {
   "cell_type": "markdown",
   "metadata": {},
   "source": [
    "C) Finally, look at the work done so far on the multipiers $l_{i,j}$; that is, matrix $L$.\n",
    "\n",
    "The values computed so far are the first four columns of $L$;\n",
    "the multiples $l_{i,j}$, $1 \\leq j \\leq 4$ of row $j$ subtracted from row $i > j$.\n",
    "These _do_ change: for example, the multiple $l_{5,2}$ of row $2$ is now subtracted from what was row 5 but is now row 10: thus, the new value of $l_{10,2}$ is the previous value of $l_{5,2}$.\n",
    "\n",
    "Likewise, the same is true in reverse: the new value of $l_{5,2}$ is the previous value of $l_{10,2}$.\n",
    "This applies for all of the first four rows, so second index $1 \\leq j \\leq 4$:\n",
    "\n",
    "*The entries of $L$ computed so far are swapped between rows 5 and 10, leaving the rest unchanged.*\n",
    "\n",
    "As this is again only for some columns — the first four — the swaps needed are:\n",
    "\n",
    "$$ l_{5, j} \\leftrightarrow l_{10, j}, \\quad 1 \\leq j \\leq 4 $$\n",
    "\n",
    "or in Julia'a slice notation for an array $L$:\n",
    "\n",
    "    ( L[5, 1:4], L[10, 1:4] ) = ( L[10, 1:4], L[5, 1:4] )"
   ]
  },
  {
   "cell_type": "markdown",
   "metadata": {},
   "source": [
    "### The general pattern\n",
    "\n",
    "The example above extends to all stages $k$ of row reduction or computing the LU factorization of a row-permuted version of matrix $A$,\n",
    "where we adjust the pivot element at position $(k, k)$ by first swapping row $k$ with a row $p_k, \\geq k$.\n",
    "(Allowing that sometimes no swap is needed, so that $p_k = k$.)\n",
    "\n",
    "Gathering the key formulas above, this part of the algorithm is"
   ]
  },
  {
   "cell_type": "markdown",
   "metadata": {},
   "source": [
    "```{prf:algorithm}\n",
    ":label: algorithm-plu-fragment\n",
    "for k from 1 to n-1\n",
    "<br>\n",
    "$\\quad$ *Find the pivot row* $p_k, \\geq k$.\n",
    "<br>\n",
    "$\\quad$ if $p_k > k$\n",
    "<br>\n",
    "$\\quad\\quad$ Swap $l_{k, j} \\leftrightarrow l_{p_k, j}, \\quad 1 \\leq j < k $\n",
    "<br>\n",
    "$\\quad\\quad$ Swap $a_{k, j} \\leftrightarrow a_{p_k, j}, \\quad k \\leq j \\leq n $\n",
    "<br>\n",
    "$\\quad$ end\n",
    "<br>\n",
    "end\n",
    "```"
   ]
  },
  {
   "cell_type": "markdown",
   "metadata": {},
   "source": [
    "### Pseudo-code for LU factorization with row swapping (first version)\n",
    "\n",
    "Here I also adopt slice notation; for example, $a_{k, k:n}$ denotes the slice $[a_{k, k} \\dots a_{k, n}]$.\n",
    "\n",
    "```{prf:algorithm} LU factorization with row swapping, I\n",
    ":label: algorithm-plu-1\n",
    "\n",
    "for k from 1 to n\n",
    "<br>\n",
    "$\\quad$ *Find the pivot element:*\n",
    "<br>\n",
    "$\\quad$ $p = k$  $\\quad$ *(p will be the index of the pivot row)*\n",
    "<br>\n",
    "$\\quad$ for i from k+1 to n\n",
    "<br>\n",
    "$\\quad$$\\quad$ if |u_{i, k}| > |u_{p, k}|\n",
    "<br>\n",
    "$\\quad$$\\quad$$\\quad$ p $\\leftarrow$ i\n",
    "<br>\n",
    "$\\quad$$\\quad$ end\n",
    "<br>\n",
    "$\\quad$ end\n",
    "<br>\n",
    "$\\quad$ if p > k $\\quad$ *(Swap rows)*\n",
    "<br>\n",
    "$\\quad$$\\quad$ $l_{k, 1:k-1} \\leftrightarrow l_{p, 1:k-1}$\n",
    "<br>\n",
    "$\\quad$$\\quad$ $a_{k, k:n} \\leftrightarrow a_{p, k:n}$\n",
    "<br>\n",
    "$\\quad$ end\n",
    "<br>\n",
    "$\\quad$ for j from k to n $\\quad$ *(Get the non-zero elements in row $k$ of $U$)*\n",
    "<br>\n",
    "$\\quad\\quad$ $u_{k,j}=a_{k,j}-\\sum_{s=1}^{k-1}l_{k,s}u_{s,j}$\n",
    "<br>\n",
    "$\\quad$ end\n",
    "<br>\n",
    "$\\quad$ for i from k+1 to n $\\quad$ *(Get the non-zero elements in column $k$ of $L$ — except the 1's on its diagonal)*\n",
    "<br>\n",
    "$\\quad\\quad$ $l_{i,k}=\\displaystyle\\frac{a_{i,k}-\\sum_{s=1}^{k-1}l_{i,s}u_{s,k}}{u_{k,k}}$\n",
    "<br>\n",
    "$\\quad$ end\n",
    "<br>\n",
    "end\n",
    "```"
   ]
  },
  {
   "cell_type": "markdown",
   "metadata": {},
   "source": [
    "### But what about the right-hand side, $b$?\n",
    "\n",
    "One thing is missing from this strategy so far:\n",
    "if we are solving with a given right-hand-side column vector $b$, we would also swap its rows at each stage, with\n",
    "\n",
    "$$ b_k \\leftrightarrow b_{p_k} $$\n",
    "\n",
    "but with the LU factorization we need to keep track of these swaps for use later.\n",
    "\n",
    "This turns out to mesh nicely with another detail: we can avoid actually copying array entries around by just keeping track of the order in which we use rows to get zeros in other rows.\n",
    "Our goal will be a permutation vector $\\pi = [\\pi_1, \\pi_2, \\dots \\pi_n]$ which says:\n",
    "\n",
    "- First use row $\\pi_1$ to get zeros in column 1 of the $n-1$ other rows.\n",
    "\n",
    "- Then use row $\\pi_2$ to get zeros in column 2 of the $n-2$ remaining rows.\n",
    "\n",
    "- ..."
   ]
  },
  {
   "cell_type": "markdown",
   "metadata": {},
   "source": [
    "To do this:\n",
    "\n",
    "- first, initialize an array $\\pi = [1, 2, \\dots, n]$\n",
    "\n",
    "- at stage $k$, if the pivot element is in row $p_k \\neq k$, swap the corresponding elements in $\\pi$\n",
    "(rather than swapping entire rows of arrays):\n",
    "\n",
    "$$\\pi_k \\leftrightarrow \\pi_{p_k}$$\n",
    "\n",
    "Introducing the name $A'$ for the new version of matrix $A$,\n",
    "its row $k$ has entries $a'_{k, j} = a_{\\pi_k, j}$."
   ]
  },
  {
   "cell_type": "markdown",
   "metadata": {},
   "source": [
    "This pattern persists through each row swap: instead of computing a succesion of updated versions of matrix $A$,\n",
    "we leave it alone and just change the row indices:\n",
    "\n",
    "*All references to entries of $A$ are now done with permuted row index: $a_{\\pi_i, j}$*\n",
    "\n",
    "The same applies to the array $L$ of multipliers:\n",
    "\n",
    "*All references to entries of $L$ are now done with $l_{\\pi_i, j}$*.\n",
    "\n",
    "Finally, since these row swaps also apply to the right-hand side $b$, we do the same there:\n",
    "\n",
    "*All references to entries of $b$ are now done with $b_{\\pi_i}$*."
   ]
  },
  {
   "cell_type": "markdown",
   "metadata": {},
   "source": [
    "### Pseudo-code for LU factorization with a permutation vector\n",
    "\n",
    "```{prf:algorithm} LU factorization with row swapping, II\n",
    ":label: algorithm-plu-2\n",
    "\n",
    "*Initialize the permutation vector,* $\\pi \\leftarrow [1, 2, \\dots, n]$\n",
    "\n",
    "for k from 1 to n\n",
    "<br>\n",
    "$\\quad$ *Find the pivot element:*\n",
    "<br>\n",
    "$\\quad$ $p \\leftarrow k$  $\\quad$ *(p will be the index of the pivot row)*\n",
    "<br>\n",
    "$\\quad$ for i from k+1 to n\n",
    "<br>\n",
    "$\\quad$$\\quad$ if $|u_{i, k}| > |u_{p, k}|$:\n",
    "<br>\n",
    "$\\quad$$\\quad$$\\quad$ $p \\leftarrow i$\n",
    "<br>\n",
    "$\\quad$$\\quad$ end\n",
    "<br>\n",
    "$\\quad$ if p > k $\\quad$ *(Just swap indices, not rows)*\n",
    "<br>\n",
    "$\\quad$$\\quad$ $\\pi_k \\leftrightarrow \\pi_p$\n",
    "<br>\n",
    "$\\quad$ end\n",
    "<br>\n",
    "$\\quad$ for j from k to n $\\quad$ *(Get the non-zero elements in row $k$ of $U$)*\n",
    "<br>\n",
    "$\\quad\\quad$ $u_{k,j} \\leftarrow a_{k,j}-\\sum_{s=1}^{k-1}l_{k,s}u_{s,j}$\n",
    "<br>\n",
    "$\\quad$ end\n",
    "<br>\n",
    "$\\quad$ for i from k+1 to n $\\quad$ *(Get the non-zero elements in column $k$ of $L$ — except the 1's on its diagonal)*\n",
    "<br>\n",
    "$\\quad\\quad$ $l_{i,k} \\leftarrow \\displaystyle\\frac{a_{i,k}-\\sum_{s=1}^{k-1}l_{i,s}u_{s,k}}{u_{k,k}}$\n",
    "<br>\n",
    "$\\quad$ end\n",
    "<br>\n",
    "end\n",
    "```"
   ]
  },
  {
   "cell_type": "markdown",
   "metadata": {},
   "source": [
    "```{prf:remark}\n",
    ":label: remark-LU-with-P\n",
    "\n",
    "For the version with a permutation matrix $P$, instead:\n",
    "- start with an array $P$ that is the identity matrix, and then\n",
    "- swap its rows $k \\leftrightarrow p_k$ at stage $k$ instead of swapping the entries of $\\pi$ or the rows of $A$ and $L$.\n",
    "```"
   ]
  },
  {
   "cell_type": "code",
   "execution_count": 1,
   "metadata": {},
   "outputs": [],
   "source": [
    "using LinearAlgebra: norm\n",
    "using LinearAlgebra: ⋅  # For the dot product (the centered dot can be typed as \\cdot then tab)"
   ]
  },
  {
   "cell_type": "code",
   "execution_count": 2,
   "metadata": {},
   "outputs": [],
   "source": [
    "include(\"NumericalMethods.jl\")\n",
    "using .NumericalMethods: printmatrix"
   ]
  },
  {
   "cell_type": "code",
   "execution_count": 3,
   "metadata": {},
   "outputs": [],
   "source": [
    "function plu(A; demomode=false)\n",
    "    # Compute the Doolittle PA=LU factorization of A —\n",
    "    # but with the permutation recorded as permutation vector, not as the permutation matrix P.\n",
    "    # Sums like $\\sum_{s=1}^{k-1} l_{k,s} u_{s,j}$ are done as matrix products;\n",
    "    # in the above case, row matrix L[k, 1:k-1] by column matrix U[1:k-1,j] gives the sum for a give j,\n",
    "    # and row matrix L[k, 1:k-1] by matrix U[1:k-1,k:n] gives the relevant row vector.\n",
    "\n",
    "    n = size(A)[1]  # gives the number of rows in the 2D array.\n",
    "    # Julia can use Greek letters (and in fact, UNICODE):\n",
    "    # to insert character π, type \\pi, hit tab, and select \"π\" from the menu.\n",
    "    # Or just call it \"perm\" or such.\n",
    "    π = collect(1:n)\n",
    "    # Julia language note: function \"collect\" converts the abstract entity \"1:n\" into an array of numbers.\n",
    "    \n",
    "    # Initialize U as the zero matrix;\n",
    "    # correct below the main diagonal, with the other entries to be computed below.\n",
    "    U = zeros(n,n)\n",
    "\n",
    "    # Initialize L as zeros;\n",
    "    # correct above the main diagonal, with the other entries to be computed below,\n",
    "    # including the ones on the diagonal.\n",
    "    L = zeros(n,n)\n",
    "\n",
    "    for k in 1:n-1\n",
    "        if demomode; println(\"k=$k\"); end\n",
    "        # Find the pivot element in column k:\n",
    "        pivotrow = k\n",
    "        abs_u_ik_max = abs(A[π[k],k])\n",
    "        for row in k+1:n\n",
    "            abs_u_ik = abs(A[π[row],k])\n",
    "            if abs_u_ik > abs_u_ik_max\n",
    "                pivotrow = row\n",
    "                abs_u_ik_max = abs_u_ik\n",
    "            end\n",
    "        end\n",
    "        if pivotrow > k # swap rows, virtually\n",
    "            if demomode; println(\"Swap row $k with row $pivotrow\"); end\n",
    "            (π[k], π[pivotrow]) = (π[pivotrow], π[k])\n",
    "        else\n",
    "            if demomode; println(\"No row swap needed.\"); end\n",
    "        end\n",
    "        U[k,k:end] = A[[π[k]],k:end] - L[[π[k]],1:k] * U[1:k,k:end]\n",
    "        L[π[k],k] = 1.\n",
    "        for row in k+1:n\n",
    "            L[π[row],k] = ( A[π[row],k] - L[π[row],1:k] ⋅ U[1:k,k] ) / U[k,k]\n",
    "            # Julia note: To enter the centered dot notation for the dot product, type \"\\cdot\" and then hit the tab key.\n",
    "        end\n",
    "        if demomode\n",
    "            println(\"permuted A is:\")\n",
    "            for row in 1:n\n",
    "                println(A[π[row],:])\n",
    "            end\n",
    "            println(\"Intermediate L is\"); printmatrix(L)\n",
    "            println(\"Intermediate U is\"); printmatrix(U)\n",
    "        end\n",
    "    end\n",
    "    # The last row (index \"end\") is special: nothing to do for L except put in the 1 on the \"permuted main diagonal\"\n",
    "    L[π[end],end] = 1.\n",
    "    U[end,end] = A[π[end],end] - L[π[end],1:end-1] ⋅ U[1:end-1,end]\n",
    "    if demomode\n",
    "        println(\"After the final step, k=$(n-1)\")\n",
    "        println(\"L is\"); printmatrix(L)\n",
    "        println(\"U is\"); printmatrix(U)\n",
    "    end\n",
    "    return (L, U, π)\n",
    "end;"
   ]
  },
  {
   "cell_type": "code",
   "execution_count": 4,
   "metadata": {},
   "outputs": [
    {
     "name": "stdout",
     "output_type": "stream",
     "text": [
      "A is\n",
      "[ 1.0 -3.0 22.0 \n",
      "  3.0 5.0 -6.0 \n",
      "  4.0 235.0 7.0 ]\n",
      "k=1\n",
      "Swap row 1 with row 3\n",
      "permuted A is:\n",
      "[4.0, 235.0, 7.0]\n",
      "[3.0, 5.0, -6.0]\n",
      "[1.0, -3.0, 22.0]\n",
      "Intermediate L is\n",
      "[ 0.25 0.0 0.0 \n",
      "  0.75 0.0 0.0 \n",
      "  1.0 0.0 0.0 ]\n",
      "Intermediate U is\n",
      "[ 4.0 235.0 7.0 \n",
      "  0.0 0.0 0.0 \n",
      "  0.0 0.0 0.0 ]\n",
      "k=2\n",
      "No row swap needed.\n",
      "permuted A is:\n",
      "[4.0, 235.0, 7.0]\n",
      "[3.0, 5.0, -6.0]\n",
      "[1.0, -3.0, 22.0]\n",
      "Intermediate L is\n",
      "[ 0.25 0.3605839416058394 0.0 \n",
      "  0.75 1.0 0.0 \n",
      "  1.0 0.0 0.0 ]\n",
      "Intermediate U is\n",
      "[ 4.0 235.0 7.0 \n",
      "  0.0 -171.25 -11.25 \n",
      "  0.0 0.0 0.0 ]\n",
      "After the final step, k=2\n",
      "L is\n",
      "[ 0.25 0.3605839416058394 1.0 \n",
      "  0.75 1.0 0.0 \n",
      "  1.0 0.0 0.0 ]\n",
      "U is\n",
      "[ 4.0 235.0 7.0 \n",
      "  0.0 -171.25 -11.25 \n",
      "  0.0 0.0 24.306569343065693 ]\n",
      "\n",
      "Function plu gives\n",
      "L=\n",
      "[ 0.25 0.3605839416058394 1.0 \n",
      "  0.75 1.0 0.0 \n",
      "  1.0 0.0 0.0 ]\n",
      "U=\n",
      "[ 4.0 235.0 7.0 \n",
      "  0.0 -171.25 -11.25 \n",
      "  0.0 0.0 24.306569343065693 ]\n",
      "row permution [3, 2, 1]\n",
      "The 'residual' or 'backward error' A-LU is\n",
      "[ 0.0 0.0 0.0 \n",
      "  0.0 0.0 0.0 \n",
      "  0.0 0.0 0.0 ]\n"
     ]
    }
   ],
   "source": [
    "A = [ 1.0  -3.0  22.0 ; 3.0 5.0 -6.0 ; 4.0 235.0 7.0 ]\n",
    "println(\"A is\"); printmatrix(A)\n",
    "(L, U, π) = plu(A, demomode=true)\n",
    "println(\"\\nFunction plu gives\")\n",
    "println(\"L=\"); printmatrix(L)\n",
    "println(\"U=\"); printmatrix(U)\n",
    "println(\"row permution $(π)\")\n",
    "println(\"The 'residual' or 'backward error' A-LU is\"); printmatrix(A - L*U)"
   ]
  },
  {
   "cell_type": "markdown",
   "metadata": {},
   "source": [
    "Matrix $L$ is not actually lower triangular, due to the permutation of its rows,\n",
    "but is still fine for a version of forward substitution, because\n",
    "- row $\\pi_1$ only involves $x_1$ (multiplied by 1) and so can be used to solve for $x_1$\n",
    "- row $\\pi_2$ only involves $x_1$ and $x_2$ (the latter multiplied by 1) and so can be used to solve for $x_2$\n",
    "- ..."
   ]
  },
  {
   "cell_type": "markdown",
   "metadata": {},
   "source": [
    "```{prf:definition} Psychologically [lower] triangular\n",
    ":label: definition-psychologically-triangular\n",
    "\n",
    "A matrix like this — one that is a row-permutation of a [lower] triangular matrix — is called **psychologically [lower] triangular**.\n",
    "(Maybe because it believes itself to be such?)\n",
    "```"
   ]
  },
  {
   "cell_type": "markdown",
   "metadata": {},
   "source": [
    "### Forward and backward substitution with a permutation vector\n",
    "\n",
    "To solve $L c = b$, all one has to change from the formulas for forward substitution seen in the previous section\n",
    "{doc}`linear-equations-3-lu-factorization`\n",
    "is to put the permuted row index $\\pi_i$ in both $L$ and $b$:\n",
    "\n",
    "$$ c_i = b_{\\pi_i} - \\sum_{j=1}^{i-1} l_{\\pi_i,j} c_j,\\; 1 \\leq i \\leq n $$"
   ]
  },
  {
   "cell_type": "code",
   "execution_count": 5,
   "metadata": {},
   "outputs": [],
   "source": [
    "function forwardsubstitution(L, b, π)\n",
    "    # Version 2: with permutation of rows\n",
    "    # Solve L c = b for c, with permutation of the rows of L and of b.\n",
    "    n = length(b)\n",
    "    c = zeros(n)\n",
    "    c[1] = b[π[1]]\n",
    "    for i in 2:n\n",
    "        c[i] = b[π[i]] - L[π[i], 1:i] ⋅ c[1:i]\n",
    "    end\n",
    "    return c\n",
    "end;"
   ]
  },
  {
   "cell_type": "code",
   "execution_count": 6,
   "metadata": {},
   "outputs": [],
   "source": [
    "b = [2.0, 3.0, 4.0];"
   ]
  },
  {
   "cell_type": "code",
   "execution_count": 7,
   "metadata": {},
   "outputs": [
    {
     "name": "stdout",
     "output_type": "stream",
     "text": [
      "c = [4.0, 0.0, 1.0]"
     ]
    }
   ],
   "source": [
    "c = forwardsubstitution(L, b, π)\n",
    "print(\"c = $c\")"
   ]
  },
  {
   "cell_type": "markdown",
   "metadata": {},
   "source": [
    "Then the final step, solving $Ux = b$ for $x$, needs no change, because $U$ had no rows swapped,\n",
    "so we are done; we can import the function `backwardSubstitution` seen previously"
   ]
  },
  {
   "cell_type": "code",
   "execution_count": 8,
   "metadata": {},
   "outputs": [],
   "source": [
    "using .NumericalMethods: backwardsubstitution"
   ]
  },
  {
   "cell_type": "code",
   "execution_count": 9,
   "metadata": {},
   "outputs": [
    {
     "name": "stdout",
     "output_type": "stream",
     "text": [
      "x = [1.0867867867867869, -0.002702702702702703, 0.04114114114114114]\n",
      "The residual r = b - Ax is \n",
      "[0.0, 0.0, 0.0]\n",
      "with maximum norm 0.0\n"
     ]
    }
   ],
   "source": [
    "x = backwardsubstitution(U, c)\n",
    "println(\"x = $x\")\n",
    "Ax = A*x\n",
    "r = b - A*x\n",
    "println(\"The residual r = b - Ax is \\n$r\\nwith maximum norm $(norm(r, Inf))\")"
   ]
  }
 ],
 "metadata": {
  "kernelspec": {
   "display_name": "Julia 1.8.1",
   "language": "julia",
   "name": "julia-1.8"
  },
  "language_info": {
   "file_extension": ".jl",
   "mimetype": "application/julia",
   "name": "julia",
   "version": "1.8.1"
  }
 },
 "nbformat": 4,
 "nbformat_minor": 4
}
