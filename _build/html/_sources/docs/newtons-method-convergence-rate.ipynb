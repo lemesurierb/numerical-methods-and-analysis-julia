{
 "cells": [
  {
   "cell_type": "markdown",
   "metadata": {},
   "source": [
    "The Convergence Rate of Newton's Method\n",
    "=======================================\n",
    "\n",
    "**References:**\n",
    "- Section 1.4.1 *Quadratic Convergence of Newton's Method* in {cite}`Sauer`.\n",
    "- Theorem 2.9 in Section 2.4 *Error Analysis of Iterative Methods* in {cite}`Burden-Faires`, but done quite differently."
   ]
  },
  {
   "cell_type": "markdown",
   "metadata": {},
   "source": [
    "Jumping to the punch line, we will see that when the iterates $x_k$ given by Newton's method converge to a *simple root* $r$\n",
    "(that is, *a solution of $f(r) = 0$ with $f'(r) \\neq 0$*)\n",
    "then the errors $E_k = x_k - r$ satisfy\n",
    "\n",
    "$$E_{k+1} = O(E_k^2) \\text{ and therefore } E_{k+1} = o(E_k)$$\n",
    "\n",
    "In words, the error at each iteration is *of the order of* the square of the previous error, and so is *small of order* the previous error.\n",
    "\n",
    "(Yes, it this a slight abuse of the notation as defined above, but all will become clear and rigorous soon.)"
   ]
  },
  {
   "cell_type": "markdown",
   "metadata": {},
   "source": [
    "The first key step is getting a recursive relationship between consecutive errors $E_k$ and $E_{k+1}$ from the recursion formula for Newton's method,\n",
    "\n",
    "$$x_{k+1} = x_k - \\frac{f(x_k)}{f'(x_k)}.$$"
   ]
  },
  {
   "cell_type": "markdown",
   "metadata": {},
   "source": [
    "Start by subtracting $r$:\n",
    "\n",
    "$$E_{k+1} = x_{k+1} - r = x_k - \\frac{f(x_k)}{f'(x_k)} - r = E_k - \\frac{f(x_k)}{f'(x_k)}$$"
   ]
  },
  {
   "cell_type": "markdown",
   "metadata": {},
   "source": [
    "The other key step is to show that the two terms at right are very close,\n",
    "using the linearization of $f$ at $x_k$ with the error $E_k$ as the small term $h$, and noting that $r = x_k - E_k$:\n",
    "\n",
    "$$0 = f(r) = f(x_k - E_k) = f(x_k) - f'(x_k) E_k + O(E_k^2)$$"
   ]
  },
  {
   "cell_type": "markdown",
   "metadata": {},
   "source": [
    "Solve for $f(x_k)$ to insert into the numerator above:\n",
    "$f(x_k) = f'(x_k) E_k + O(E_k^2)$.\n",
    "(There is no need for a minus sign on that last term; big-O terms can be of either sign, and this new one is a different but still small enough quantity!)"
   ]
  },
  {
   "cell_type": "markdown",
   "metadata": {},
   "source": [
    "Inserting above,\n",
    "\n",
    "$$\n",
    "E_{k+1} = E_k - \\frac{f'(x_k) E_k + O(E_k^2)}{f'(x_k)} = E_k - E_k + \\frac{O(E_k^2)}{f'(x_k)} = \\frac{O(E_k^2)}{f'(x_k)} \\to \\frac{O(e_k^2)}{f'(r)} = O(E_k^2)\n",
    "$$"
   ]
  },
  {
   "cell_type": "markdown",
   "metadata": {},
   "source": [
    "As $k \\to \\infty$, $f'(E_k) \\to f'(r) \\neq 0$, so the term at right is still no larger than a multiple of $E_k^2$:\n",
    "it is $O(E_k^2)$, as claimed."
   ]
  },
  {
   "cell_type": "markdown",
   "metadata": {},
   "source": [
    "If you wish to verify this more carefully, note that\n",
    "\n",
    "- this $O(E_k^2)$ term is no bigger than $\\frac{M}{2} E_k^2$ where $M$ is an upper bound on $|f''(x)|$, and\n",
    "\n",
    "- once $E_k$ is small enough, so that $x_k$ is close enough to $r$, $|f'(x_k)| \\geq |f'(r)|/2$.\n",
    "\n",
    "Thus the term $\\displaystyle \\frac{O(E_k^2)}{f'(x_k)}$ has magnitude no bigger than\n",
    "$\\displaystyle \\frac{M/2}{|f'(r)|/2} E_k^2 = \\frac{M}{|f'(r)|} E_k^2$,\n",
    "which meets the definition of being of order $E_k^2$."
   ]
  },
  {
   "cell_type": "markdown",
   "metadata": {},
   "source": [
    "A more careful calculation actually shows that\n",
    "\n",
    "$$ \\lim_{k \\to \\infty} \\frac{|E_{k+1}|}{E_k^2} = \\left| \\frac{f''(r)}{2 f'(r)} \\right|, $$\n",
    "\n",
    "which is the way that this result is often stated in texts.\n",
    "For either form, it then easily follows that\n",
    "\n",
    "$$\\lim_{k \\to \\infty} \\frac{|E_{k+1}|}{|E_k|} = 0,$$\n",
    "\n",
    "giving the *super-linear convergence* already seen using the Contraction Mapping Theorem, now restated as $E_{k+1} = o(E_k)$."
   ]
  },
  {
   "cell_type": "markdown",
   "metadata": {},
   "source": [
    "## A Practical error estimate for fast-converging iterative methods\n",
    "\n",
    "One problem for Newton's Method (and many other numerical methods we will see) is that there is not a simple way to get a guaranteed upper bound on the absolute error in an approximation.\n",
    "Our best hope is finding an interval that is guaranteed to contain the solution, as the Bisection Method does,\n",
    "and we can *sometimes* also do that with Newton's Method for a real root.\n",
    "But that approach fails as soon as the solution is a complex number or a vector.\n",
    "\n",
    "Fortunately, when convergnce is \"fast enough\" is some sense, the following *heuristic* or \"rule of thumb\" applies in many cases:\n",
    "\n",
    "*The error in the latest approximation is typically smaller than the difference between the two most recent approximations.*\n",
    "\n",
    "When combined with the *backward error*, this can give a fairly reliable measure of accuracy,\n",
    "and so can serve as a fairly reliable *stopping condition* for the loop in an iterative calculation."
   ]
  },
  {
   "cell_type": "markdown",
   "metadata": {},
   "source": [
    "### When is a fixed point iteration \"fast enough\" for this heuristic?\n",
    "\n",
    "This heuristic can be shown to be reliable in several important cases:\n",
    "\n",
    "````{prf:proposition}\n",
    ":label: proposition-1\n",
    "\n",
    "For the iterations $x_k$ given by a contraction mapping that has $C \\leq 1/2$,\n",
    "\n",
    "$$|E_k| \\leq |x_k - x_{k-1}|,$$\n",
    "or in words *the error in $x_k$ is smaller than the change from $x_{k-1}$ to $x_k$*,\n",
    "so the above guideline is valid.\n",
    "````\n",
    "\n",
    "````{prf:proposition}\n",
    ":label: proposition-2\n",
    "\n",
    "For a super-linearly convergent iteration, eventually $|E_{k+1}|/|E_{k}| < 1/2$,\n",
    "and from that point onwards in the iterations, the above applies again.\n",
    "````\n",
    "\n",
    "I leave verification as an exercise, or if you wish, to discuss in class."
   ]
  }
 ],
 "metadata": {
  "kernelspec": {
   "display_name": "Python 3 (ipykernel)",
   "language": "python",
   "name": "python3"
  },
  "language_info": {
   "codemirror_mode": {
    "name": "ipython",
    "version": 3
   },
   "file_extension": ".py",
   "mimetype": "text/x-python",
   "name": "python",
   "nbconvert_exporter": "python",
   "pygments_lexer": "ipython3",
   "version": "3.9.12"
  }
 },
 "nbformat": 4,
 "nbformat_minor": 4
}
