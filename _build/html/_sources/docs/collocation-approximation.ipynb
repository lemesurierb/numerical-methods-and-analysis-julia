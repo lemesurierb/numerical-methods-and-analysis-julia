{
 "cells": [
  {
   "cell_type": "markdown",
   "id": "161e6df1-8c7d-4057-8778-cafde26b7924",
   "metadata": {},
   "source": [
    "# Polynomial Collocation and Approximation"
   ]
  },
  {
   "cell_type": "markdown",
   "id": "eb5cce21-d4c9-42be-8aef-fa9da5819cc7",
   "metadata": {},
   "source": [
    "% **TO DO:** Write a brief chapter introduction — no sections!"
   ]
  },
  {
   "cell_type": "markdown",
   "id": "22646d71-39e1-4498-a54e-bdb2cfc49040",
   "metadata": {},
   "source": [
    "**References:**\n",
    "\n",
    "- {cite}`Sauer` Chapter 3 *Interpolation*, Sections 1 to 4; Chapter 4 *Least Squares*, Sections 1 and 2.\n",
    "- {cite}`Burden-Faires`, Chapter 3 *Interpolation and Polynomial Approximation*, Sections 1, 2, 3 and 4; Section 8.1.\n",
    "- {cite}`Chenney-Kincaid`, Chapter 4, Sections 1 and 2; Chapter 6, Sections 1 and 2.\n",
    "- {cite}`Kincaid-Chenney`, Chapter 6, Sections 0 to 4 and 8."
   ]
  }
 ],
 "metadata": {
  "kernelspec": {
   "display_name": "Julia 1.8.1",
   "language": "julia",
   "name": "julia-1.8"
  },
  "language_info": {
   "file_extension": ".jl",
   "mimetype": "application/julia",
   "name": "julia",
   "version": "1.8.1"
  }
 },
 "nbformat": 4,
 "nbformat_minor": 5
}
