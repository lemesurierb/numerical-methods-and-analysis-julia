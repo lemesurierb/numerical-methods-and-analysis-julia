{
 "cells": [
  {
   "cell_type": "markdown",
   "id": "connected-better",
   "metadata": {},
   "source": [
    "# Least-squares Fitting to Data: Appendix on The Geometrical Approach"
   ]
  },
  {
   "cell_type": "markdown",
   "id": "entire-hybrid",
   "metadata": {},
   "source": [
    "**References:**\n",
    "\n",
    "- Chapter 4 *Least Squares* of {cite}`Sauer`, sections 1 and 2.\n",
    "- Section 8.1 *Discrete Least Squares Approximation* of {cite}`Burden-Faires`."
   ]
  },
  {
   "cell_type": "markdown",
   "id": "floral-temple",
   "metadata": {},
   "source": [
    "## Introduction\n",
    "\n",
    "We have seen that one common and important approach to approximating data\n",
    "\n",
    "$$(x_i, y_i),\\; 1 \\leq i \\leq N$$\n",
    "\n",
    "by a polynomial $y = p(x)= c_0 + \\cdots c_n x^n$ of degree at most $n$ is to minimize the \"average\" of the errors\n",
    "\n",
    "$$e_i = y_i - f(x_i),$$\n",
    "\n",
    "in the sense of the *root-mean-square error* $E_{RMS} = \\displaystyle \\sqrt{\\sum_{i=1}^N e_i^2}$.\n",
    "Equivalently, we will avoid the square root and just minimize the sum of the squares of the errors:\n",
    "\n",
    "$$E(c_0, c_1, \\dots, c_n) = \\sum_{i=1}^N e_i^2$$"
   ]
  },
  {
   "cell_type": "markdown",
   "id": "likely-trade",
   "metadata": {},
   "source": [
    "## Linear least squares: minimizing RMS error using calculus\n",
    "\n",
    "One way to derive the needed formulas is by seeking the critical point og th abev function via teh $n+1$ equations\n",
    "\n",
    "$$\n",
    "\\frac{\\partial E}{\\partial c_i} =0, \\quad 0 \\leq i \\leq n\n",
    "$$\n",
    "\n",
    "Fortunately these gives a systems of linear equations, and it has a unique solution, thus giving the desired global minimum.\n",
    "\n",
    "However, there is another \"geometrical\" approach, that is also relevant as an introduction to strategies also used for other minimization problems, for example with application to the numerical solutions of boundary value problems for differential equations."
   ]
  },
  {
   "cell_type": "markdown",
   "id": "human-seven",
   "metadata": {},
   "source": [
    "## Linear least squares: minimizing RMS error by minimizing \"Euclidean\" distance with geometry\n",
    "\n",
    "For approximation by a polynomial $y = p(x)= c_0 + \\cdots c_n x^n$,\n",
    "we can think of the data $y_i, 1 \\leq i \\leq N$ as giving a point in $N$-dimensional space $\\mathbb(R)^N$,\n",
    "and the approximations as giving another point with coordinates $\\tilde{y}_i := p(x_i)$.\n",
    "\n",
    "Then the least squares problem is to minimize the Euclidean distance $\\| y - \\tilde{y} \\|_2$.\n",
    "\n",
    "One way to think of this is that we attempt unsuccessfully to solve the collocation equations $p(x_i) = y_i$ as an\n",
    "*over-determined* sytem of $N$ equations in $n+1$ unknowns $A c = y$, where\n",
    "\n",
    "$$\n",
    "A = \n",
    "\\left[\\begin{array}{ccccc}\n",
    "1 & x_1 & x_1^2 & \\dots & x_1^n\n",
    "\\\\\n",
    "1 & x_2 & x_2^2 & \\dots & x_2^n\n",
    "\\\\\n",
    "\\vdots & \\vdots & \\vdots && \\vdots\n",
    "\\\\\n",
    "1 & x_i & x_i^2 & \\dots & x_i^n\n",
    "\\\\\n",
    "\\vdots & \\vdots & \\vdots && \\vdots\n",
    "\\\\\n",
    "1 & x_N & x_N^2 & \\dots & x_N^n\n",
    "\\end{array}\\right]\n",
    "$$\n",
    "\n",
    "so that $Ac$ evaluates the polynomial at all the $x_i$ values."
   ]
  },
  {
   "cell_type": "markdown",
   "id": "consecutive-faith",
   "metadata": {},
   "source": [
    "Now we introduce a key geometrical idea:\n",
    "the possible values of $\\tilde{y} = Ac$ lie in an $(n+1)$-dimensional sub-space or \"hyperplane\" within $\\mathbb{R}^N$,\n",
    "and the point in this hyper-plane closest to $y \\in \\mathbb{R}^N$ is the perpendular projection of the latter point onto this hyper-plane:\n",
    "that is, the error vector $e = y -  \\tilde{y}$ is perpendicular to every vector in the subspace of vectors $Ac'$.\n",
    "Thus,\n",
    "$e \\perp A c'$\n",
    "for every $c' \\in \\mathbb{R}^{n+1}$.\n",
    "\n",
    "Writing this in terms of inner products,\n",
    "\n",
    "$$\n",
    "(y -  \\tilde{y}, A c') = 0 \\quad \\text{for every } c' \\in \\mathbb{R}^{n+1}.\n",
    "$$"
   ]
  },
  {
   "cell_type": "markdown",
   "id": "acting-maine",
   "metadata": {},
   "source": [
    "Recall that $(x, Ay) = (A^Tx, y)$ where $A^T$ is the transpose of $A$:\n",
    "the mirror image with $a^T_{i,j} = a_{j, i}$."
   ]
  },
  {
   "cell_type": "markdown",
   "id": "catholic-exception",
   "metadata": {},
   "source": [
    "Using this gives\n",
    "\n",
    "$$\n",
    "(A^T (y -  \\tilde{y}), c') = 0 \\quad \\text{for every } c' \\in \\mathbb(R)^{n+1}.\n",
    "$$\n",
    "\n",
    "and so the vector at left must be zero: $A^T (y - \\tilde{y})= 0$.\n",
    "\n",
    "Inserting $\\tilde{y} = A c$ gives $A^T y = A^T A c$, so\n",
    "\n",
    "$$M c = A^T y$$\n",
    "\n",
    "where $M := A^T A$"
   ]
  },
  {
   "cell_type": "markdown",
   "id": "innocent-masters",
   "metadata": {},
   "source": [
    "Since here $A$ is $N \\times (n+1)$, $A^T$ is $(n+1) \\times N$,\n",
    "and the product $M$ is an $(n+1) \\times (n+1)$ square matrix.\n",
    "\n",
    "Further calculation shows that in fact\n",
    "\n",
    "$$\n",
    "M = \\left[\\begin{array}{cccc}\n",
    "m_0 & m_1 & \\dots & m_n \\\\\n",
    "m_1 & m_2 & \\dots & m_{n+1} \\\\\n",
    "\\vdots & \\vdots & \\ddots & \\vdots \\\\\n",
    "m_n & m_{n+1} & \\dots & m_{2n}\n",
    "\\end{array}\\right],\n",
    "\\quad m_k = \\sum_{i=1}^N x_i^k\n",
    "$$\n",
    "\n",
    "and the right-hand side is \n",
    "\n",
    "$$\n",
    "A^T y = p = \\left[ p_0, p_1, \\dots,  p_n \\right]^T,\n",
    "\\quad p_k = \\sum_{i=1}^N x_i^k y_i\n",
    "$$\n",
    "\n",
    "so these equations are the same ones $M c = p$ given by the previous calculus derivation."
   ]
  }
 ],
 "metadata": {
  "kernelspec": {
   "display_name": "Julia 1.8.1",
   "language": "julia",
   "name": "julia-1.8"
  },
  "language_info": {
   "file_extension": ".jl",
   "mimetype": "application/julia",
   "name": "julia",
   "version": "1.8.1"
  }
 },
 "nbformat": 4,
 "nbformat_minor": 5
}
