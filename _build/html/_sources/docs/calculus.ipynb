{
 "cells": [
  {
   "cell_type": "markdown",
   "id": "161e6df1-8c7d-4057-8778-cafde26b7924",
   "metadata": {},
   "source": [
    "# Derivatives and Definite Integrals"
   ]
  },
  {
   "cell_type": "markdown",
   "id": "7198216a-f0ab-438f-9eb4-9eca2de66d25",
   "metadata": {},
   "source": [
    "% **TO DO:** Write a brief chapter introduction."
   ]
  },
  {
   "cell_type": "markdown",
   "id": "195ce6fb-f1b9-45bc-bc75-83394defb3e3",
   "metadata": {},
   "source": [
    "**References:**\n",
    "\n",
    "- {cite}`Sauer` Chapter 5 *Numerical Differentiation and Integration*, Sections 1 to 3.\n",
    "- {cite}`Burden-Faires`, Chapter 4 *Numerical Differentiation and Integration*, Sections 1 to 5.\n",
    "- {cite}`Chenney-Kincaid`, Section 4.3; Chapter 5, *Numerical Integration*, Sections 1 to 3.\n",
    "- {cite}`Kincaid-Chenney`, Chapter 7, *Numerical Differentiation and Integration*, Sections 1, 2 and 4."
   ]
  }
 ],
 "metadata": {
  "kernelspec": {
   "display_name": "Julia 1.8.1",
   "language": "julia",
   "name": "julia-1.8"
  },
  "language_info": {
   "file_extension": ".jl",
   "mimetype": "application/julia",
   "name": "julia",
   "version": "1.8.1"
  }
 },
 "nbformat": 4,
 "nbformat_minor": 5
}
