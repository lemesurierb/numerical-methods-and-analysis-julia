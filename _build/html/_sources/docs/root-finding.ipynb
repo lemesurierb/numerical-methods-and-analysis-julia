{
 "cells": [
  {
   "cell_type": "markdown",
   "id": "161e6df1-8c7d-4057-8778-cafde26b7924",
   "metadata": {},
   "source": [
    "# Root-finding"
   ]
  },
  {
   "cell_type": "markdown",
   "id": "1ab97559-9bf3-4611-a77a-205f7d863f1b",
   "metadata": {},
   "source": [
    "% **TO DO:**\n",
    "\n",
    "% - Write a brief chapter introduction — no sections!\n",
    "\n",
    "% - Correct the References"
   ]
  },
  {
   "cell_type": "markdown",
   "id": "a8fc4d51-8e50-4685-b9f9-cd709f1903c1",
   "metadata": {},
   "source": [
    "**References:**\n",
    "\n",
    "- {cite}`Sauer` Chapter 1.\n",
    "- {cite}`Burden-Faires` Chapter 2, Sections 1 to 4.\n",
    "- {cite}`Chenney-Kincaid` Chapter 3.\n",
    "- {cite}`Kincaid-Chenney` Chapter 3, Sections 0 to 4."
   ]
  }
 ],
 "metadata": {
  "kernelspec": {
   "display_name": "Julia 1.8.1",
   "language": "julia",
   "name": "julia-1.8"
  },
  "language_info": {
   "file_extension": ".jl",
   "mimetype": "application/julia",
   "name": "julia",
   "version": "1.8.1"
  }
 },
 "nbformat": 4,
 "nbformat_minor": 5
}
