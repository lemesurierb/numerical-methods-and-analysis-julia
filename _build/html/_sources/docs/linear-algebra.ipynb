{
 "cells": [
  {
   "cell_type": "markdown",
   "id": "161e6df1-8c7d-4057-8778-cafde26b7924",
   "metadata": {},
   "source": [
    "# Linear Algebra and Simultaneous Equations"
   ]
  },
  {
   "cell_type": "markdown",
   "id": "e8e1a5fa-9c8c-4750-a14a-bddcf2307267",
   "metadata": {},
   "source": [
    "% **TO DO:**\n",
    "\n",
    "% - Write a brief chapter introduction — no sections!\n",
    "\n",
    "% - Correct the References"
   ]
  },
  {
   "cell_type": "markdown",
   "id": "75cea81b-4c2e-4aa5-8542-5906fd954b2d",
   "metadata": {},
   "source": [
    "**References:**\n",
    "\n",
    "- {cite}`Sauer` Chapter 2, Sections 1 to 5; Section 12.1.\n",
    "- {cite}`Burden-Faires` Chapter 6; Chapter 7, Sections 1 to 3 and 5; Section 9.3.\n",
    "- {cite}`Chenney-Kincaid` Chapters 2 and 8.\n",
    "- {cite}`Kincaid-Chenney` Chapter 4, Sections 0 to 4 and 6."
   ]
  }
 ],
 "metadata": {
  "kernelspec": {
   "display_name": "Julia 1.8.1",
   "language": "julia",
   "name": "julia-1.8"
  },
  "language_info": {
   "file_extension": ".jl",
   "mimetype": "application/julia",
   "name": "julia",
   "version": "1.8.1"
  }
 },
 "nbformat": 4,
 "nbformat_minor": 5
}
