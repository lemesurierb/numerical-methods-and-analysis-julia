{
 "cells": [
  {
   "cell_type": "markdown",
   "id": "161e6df1-8c7d-4057-8778-cafde26b7924",
   "metadata": {},
   "source": [
    "# Introduction\n",
    "\n",
    "This book addresses the design and analysis of methods for computing numerical values for solutions to mathematical problems.\n",
    "Most often, only accurate approximations are possible rather than exact solutions, so a key mathematical goals is to assess the accuracy of such approximations.\n",
    "\n",
    "Given that most numerical methods allow any degree of accuracy to be achieved by working hard enough, the next level of analysis is assessing *cost*, or equivalently *speed*, or more generally the *efficiency of resource usage*.\n",
    "The most natural question then is how much time and other resources are needed to achieve a given degree of accuracy."
   ]
  },
  {
   "cell_type": "markdown",
   "id": "9019b2f3-16d0-4ee7-85bf-71a1f3e1475d",
   "metadata": {
    "jp-MarkdownHeadingCollapsed": true,
    "tags": []
   },
   "source": [
    "## Topics\n",
    "\n",
    "The main areas of interest are:\n",
    "1. Finding the zeros of a function: solving $f(x) = 0$.\n",
    "1. Solving systems of simultaneous linear equations; in matrix-vector notation, solving $Ax = b$ for $x$.\n",
    "1. Fitting polynomials to a collection of data points, either exactly (collocation) or approximately (by least-squares).\n",
    "1. Approximating a function by a polynomial, or several polynomials.\n",
    "1. Approximating derivatives and definite integrals.\n",
    "1. Finding the minimum of a function.\n",
    "1. Solving initial value problems for ordinary differential equations.\n",
    "\n",
    "Although it is the last major topic, the numerical solution of differential equations will often be mentioned earlier as a motivation for other topics.\n",
    "However, we start in a simpler setting: the problem of finding the zeros of a real-valued function: solving $f(x) = 0$."
   ]
  },
  {
   "cell_type": "markdown",
   "id": "early-network",
   "metadata": {},
   "source": [
    "## Julia: a New Alternative to Matlab and Python\n",
    "\n",
    "The two dominant dynamic programming language environments for numerical computing and graphics are\n",
    "- the open-source combination of Python with Numpy, Matplotlib, SciPy and other packages, sometime claled *Python Scientific*,\n",
    "and\n",
    "- the older, commercial product Matlab(TM).\n",
    "\n",
    "Though I generally recommend the former, Matlab is long-established, especially in engineering fields, and has advantages in a few respects, like notation for working with matrices and vectors that is cleaner and closer to standard mathematical notation.\n",
    "\n",
    "One more recent innovation is the [Julia language](https://julialang.org/),\n",
    "which for one thing combines many of the virtues of both:\n",
    "- Like Python, it is open source with some nice modern programming language features (some newer and improving on Python),\n",
    "while also being\n",
    "- more compatability in its syntax and notation with existing Matlab code and standard linear algebra notation.\n",
    "- Also, Julia code usually runs faster that either Python or Matlab.\n",
    "\n",
    "P.S. What does *Jupyter* mean?\n",
    "\n",
    "\"JuPyteR\" is a portmanteau of the names of three important modern open-source programming tools for scientific computing:\n",
    "- Julia,\n",
    "- Python,\n",
    "and\n",
    "- R (which is for statistical computing).\n",
    "\n",
    "So in particular, Jupyter notebooks and Jupyter books work fine with Julia, and a Jupyter book can use a mix of different languages in different sections."
   ]
  }
 ],
 "metadata": {
  "kernelspec": {
   "display_name": "Julia 1.8.1",
   "language": "julia",
   "name": "julia-1.8"
  },
  "language_info": {
   "file_extension": ".jl",
   "mimetype": "application/julia",
   "name": "julia",
   "version": "1.8.1"
  }
 },
 "nbformat": 4,
 "nbformat_minor": 5
}
