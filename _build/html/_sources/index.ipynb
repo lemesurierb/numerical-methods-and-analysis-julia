{
 "cells": [
  {
   "cell_type": "markdown",
   "metadata": {
    "tags": []
   },
   "source": [
    "# Preface\n",
    "\n",
    "**Brenton LeMesurier**\n",
    "College of Charleston, Charleston, South Carolina\n",
    "[lemesurierb@cofc.edu](mailto:lemesurierb@cofc.edu),\n",
    "<br>\n",
    "with contributions by Stephen Roberts (Australian National University)\n",
    "\n",
    "**Last revised November 22, 2022**\n",
    "\n",
    "**Recent changes:**\n",
    "\n",
    "- Gathering exercises at the end of each section, with links to them from relevant locations.\n",
    "\n",
    "- Improved formating of definitions, theorems, proofs, examples, remarks, etc.\n",
    "\n",
    "- Created a small bibliography using a BiBTeX file: see https://jupyterbook.org/en/stable/tutorials/references.html\n",
    "\n",
    "- Added a draft section {doc}`docs/piecewise-polynomial-approximation-and-splines`, based on notes by Stephen Roberts.\n",
    "\n",
    "- Added a draft section {doc}`docs/polynomial-collocation-chebychev`, based on notes by Stephen Roberts.\n",
    "\n",
    "- Added notes on the stiff limit $K = D \\gg 1$ of the damped mass-spring system (use this for future stiff-stability examples.)\n",
    "\n",
    "- Expanded the notes on Adams-Bashforth methods, and revised somewhat the notes on leapfrog.\n",
    "\n",
    "- Added first drafts of some sections on multi-step methods: leapfrog, Adams-Bashforth methods and Adams-Moulton methods.\n",
    "\n",
    "This Jupyter book is a sibling of  \"... with Python\",\n",
    "both of which are based on\n",
    "[Elementary Numerical Analysis with Python](http://lemesurierb.people.cofc.edu/elementary-numerical-analysis-python/),\n",
    "my notes for the course *Elementary Numerical Analysis* at the University of Northern Colorado in Spring 2021.)\n",
    "\n",
    "The material is based in part on Jupyter notebooks and other materials for the courses MATH 245, MATH 246, MATH 445 and MATH 545 at the College of Charleston, South Carolina, and MATH 375 at the University of Northern Colorado.\n",
    "\n",
    "**To do:**\n",
    "\n",
    "% - Resize figures: [10,5] and [5,5] looks enough.\n",
    "\n",
    "- Add the basics of boundary value probems for ODEs, with both finite diference and (finite) element mthods.\n",
    "\n",
    "- Positive definiite matrices and the Cholesky factorization.\n",
    "\n",
    "- More on minimization\n",
    "\n",
    "- Predicror-corrector methods for ODE IVP's.\n",
    "\n",
    "- Stability analysis for multi-step methods.\n",
    "\n",
    "- More exercises\n",
    "\n",
    "- Expand the notes on \"Julia for people who know Matlab or Python\", {doc}`docs/julia-language-notes`"
   ]
  },
  {
   "cell_type": "markdown",
   "metadata": {},
   "source": [
    "This is published at\n",
    "http://lemesurierb.people.cofc.edu/introduction-to-numerical-methods-and-analysis-julia/\n",
    "and as PDF at\n",
    "http://lemesurierb.people.cofc.edu/introduction-to-numerical-methods-and-analysis-julia.pdf,\n",
    "and its Python sibling at\n",
    "http://lemesurierb.people.cofc.edu/introduction-to-numerical-methods-and-analysis-python/"
   ]
  },
  {
   "cell_type": "markdown",
   "metadata": {
    "tags": []
   },
   "source": [
    "## About Julia\n",
    "\n",
    "On the topic of programming, this book tries to address two audiences:\n",
    "people who already know Julia (only a basic familiarity is needed),\n",
    "and people who are familiar with either Matlab or \"Python Scientific\" (Python + NumPy + Matplotlib) and are Julia-curious.\n",
    "\n",
    "Julia is designed with a fair degree of backward compatability with Matlab, and NumPy and Matplotlib often mimic Matlab syntax too, so the jump is not so big.\n",
    "\n",
    "To help, there are two appendices\n",
    "- {doc}`docs/installing-julia-and-packages` and\n",
    "- {doc}`docs/julia-language-notes`"
   ]
  },
  {
   "cell_type": "markdown",
   "metadata": {},
   "source": [
    "## Some Further Reading on Numerical Methods and Analysis\n",
    "\n",
    "\n",
    "- {cite}`Sauer` *Numerical Analysis* by Timothy Sauer, 2nd or 3rd edition.\n",
    "- {cite}`Burden-Faires` *Numerical Analysis* by Richard L. Burden and J. Douglas Faires, 9th edition.\n",
    "- {cite}`Chenney-Kincaid` *Numerical Mathematics and Computing* by Ward Chenney and David Kincaid.\n",
    "- {cite}`Kincaid-Chenney` *Numerical Analysis* by David Kincaid and Ward Chenney."
   ]
  },
  {
   "cell_type": "markdown",
   "metadata": {},
   "source": [
    "---\n",
    "This work is licensed under [Creative Commons Attribution-ShareAlike 4.0 International](https://creativecommons.org/licenses/by-sa/4.0/)"
   ]
  }
 ],
 "metadata": {
  "kernelspec": {
   "display_name": "Julia 1.8.1",
   "language": "julia",
   "name": "julia-1.8"
  },
  "language_info": {
   "file_extension": ".jl",
   "mimetype": "application/julia",
   "name": "julia",
   "version": "1.8.1"
  }
 },
 "nbformat": 4,
 "nbformat_minor": 4
}
